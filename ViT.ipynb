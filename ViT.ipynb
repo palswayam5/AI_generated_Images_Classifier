{
  "nbformat": 4,
  "nbformat_minor": 0,
  "metadata": {
    "colab": {
      "provenance": [],
      "gpuType": "T4",
      "mount_file_id": "1znSW3R22VXJaMsAOXKFJqROr5Lig9mvA",
      "authorship_tag": "ABX9TyNuxVIBkMX6jIoosUzfj1L7",
      "include_colab_link": true
    },
    "kernelspec": {
      "name": "python3",
      "display_name": "Python 3"
    },
    "language_info": {
      "name": "python"
    },
    "accelerator": "GPU"
  },
  "cells": [
    {
      "cell_type": "markdown",
      "metadata": {
        "id": "view-in-github",
        "colab_type": "text"
      },
      "source": [
        "<a href=\"https://colab.research.google.com/github/palswayam5/AI_generated_Images_Classifier/blob/master/ViT.ipynb\" target=\"_parent\"><img src=\"https://colab.research.google.com/assets/colab-badge.svg\" alt=\"Open In Colab\"/></a>"
      ]
    },
    {
      "cell_type": "code",
      "execution_count": 40,
      "metadata": {
        "id": "8x9aLVXyOQ4I"
      },
      "outputs": [],
      "source": [
        "import numpy as np\n",
        "import pandas as pd\n",
        "import tensorflow as tf\n",
        "from tensorflow.keras.layers import Dense,LayerNormalization,Dropout,Add,Embedding,MultiHeadAttention,Input,Flatten\n",
        "from tensorflow.keras import Model\n",
        "from tensorflow.image import extract_patches\n",
        "from sklearn.model_selection import train_test_split\n",
        "from sklearn.metrics import f1_score"
      ]
    },
    {
      "cell_type": "code",
      "source": [
        "df = pd.read_csv('/content/drive/MyDrive/Dataset/train.csv')\n",
        "df_test = pd.read_csv('/content/drive/MyDrive/Dataset/test.csv')"
      ],
      "metadata": {
        "id": "97TlBd1dXTNu"
      },
      "execution_count": 2,
      "outputs": []
    },
    {
      "cell_type": "code",
      "source": [
        "df.head()"
      ],
      "metadata": {
        "colab": {
          "base_uri": "https://localhost:8080/",
          "height": 299
        },
        "id": "rmNT9kyPXjBH",
        "outputId": "e883d0b3-ad0a-469c-8740-cd6e19fa16d7"
      },
      "execution_count": 3,
      "outputs": [
        {
          "output_type": "execute_result",
          "data": {
            "text/plain": [
              "   labels       f_0       f_1       f_2       f_3       f_4       f_5  \\\n",
              "0       0 -2.033875  0.978446 -0.142131 -0.177117 -1.470684  1.669562   \n",
              "1       1 -0.348835  0.294815 -0.557577 -2.020773 -1.234715  1.633930   \n",
              "2       1  0.113248 -0.607726 -0.947791  0.830851  0.998291  0.498321   \n",
              "3       0  1.223321 -0.479048 -1.925789  1.680377  0.021840 -1.453307   \n",
              "4       0  0.160109  0.422684 -0.308029  0.227744  0.432854  0.608348   \n",
              "\n",
              "        f_6       f_7       f_8  ...    f_1190    f_1191    f_1192    f_1193  \\\n",
              "0 -0.196530 -0.125239 -0.452284  ... -1.111266  0.716084  0.060039  0.301279   \n",
              "1 -1.680658 -0.358146  0.166122  ...  0.735240  0.829781  1.521941  1.347946   \n",
              "2 -1.493958  0.789572 -1.311018  ...  0.104698  0.616189 -1.035953  2.111387   \n",
              "3  0.605559 -0.019024  1.065448  ...  0.360237 -1.957863 -0.123384  1.505329   \n",
              "4  0.193832  1.035091 -0.538868  ...  0.416629  1.441766  0.212572 -0.994721   \n",
              "\n",
              "     f_1194    f_1195    f_1196    f_1197    f_1198    f_1199  \n",
              "0 -1.174846 -1.076498 -0.069452 -0.604012 -2.179176  0.558003  \n",
              "1  0.754505  1.330642 -0.754453  0.582956  0.252671  1.495870  \n",
              "2 -0.984415  1.148076 -1.433554  0.243372  0.170083  1.274795  \n",
              "3  0.660290 -1.769443 -0.547756 -0.568122  0.244645  0.982116  \n",
              "4  1.143999 -2.166923 -1.199248 -1.028636  0.752791  0.317169  \n",
              "\n",
              "[5 rows x 1201 columns]"
            ],
            "text/html": [
              "\n",
              "  <div id=\"df-881eb45e-37d6-42c7-ae88-b6983a70498c\">\n",
              "    <div class=\"colab-df-container\">\n",
              "      <div>\n",
              "<style scoped>\n",
              "    .dataframe tbody tr th:only-of-type {\n",
              "        vertical-align: middle;\n",
              "    }\n",
              "\n",
              "    .dataframe tbody tr th {\n",
              "        vertical-align: top;\n",
              "    }\n",
              "\n",
              "    .dataframe thead th {\n",
              "        text-align: right;\n",
              "    }\n",
              "</style>\n",
              "<table border=\"1\" class=\"dataframe\">\n",
              "  <thead>\n",
              "    <tr style=\"text-align: right;\">\n",
              "      <th></th>\n",
              "      <th>labels</th>\n",
              "      <th>f_0</th>\n",
              "      <th>f_1</th>\n",
              "      <th>f_2</th>\n",
              "      <th>f_3</th>\n",
              "      <th>f_4</th>\n",
              "      <th>f_5</th>\n",
              "      <th>f_6</th>\n",
              "      <th>f_7</th>\n",
              "      <th>f_8</th>\n",
              "      <th>...</th>\n",
              "      <th>f_1190</th>\n",
              "      <th>f_1191</th>\n",
              "      <th>f_1192</th>\n",
              "      <th>f_1193</th>\n",
              "      <th>f_1194</th>\n",
              "      <th>f_1195</th>\n",
              "      <th>f_1196</th>\n",
              "      <th>f_1197</th>\n",
              "      <th>f_1198</th>\n",
              "      <th>f_1199</th>\n",
              "    </tr>\n",
              "  </thead>\n",
              "  <tbody>\n",
              "    <tr>\n",
              "      <th>0</th>\n",
              "      <td>0</td>\n",
              "      <td>-2.033875</td>\n",
              "      <td>0.978446</td>\n",
              "      <td>-0.142131</td>\n",
              "      <td>-0.177117</td>\n",
              "      <td>-1.470684</td>\n",
              "      <td>1.669562</td>\n",
              "      <td>-0.196530</td>\n",
              "      <td>-0.125239</td>\n",
              "      <td>-0.452284</td>\n",
              "      <td>...</td>\n",
              "      <td>-1.111266</td>\n",
              "      <td>0.716084</td>\n",
              "      <td>0.060039</td>\n",
              "      <td>0.301279</td>\n",
              "      <td>-1.174846</td>\n",
              "      <td>-1.076498</td>\n",
              "      <td>-0.069452</td>\n",
              "      <td>-0.604012</td>\n",
              "      <td>-2.179176</td>\n",
              "      <td>0.558003</td>\n",
              "    </tr>\n",
              "    <tr>\n",
              "      <th>1</th>\n",
              "      <td>1</td>\n",
              "      <td>-0.348835</td>\n",
              "      <td>0.294815</td>\n",
              "      <td>-0.557577</td>\n",
              "      <td>-2.020773</td>\n",
              "      <td>-1.234715</td>\n",
              "      <td>1.633930</td>\n",
              "      <td>-1.680658</td>\n",
              "      <td>-0.358146</td>\n",
              "      <td>0.166122</td>\n",
              "      <td>...</td>\n",
              "      <td>0.735240</td>\n",
              "      <td>0.829781</td>\n",
              "      <td>1.521941</td>\n",
              "      <td>1.347946</td>\n",
              "      <td>0.754505</td>\n",
              "      <td>1.330642</td>\n",
              "      <td>-0.754453</td>\n",
              "      <td>0.582956</td>\n",
              "      <td>0.252671</td>\n",
              "      <td>1.495870</td>\n",
              "    </tr>\n",
              "    <tr>\n",
              "      <th>2</th>\n",
              "      <td>1</td>\n",
              "      <td>0.113248</td>\n",
              "      <td>-0.607726</td>\n",
              "      <td>-0.947791</td>\n",
              "      <td>0.830851</td>\n",
              "      <td>0.998291</td>\n",
              "      <td>0.498321</td>\n",
              "      <td>-1.493958</td>\n",
              "      <td>0.789572</td>\n",
              "      <td>-1.311018</td>\n",
              "      <td>...</td>\n",
              "      <td>0.104698</td>\n",
              "      <td>0.616189</td>\n",
              "      <td>-1.035953</td>\n",
              "      <td>2.111387</td>\n",
              "      <td>-0.984415</td>\n",
              "      <td>1.148076</td>\n",
              "      <td>-1.433554</td>\n",
              "      <td>0.243372</td>\n",
              "      <td>0.170083</td>\n",
              "      <td>1.274795</td>\n",
              "    </tr>\n",
              "    <tr>\n",
              "      <th>3</th>\n",
              "      <td>0</td>\n",
              "      <td>1.223321</td>\n",
              "      <td>-0.479048</td>\n",
              "      <td>-1.925789</td>\n",
              "      <td>1.680377</td>\n",
              "      <td>0.021840</td>\n",
              "      <td>-1.453307</td>\n",
              "      <td>0.605559</td>\n",
              "      <td>-0.019024</td>\n",
              "      <td>1.065448</td>\n",
              "      <td>...</td>\n",
              "      <td>0.360237</td>\n",
              "      <td>-1.957863</td>\n",
              "      <td>-0.123384</td>\n",
              "      <td>1.505329</td>\n",
              "      <td>0.660290</td>\n",
              "      <td>-1.769443</td>\n",
              "      <td>-0.547756</td>\n",
              "      <td>-0.568122</td>\n",
              "      <td>0.244645</td>\n",
              "      <td>0.982116</td>\n",
              "    </tr>\n",
              "    <tr>\n",
              "      <th>4</th>\n",
              "      <td>0</td>\n",
              "      <td>0.160109</td>\n",
              "      <td>0.422684</td>\n",
              "      <td>-0.308029</td>\n",
              "      <td>0.227744</td>\n",
              "      <td>0.432854</td>\n",
              "      <td>0.608348</td>\n",
              "      <td>0.193832</td>\n",
              "      <td>1.035091</td>\n",
              "      <td>-0.538868</td>\n",
              "      <td>...</td>\n",
              "      <td>0.416629</td>\n",
              "      <td>1.441766</td>\n",
              "      <td>0.212572</td>\n",
              "      <td>-0.994721</td>\n",
              "      <td>1.143999</td>\n",
              "      <td>-2.166923</td>\n",
              "      <td>-1.199248</td>\n",
              "      <td>-1.028636</td>\n",
              "      <td>0.752791</td>\n",
              "      <td>0.317169</td>\n",
              "    </tr>\n",
              "  </tbody>\n",
              "</table>\n",
              "<p>5 rows × 1201 columns</p>\n",
              "</div>\n",
              "      <button class=\"colab-df-convert\" onclick=\"convertToInteractive('df-881eb45e-37d6-42c7-ae88-b6983a70498c')\"\n",
              "              title=\"Convert this dataframe to an interactive table.\"\n",
              "              style=\"display:none;\">\n",
              "        \n",
              "  <svg xmlns=\"http://www.w3.org/2000/svg\" height=\"24px\"viewBox=\"0 0 24 24\"\n",
              "       width=\"24px\">\n",
              "    <path d=\"M0 0h24v24H0V0z\" fill=\"none\"/>\n",
              "    <path d=\"M18.56 5.44l.94 2.06.94-2.06 2.06-.94-2.06-.94-.94-2.06-.94 2.06-2.06.94zm-11 1L8.5 8.5l.94-2.06 2.06-.94-2.06-.94L8.5 2.5l-.94 2.06-2.06.94zm10 10l.94 2.06.94-2.06 2.06-.94-2.06-.94-.94-2.06-.94 2.06-2.06.94z\"/><path d=\"M17.41 7.96l-1.37-1.37c-.4-.4-.92-.59-1.43-.59-.52 0-1.04.2-1.43.59L10.3 9.45l-7.72 7.72c-.78.78-.78 2.05 0 2.83L4 21.41c.39.39.9.59 1.41.59.51 0 1.02-.2 1.41-.59l7.78-7.78 2.81-2.81c.8-.78.8-2.07 0-2.86zM5.41 20L4 18.59l7.72-7.72 1.47 1.35L5.41 20z\"/>\n",
              "  </svg>\n",
              "      </button>\n",
              "      \n",
              "  <style>\n",
              "    .colab-df-container {\n",
              "      display:flex;\n",
              "      flex-wrap:wrap;\n",
              "      gap: 12px;\n",
              "    }\n",
              "\n",
              "    .colab-df-convert {\n",
              "      background-color: #E8F0FE;\n",
              "      border: none;\n",
              "      border-radius: 50%;\n",
              "      cursor: pointer;\n",
              "      display: none;\n",
              "      fill: #1967D2;\n",
              "      height: 32px;\n",
              "      padding: 0 0 0 0;\n",
              "      width: 32px;\n",
              "    }\n",
              "\n",
              "    .colab-df-convert:hover {\n",
              "      background-color: #E2EBFA;\n",
              "      box-shadow: 0px 1px 2px rgba(60, 64, 67, 0.3), 0px 1px 3px 1px rgba(60, 64, 67, 0.15);\n",
              "      fill: #174EA6;\n",
              "    }\n",
              "\n",
              "    [theme=dark] .colab-df-convert {\n",
              "      background-color: #3B4455;\n",
              "      fill: #D2E3FC;\n",
              "    }\n",
              "\n",
              "    [theme=dark] .colab-df-convert:hover {\n",
              "      background-color: #434B5C;\n",
              "      box-shadow: 0px 1px 3px 1px rgba(0, 0, 0, 0.15);\n",
              "      filter: drop-shadow(0px 1px 2px rgba(0, 0, 0, 0.3));\n",
              "      fill: #FFFFFF;\n",
              "    }\n",
              "  </style>\n",
              "\n",
              "      <script>\n",
              "        const buttonEl =\n",
              "          document.querySelector('#df-881eb45e-37d6-42c7-ae88-b6983a70498c button.colab-df-convert');\n",
              "        buttonEl.style.display =\n",
              "          google.colab.kernel.accessAllowed ? 'block' : 'none';\n",
              "\n",
              "        async function convertToInteractive(key) {\n",
              "          const element = document.querySelector('#df-881eb45e-37d6-42c7-ae88-b6983a70498c');\n",
              "          const dataTable =\n",
              "            await google.colab.kernel.invokeFunction('convertToInteractive',\n",
              "                                                     [key], {});\n",
              "          if (!dataTable) return;\n",
              "\n",
              "          const docLinkHtml = 'Like what you see? Visit the ' +\n",
              "            '<a target=\"_blank\" href=https://colab.research.google.com/notebooks/data_table.ipynb>data table notebook</a>'\n",
              "            + ' to learn more about interactive tables.';\n",
              "          element.innerHTML = '';\n",
              "          dataTable['output_type'] = 'display_data';\n",
              "          await google.colab.output.renderOutput(dataTable, element);\n",
              "          const docLink = document.createElement('div');\n",
              "          docLink.innerHTML = docLinkHtml;\n",
              "          element.appendChild(docLink);\n",
              "        }\n",
              "      </script>\n",
              "    </div>\n",
              "  </div>\n",
              "  "
            ]
          },
          "metadata": {},
          "execution_count": 3
        }
      ]
    },
    {
      "cell_type": "code",
      "source": [
        "X = df.drop('labels',axis = 1).to_numpy()\n",
        "y = df['labels'].to_numpy()\n",
        "X = X.reshape(-1,20,20,3)\n",
        "y = y.reshape(-1,1)"
      ],
      "metadata": {
        "id": "S1XjQfOxX4nH"
      },
      "execution_count": 4,
      "outputs": []
    },
    {
      "cell_type": "code",
      "source": [
        "X_train,X_val,y_train,y_val = train_test_split(X,y,test_size = 0.2,shuffle = True)"
      ],
      "metadata": {
        "id": "_MjDS_zbYJ3_"
      },
      "execution_count": 5,
      "outputs": []
    },
    {
      "cell_type": "code",
      "source": [
        "print(X_train.shape,y_train.shape,X_val.shape,y_val.shape)"
      ],
      "metadata": {
        "colab": {
          "base_uri": "https://localhost:8080/"
        },
        "id": "WDJwul_bYQp6",
        "outputId": "522a9c44-e422-4b70-d803-b35144ecbae8"
      },
      "execution_count": 6,
      "outputs": [
        {
          "output_type": "stream",
          "name": "stdout",
          "text": [
            "(4200, 20, 20, 3) (4200, 1) (1050, 20, 20, 3) (1050, 1)\n"
          ]
        }
      ]
    },
    {
      "cell_type": "markdown",
      "source": [
        "Variables"
      ],
      "metadata": {
        "id": "c_c-v5ld658t"
      }
    },
    {
      "cell_type": "code",
      "source": [
        "num_layers = 8 #repeating layers in a vision transformer\n",
        "input_shape = (20,20,3)\n",
        "patch_size = 4\n",
        "final_hidden_units = [2048,1024];\n",
        "dropout = 0.2\n",
        "head = 4\n",
        "dim = 64\n",
        "num_patches = (input_shape[0]//patch_size)**2 # here 25\n",
        "num_classes = 2\n",
        "transformer_units = [dim * 2,dim]"
      ],
      "metadata": {
        "id": "-4xo4-2l67-n"
      },
      "execution_count": 7,
      "outputs": []
    },
    {
      "cell_type": "markdown",
      "source": [
        "Multi Layer Perceptron"
      ],
      "metadata": {
        "id": "dwygtdk5_R0T"
      }
    },
    {
      "cell_type": "code",
      "source": [
        "def mlp(x,hidden_units,dropout_rate):   #multi_layer_perceptron\n",
        "   for units in hidden_units:\n",
        "    x =  Dense(units = units)(x)\n",
        "    x = Dropout(dropout_rate)(x)\n",
        "   return x"
      ],
      "metadata": {
        "id": "J7KCgPxbPYkf"
      },
      "execution_count": 27,
      "outputs": []
    },
    {
      "cell_type": "code",
      "source": [
        "def create_patches(image):\n",
        "  batch_size = tf.shape(image)[0]\n",
        "  patches = extract_patches(\n",
        "      images = image,\n",
        "      sizes = [1,patch_size,patch_size,1],\n",
        "      strides = [1,patch_size,patch_size,1],\n",
        "      padding = \"VALID\",\n",
        "      rates = [1,1,1,1],\n",
        "  )\n",
        "  patch_dims = patches.shape[-1]\n",
        "  patches = tf.reshape(patches, [batch_size, -1, patch_dims])\n",
        "  return patches"
      ],
      "metadata": {
        "id": "bTlvmEUoZ9A6"
      },
      "execution_count": 13,
      "outputs": []
    },
    {
      "cell_type": "code",
      "source": [
        "def encode_patches(patches):\n",
        "  positions = tf.range(start=0, limit=num_patches, delta=1)\n",
        "  patches = Dense(units = dim)(patches)\n",
        "  positions = Embedding(input_dim = num_patches,output_dim = dim)(positions)\n",
        "  encoded_patches = patches+positions\n",
        "  return encoded_patches"
      ],
      "metadata": {
        "id": "d-IVbHqP9LUz"
      },
      "execution_count": 18,
      "outputs": []
    },
    {
      "cell_type": "code",
      "source": [
        "def vit_classifier():\n",
        "  input = Input(shape = input_shape)\n",
        "  patches = create_patches(input)\n",
        "  encoded_patches = encode_patches(patches)\n",
        "\n",
        "  for i in range(num_layers):\n",
        "    x = LayerNormalization(epsilon = 1e-6)(encoded_patches)\n",
        "    x1 = MultiHeadAttention(num_heads = head,key_dim = dim,dropout = dropout)(x,x)\n",
        "    x2 = Add()([x1,encoded_patches])\n",
        "    x2 = LayerNormalization(epsilon = 1e-6)(x2)\n",
        "    x3 = mlp(x2,transformer_units,dropout)\n",
        "    encoded_patches = Add()([x3,x2])\n",
        "  x = LayerNormalization(epsilon = 1e-6)(encoded_patches)\n",
        "  x = Flatten()(x)\n",
        "  x = Dropout(dropout)(x)\n",
        "  x = mlp(x,final_hidden_units,dropout)\n",
        "  y = Dense(units = num_classes,activation = \"softmax\")(x)\n",
        "  model = Model(inputs = input,outputs = y)\n",
        "  return model\n",
        ""
      ],
      "metadata": {
        "id": "mNPuTxykQcqJ"
      },
      "execution_count": 34,
      "outputs": []
    },
    {
      "cell_type": "code",
      "source": [
        "model = vit_classifier()"
      ],
      "metadata": {
        "id": "Apf2jxDqNnXx"
      },
      "execution_count": 35,
      "outputs": []
    },
    {
      "cell_type": "code",
      "source": [
        "model.compile(optimizer = 'Adam',loss = 'sparse_categorical_crossentropy',metrics = ['accuracy'])"
      ],
      "metadata": {
        "id": "PoQIounXNrHD"
      },
      "execution_count": 37,
      "outputs": []
    },
    {
      "cell_type": "code",
      "source": [
        "model.fit(X_train,y_train,validation_data = (X_val,y_val),epochs = 10)"
      ],
      "metadata": {
        "colab": {
          "base_uri": "https://localhost:8080/"
        },
        "id": "2AFqApjoOB5p",
        "outputId": "e480436e-56cc-4362-ea45-69d9dbfc12df"
      },
      "execution_count": 39,
      "outputs": [
        {
          "output_type": "stream",
          "name": "stdout",
          "text": [
            "Epoch 1/10\n",
            "132/132 [==============================] - 7s 50ms/step - loss: 2.2405 - accuracy: 0.7293 - val_loss: 0.5484 - val_accuracy: 0.7629\n",
            "Epoch 2/10\n",
            "132/132 [==============================] - 6s 43ms/step - loss: 0.4780 - accuracy: 0.7779 - val_loss: 0.4253 - val_accuracy: 0.7914\n",
            "Epoch 3/10\n",
            "132/132 [==============================] - 6s 43ms/step - loss: 0.4359 - accuracy: 0.8048 - val_loss: 0.4229 - val_accuracy: 0.7733\n",
            "Epoch 4/10\n",
            "132/132 [==============================] - 5s 37ms/step - loss: 0.4515 - accuracy: 0.7940 - val_loss: 0.5077 - val_accuracy: 0.7943\n",
            "Epoch 5/10\n",
            "132/132 [==============================] - 6s 47ms/step - loss: 0.4561 - accuracy: 0.8071 - val_loss: 0.4450 - val_accuracy: 0.8143\n",
            "Epoch 6/10\n",
            "132/132 [==============================] - 5s 42ms/step - loss: 0.4585 - accuracy: 0.8055 - val_loss: 0.5402 - val_accuracy: 0.7410\n",
            "Epoch 7/10\n",
            "132/132 [==============================] - 7s 50ms/step - loss: 0.4653 - accuracy: 0.8002 - val_loss: 0.5866 - val_accuracy: 0.8124\n",
            "Epoch 8/10\n",
            "132/132 [==============================] - 6s 42ms/step - loss: 0.4737 - accuracy: 0.8055 - val_loss: 0.5671 - val_accuracy: 0.7419\n",
            "Epoch 9/10\n",
            "132/132 [==============================] - 11s 84ms/step - loss: 0.4850 - accuracy: 0.8005 - val_loss: 0.4945 - val_accuracy: 0.7962\n",
            "Epoch 10/10\n",
            "132/132 [==============================] - 5s 39ms/step - loss: 0.5044 - accuracy: 0.8031 - val_loss: 0.5432 - val_accuracy: 0.7905\n"
          ]
        },
        {
          "output_type": "execute_result",
          "data": {
            "text/plain": [
              "<keras.callbacks.History at 0x7fe5bc23f820>"
            ]
          },
          "metadata": {},
          "execution_count": 39
        }
      ]
    },
    {
      "cell_type": "code",
      "source": [
        "y_val_predict = model.predict(X_val)\n",
        "y_val_predict"
      ],
      "metadata": {
        "colab": {
          "base_uri": "https://localhost:8080/"
        },
        "id": "kFCGhDsuQhUz",
        "outputId": "962f7051-d76b-40d6-fac6-f2221be07afb"
      },
      "execution_count": 42,
      "outputs": [
        {
          "output_type": "stream",
          "name": "stdout",
          "text": [
            "33/33 [==============================] - 0s 12ms/step\n"
          ]
        },
        {
          "output_type": "execute_result",
          "data": {
            "text/plain": [
              "array([[0.33100998, 0.66899   ],\n",
              "       [0.9569489 , 0.04305117],\n",
              "       [0.41433623, 0.5856638 ],\n",
              "       ...,\n",
              "       [0.9632544 , 0.03674556],\n",
              "       [0.4446971 , 0.55530286],\n",
              "       [0.70727617, 0.29272383]], dtype=float32)"
            ]
          },
          "metadata": {},
          "execution_count": 42
        }
      ]
    },
    {
      "cell_type": "code",
      "source": [
        "y_val_fa = np.zeros([len(y_val_predict)])\n",
        "for i in range(len(y_val_predict)):\n",
        "  if(y_val_predict[i][0]>y_val_predict[i][1]):\n",
        "    y_val_fa[i] = 0\n",
        "  else:\n",
        "    y_val_fa[i] = 1\n",
        "y_val_fa\n"
      ],
      "metadata": {
        "colab": {
          "base_uri": "https://localhost:8080/"
        },
        "id": "7XEBRMpYQ235",
        "outputId": "9b99bcce-1843-4423-a923-f29e33358999"
      },
      "execution_count": 44,
      "outputs": [
        {
          "output_type": "execute_result",
          "data": {
            "text/plain": [
              "array([1., 0., 1., ..., 0., 1., 0.])"
            ]
          },
          "metadata": {},
          "execution_count": 44
        }
      ]
    },
    {
      "cell_type": "code",
      "source": [
        "y_val_fa = y_val_fa.reshape(-1,1)\n",
        "f1_score(y_val,y_val_fa)"
      ],
      "metadata": {
        "colab": {
          "base_uri": "https://localhost:8080/"
        },
        "id": "ok7GnkbaRtdO",
        "outputId": "35e9a063-303e-493d-ab36-07da9081329c"
      },
      "execution_count": 45,
      "outputs": [
        {
          "output_type": "execute_result",
          "data": {
            "text/plain": [
              "0.6308724832214765"
            ]
          },
          "metadata": {},
          "execution_count": 45
        }
      ]
    },
    {
      "cell_type": "code",
      "source": [
        "df_test.head()"
      ],
      "metadata": {
        "colab": {
          "base_uri": "https://localhost:8080/",
          "height": 299
        },
        "id": "TZ_kZ2S-R4ox",
        "outputId": "d079484b-9d5d-40d4-f999-4a45e8b0a743"
      },
      "execution_count": 46,
      "outputs": [
        {
          "output_type": "execute_result",
          "data": {
            "text/plain": [
              "   id       f_0       f_1       f_2       f_3       f_4       f_5       f_6  \\\n",
              "0   1 -3.388242  0.868285 -0.427619 -0.678964 -1.625735  0.262761  1.243040   \n",
              "1   2 -0.496920  0.952381  0.989040  0.451422  0.513516 -0.099658 -1.124326   \n",
              "2   3  1.128369 -0.537951  2.544358  1.165254 -1.904994  0.776961 -0.495768   \n",
              "3   4  0.051253  1.746814  0.681177  1.844524 -0.327977  1.226839 -0.085519   \n",
              "4   5  1.423209 -0.983594 -1.694170  1.197507  1.044211  0.518777 -0.298612   \n",
              "\n",
              "        f_7       f_8  ...    f_1190    f_1191    f_1192    f_1193    f_1194  \\\n",
              "0  1.537751 -0.352028  ... -0.776403 -0.662884 -0.257091 -1.168413  0.223260   \n",
              "1  0.729430 -0.216224  ...  0.379635 -1.760084  1.125450 -0.328047 -0.880305   \n",
              "2  0.060111 -1.418468  ...  1.165254 -1.373589 -0.483701 -0.964782 -0.869555   \n",
              "3  0.379008 -1.003667  ... -0.442288 -2.794472 -0.763468 -0.789832 -0.113209   \n",
              "4 -0.365174  0.738447  ... -2.624450 -3.200223  0.711422 -0.190394  0.337224   \n",
              "\n",
              "     f_1195    f_1196    f_1197    f_1198    f_1199  \n",
              "0 -0.482520 -0.085453 -0.382265 -0.539349 -1.682404  \n",
              "1 -1.257607  0.964312  2.021104  0.655021 -0.423029  \n",
              "2  0.066040 -0.444567 -0.531935 -0.878660  1.099488  \n",
              "3 -2.703150 -2.058728  1.070627 -0.458045 -0.435825  \n",
              "4 -1.656639  0.707360 -0.562290  1.471181 -0.192000  \n",
              "\n",
              "[5 rows x 1201 columns]"
            ],
            "text/html": [
              "\n",
              "  <div id=\"df-cb4295b7-cf9b-4300-b5d9-9448e3dd3ea9\">\n",
              "    <div class=\"colab-df-container\">\n",
              "      <div>\n",
              "<style scoped>\n",
              "    .dataframe tbody tr th:only-of-type {\n",
              "        vertical-align: middle;\n",
              "    }\n",
              "\n",
              "    .dataframe tbody tr th {\n",
              "        vertical-align: top;\n",
              "    }\n",
              "\n",
              "    .dataframe thead th {\n",
              "        text-align: right;\n",
              "    }\n",
              "</style>\n",
              "<table border=\"1\" class=\"dataframe\">\n",
              "  <thead>\n",
              "    <tr style=\"text-align: right;\">\n",
              "      <th></th>\n",
              "      <th>id</th>\n",
              "      <th>f_0</th>\n",
              "      <th>f_1</th>\n",
              "      <th>f_2</th>\n",
              "      <th>f_3</th>\n",
              "      <th>f_4</th>\n",
              "      <th>f_5</th>\n",
              "      <th>f_6</th>\n",
              "      <th>f_7</th>\n",
              "      <th>f_8</th>\n",
              "      <th>...</th>\n",
              "      <th>f_1190</th>\n",
              "      <th>f_1191</th>\n",
              "      <th>f_1192</th>\n",
              "      <th>f_1193</th>\n",
              "      <th>f_1194</th>\n",
              "      <th>f_1195</th>\n",
              "      <th>f_1196</th>\n",
              "      <th>f_1197</th>\n",
              "      <th>f_1198</th>\n",
              "      <th>f_1199</th>\n",
              "    </tr>\n",
              "  </thead>\n",
              "  <tbody>\n",
              "    <tr>\n",
              "      <th>0</th>\n",
              "      <td>1</td>\n",
              "      <td>-3.388242</td>\n",
              "      <td>0.868285</td>\n",
              "      <td>-0.427619</td>\n",
              "      <td>-0.678964</td>\n",
              "      <td>-1.625735</td>\n",
              "      <td>0.262761</td>\n",
              "      <td>1.243040</td>\n",
              "      <td>1.537751</td>\n",
              "      <td>-0.352028</td>\n",
              "      <td>...</td>\n",
              "      <td>-0.776403</td>\n",
              "      <td>-0.662884</td>\n",
              "      <td>-0.257091</td>\n",
              "      <td>-1.168413</td>\n",
              "      <td>0.223260</td>\n",
              "      <td>-0.482520</td>\n",
              "      <td>-0.085453</td>\n",
              "      <td>-0.382265</td>\n",
              "      <td>-0.539349</td>\n",
              "      <td>-1.682404</td>\n",
              "    </tr>\n",
              "    <tr>\n",
              "      <th>1</th>\n",
              "      <td>2</td>\n",
              "      <td>-0.496920</td>\n",
              "      <td>0.952381</td>\n",
              "      <td>0.989040</td>\n",
              "      <td>0.451422</td>\n",
              "      <td>0.513516</td>\n",
              "      <td>-0.099658</td>\n",
              "      <td>-1.124326</td>\n",
              "      <td>0.729430</td>\n",
              "      <td>-0.216224</td>\n",
              "      <td>...</td>\n",
              "      <td>0.379635</td>\n",
              "      <td>-1.760084</td>\n",
              "      <td>1.125450</td>\n",
              "      <td>-0.328047</td>\n",
              "      <td>-0.880305</td>\n",
              "      <td>-1.257607</td>\n",
              "      <td>0.964312</td>\n",
              "      <td>2.021104</td>\n",
              "      <td>0.655021</td>\n",
              "      <td>-0.423029</td>\n",
              "    </tr>\n",
              "    <tr>\n",
              "      <th>2</th>\n",
              "      <td>3</td>\n",
              "      <td>1.128369</td>\n",
              "      <td>-0.537951</td>\n",
              "      <td>2.544358</td>\n",
              "      <td>1.165254</td>\n",
              "      <td>-1.904994</td>\n",
              "      <td>0.776961</td>\n",
              "      <td>-0.495768</td>\n",
              "      <td>0.060111</td>\n",
              "      <td>-1.418468</td>\n",
              "      <td>...</td>\n",
              "      <td>1.165254</td>\n",
              "      <td>-1.373589</td>\n",
              "      <td>-0.483701</td>\n",
              "      <td>-0.964782</td>\n",
              "      <td>-0.869555</td>\n",
              "      <td>0.066040</td>\n",
              "      <td>-0.444567</td>\n",
              "      <td>-0.531935</td>\n",
              "      <td>-0.878660</td>\n",
              "      <td>1.099488</td>\n",
              "    </tr>\n",
              "    <tr>\n",
              "      <th>3</th>\n",
              "      <td>4</td>\n",
              "      <td>0.051253</td>\n",
              "      <td>1.746814</td>\n",
              "      <td>0.681177</td>\n",
              "      <td>1.844524</td>\n",
              "      <td>-0.327977</td>\n",
              "      <td>1.226839</td>\n",
              "      <td>-0.085519</td>\n",
              "      <td>0.379008</td>\n",
              "      <td>-1.003667</td>\n",
              "      <td>...</td>\n",
              "      <td>-0.442288</td>\n",
              "      <td>-2.794472</td>\n",
              "      <td>-0.763468</td>\n",
              "      <td>-0.789832</td>\n",
              "      <td>-0.113209</td>\n",
              "      <td>-2.703150</td>\n",
              "      <td>-2.058728</td>\n",
              "      <td>1.070627</td>\n",
              "      <td>-0.458045</td>\n",
              "      <td>-0.435825</td>\n",
              "    </tr>\n",
              "    <tr>\n",
              "      <th>4</th>\n",
              "      <td>5</td>\n",
              "      <td>1.423209</td>\n",
              "      <td>-0.983594</td>\n",
              "      <td>-1.694170</td>\n",
              "      <td>1.197507</td>\n",
              "      <td>1.044211</td>\n",
              "      <td>0.518777</td>\n",
              "      <td>-0.298612</td>\n",
              "      <td>-0.365174</td>\n",
              "      <td>0.738447</td>\n",
              "      <td>...</td>\n",
              "      <td>-2.624450</td>\n",
              "      <td>-3.200223</td>\n",
              "      <td>0.711422</td>\n",
              "      <td>-0.190394</td>\n",
              "      <td>0.337224</td>\n",
              "      <td>-1.656639</td>\n",
              "      <td>0.707360</td>\n",
              "      <td>-0.562290</td>\n",
              "      <td>1.471181</td>\n",
              "      <td>-0.192000</td>\n",
              "    </tr>\n",
              "  </tbody>\n",
              "</table>\n",
              "<p>5 rows × 1201 columns</p>\n",
              "</div>\n",
              "      <button class=\"colab-df-convert\" onclick=\"convertToInteractive('df-cb4295b7-cf9b-4300-b5d9-9448e3dd3ea9')\"\n",
              "              title=\"Convert this dataframe to an interactive table.\"\n",
              "              style=\"display:none;\">\n",
              "        \n",
              "  <svg xmlns=\"http://www.w3.org/2000/svg\" height=\"24px\"viewBox=\"0 0 24 24\"\n",
              "       width=\"24px\">\n",
              "    <path d=\"M0 0h24v24H0V0z\" fill=\"none\"/>\n",
              "    <path d=\"M18.56 5.44l.94 2.06.94-2.06 2.06-.94-2.06-.94-.94-2.06-.94 2.06-2.06.94zm-11 1L8.5 8.5l.94-2.06 2.06-.94-2.06-.94L8.5 2.5l-.94 2.06-2.06.94zm10 10l.94 2.06.94-2.06 2.06-.94-2.06-.94-.94-2.06-.94 2.06-2.06.94z\"/><path d=\"M17.41 7.96l-1.37-1.37c-.4-.4-.92-.59-1.43-.59-.52 0-1.04.2-1.43.59L10.3 9.45l-7.72 7.72c-.78.78-.78 2.05 0 2.83L4 21.41c.39.39.9.59 1.41.59.51 0 1.02-.2 1.41-.59l7.78-7.78 2.81-2.81c.8-.78.8-2.07 0-2.86zM5.41 20L4 18.59l7.72-7.72 1.47 1.35L5.41 20z\"/>\n",
              "  </svg>\n",
              "      </button>\n",
              "      \n",
              "  <style>\n",
              "    .colab-df-container {\n",
              "      display:flex;\n",
              "      flex-wrap:wrap;\n",
              "      gap: 12px;\n",
              "    }\n",
              "\n",
              "    .colab-df-convert {\n",
              "      background-color: #E8F0FE;\n",
              "      border: none;\n",
              "      border-radius: 50%;\n",
              "      cursor: pointer;\n",
              "      display: none;\n",
              "      fill: #1967D2;\n",
              "      height: 32px;\n",
              "      padding: 0 0 0 0;\n",
              "      width: 32px;\n",
              "    }\n",
              "\n",
              "    .colab-df-convert:hover {\n",
              "      background-color: #E2EBFA;\n",
              "      box-shadow: 0px 1px 2px rgba(60, 64, 67, 0.3), 0px 1px 3px 1px rgba(60, 64, 67, 0.15);\n",
              "      fill: #174EA6;\n",
              "    }\n",
              "\n",
              "    [theme=dark] .colab-df-convert {\n",
              "      background-color: #3B4455;\n",
              "      fill: #D2E3FC;\n",
              "    }\n",
              "\n",
              "    [theme=dark] .colab-df-convert:hover {\n",
              "      background-color: #434B5C;\n",
              "      box-shadow: 0px 1px 3px 1px rgba(0, 0, 0, 0.15);\n",
              "      filter: drop-shadow(0px 1px 2px rgba(0, 0, 0, 0.3));\n",
              "      fill: #FFFFFF;\n",
              "    }\n",
              "  </style>\n",
              "\n",
              "      <script>\n",
              "        const buttonEl =\n",
              "          document.querySelector('#df-cb4295b7-cf9b-4300-b5d9-9448e3dd3ea9 button.colab-df-convert');\n",
              "        buttonEl.style.display =\n",
              "          google.colab.kernel.accessAllowed ? 'block' : 'none';\n",
              "\n",
              "        async function convertToInteractive(key) {\n",
              "          const element = document.querySelector('#df-cb4295b7-cf9b-4300-b5d9-9448e3dd3ea9');\n",
              "          const dataTable =\n",
              "            await google.colab.kernel.invokeFunction('convertToInteractive',\n",
              "                                                     [key], {});\n",
              "          if (!dataTable) return;\n",
              "\n",
              "          const docLinkHtml = 'Like what you see? Visit the ' +\n",
              "            '<a target=\"_blank\" href=https://colab.research.google.com/notebooks/data_table.ipynb>data table notebook</a>'\n",
              "            + ' to learn more about interactive tables.';\n",
              "          element.innerHTML = '';\n",
              "          dataTable['output_type'] = 'display_data';\n",
              "          await google.colab.output.renderOutput(dataTable, element);\n",
              "          const docLink = document.createElement('div');\n",
              "          docLink.innerHTML = docLinkHtml;\n",
              "          element.appendChild(docLink);\n",
              "        }\n",
              "      </script>\n",
              "    </div>\n",
              "  </div>\n",
              "  "
            ]
          },
          "metadata": {},
          "execution_count": 46
        }
      ]
    },
    {
      "cell_type": "code",
      "source": [
        "X_test = df_test.drop('id',axis = 1).to_numpy()\n",
        "id = df_test['id'].to_numpy()\n",
        "X_test = X_test.reshape(-1,20,20,3)"
      ],
      "metadata": {
        "id": "DrE6a-5cR-Ls"
      },
      "execution_count": 48,
      "outputs": []
    },
    {
      "cell_type": "code",
      "source": [
        "y_test = model.predict(X_test)\n",
        "y_fa = np.zeros([len(y_test)])\n",
        "for i in range(len(y_test)):\n",
        "  if(y_test[i][0]>y_test[i][1]):\n",
        "    y_fa[i] = 0\n",
        "  else:\n",
        "    y_fa[i] = 1\n",
        "y_fa"
      ],
      "metadata": {
        "colab": {
          "base_uri": "https://localhost:8080/"
        },
        "id": "zc8bFWT_Sav_",
        "outputId": "fd0eff91-7a3e-41fd-f5b8-14dc7e1cc419"
      },
      "execution_count": 49,
      "outputs": [
        {
          "output_type": "stream",
          "name": "stdout",
          "text": [
            "71/71 [==============================] - 1s 13ms/step\n"
          ]
        },
        {
          "output_type": "execute_result",
          "data": {
            "text/plain": [
              "array([1., 0., 1., ..., 1., 0., 1.])"
            ]
          },
          "metadata": {},
          "execution_count": 49
        }
      ]
    },
    {
      "cell_type": "code",
      "source": [
        "y_fa.shape"
      ],
      "metadata": {
        "colab": {
          "base_uri": "https://localhost:8080/"
        },
        "id": "6SymZRpZTe0k",
        "outputId": "c6c7925d-433d-4b83-ed18-1b736279fbc1"
      },
      "execution_count": 55,
      "outputs": [
        {
          "output_type": "execute_result",
          "data": {
            "text/plain": [
              "(2250,)"
            ]
          },
          "metadata": {},
          "execution_count": 55
        }
      ]
    },
    {
      "cell_type": "code",
      "source": [
        "id = id.reshape(-1,1)\n",
        "y_fa = y_fa.reshape(-1,1)\n",
        "print(id.shape,y_fa.shape)"
      ],
      "metadata": {
        "colab": {
          "base_uri": "https://localhost:8080/"
        },
        "id": "tnfDcqTtS7_H",
        "outputId": "85bbfe61-1c13-4657-9020-d342d06ec22a"
      },
      "execution_count": 57,
      "outputs": [
        {
          "output_type": "stream",
          "name": "stdout",
          "text": [
            "(2250, 1) (2250, 1)\n"
          ]
        }
      ]
    },
    {
      "cell_type": "code",
      "source": [
        "temp = np.concatenate([id,y_fa],axis = 1)\n",
        "temp.shape"
      ],
      "metadata": {
        "colab": {
          "base_uri": "https://localhost:8080/"
        },
        "id": "_2c6D1cqTPgb",
        "outputId": "7a72d643-0d89-4618-91cc-b33e3ef6ab1d"
      },
      "execution_count": 59,
      "outputs": [
        {
          "output_type": "execute_result",
          "data": {
            "text/plain": [
              "(2250, 2)"
            ]
          },
          "metadata": {},
          "execution_count": 59
        }
      ]
    },
    {
      "cell_type": "code",
      "source": [
        "submission = pd.DataFrame(temp,columns = ['id','labels'])"
      ],
      "metadata": {
        "id": "NF3RiW2xSzo-"
      },
      "execution_count": 61,
      "outputs": []
    },
    {
      "cell_type": "code",
      "source": [
        "submission.to_csv('vit.csv')"
      ],
      "metadata": {
        "id": "xfQjDY6mT9RI"
      },
      "execution_count": 62,
      "outputs": []
    }
  ]
}