{
  "nbformat": 4,
  "nbformat_minor": 0,
  "metadata": {
    "colab": {
      "provenance": [],
      "gpuType": "T4",
      "mount_file_id": "1znSW3R22VXJaMsAOXKFJqROr5Lig9mvA",
      "authorship_tag": "ABX9TyNn2HzScPcTsBBtYsmutBpo",
      "include_colab_link": true
    },
    "kernelspec": {
      "name": "python3",
      "display_name": "Python 3"
    },
    "language_info": {
      "name": "python"
    },
    "accelerator": "GPU"
  },
  "cells": [
    {
      "cell_type": "markdown",
      "metadata": {
        "id": "view-in-github",
        "colab_type": "text"
      },
      "source": [
        "<a href=\"https://colab.research.google.com/github/palswayam5/AI_generated_Images_Classifier/blob/master/ViT.ipynb\" target=\"_parent\"><img src=\"https://colab.research.google.com/assets/colab-badge.svg\" alt=\"Open In Colab\"/></a>"
      ]
    },
    {
      "cell_type": "code",
      "source": [
        "!pip install tf-nightly"
      ],
      "metadata": {
        "colab": {
          "base_uri": "https://localhost:8080/"
        },
        "id": "Kb0820LMYwFJ",
        "outputId": "e480ed19-3895-4937-a038-5eb62f851df5"
      },
      "execution_count": 1,
      "outputs": [
        {
          "output_type": "stream",
          "name": "stdout",
          "text": [
            "Looking in indexes: https://pypi.org/simple, https://us-python.pkg.dev/colab-wheels/public/simple/\n",
            "Collecting tf-nightly\n",
            "  Downloading tf_nightly-2.14.0.dev20230620-cp310-cp310-manylinux_2_17_x86_64.manylinux2014_x86_64.whl (491.4 MB)\n",
            "\u001b[2K     \u001b[90m━━━━━━━━━━━━━━━━━━━━━━━━━━━━━━━━━━━━━━━\u001b[0m \u001b[32m491.4/491.4 MB\u001b[0m \u001b[31m2.4 MB/s\u001b[0m eta \u001b[36m0:00:00\u001b[0m\n",
            "\u001b[?25hRequirement already satisfied: absl-py>=1.0.0 in /usr/local/lib/python3.10/dist-packages (from tf-nightly) (1.4.0)\n",
            "Requirement already satisfied: astunparse>=1.6.0 in /usr/local/lib/python3.10/dist-packages (from tf-nightly) (1.6.3)\n",
            "Collecting flatbuffers>=23.5.26 (from tf-nightly)\n",
            "  Downloading flatbuffers-23.5.26-py2.py3-none-any.whl (26 kB)\n",
            "Requirement already satisfied: gast<=0.4.0,>=0.2.1 in /usr/local/lib/python3.10/dist-packages (from tf-nightly) (0.4.0)\n",
            "Requirement already satisfied: google-pasta>=0.1.1 in /usr/local/lib/python3.10/dist-packages (from tf-nightly) (0.2.0)\n",
            "Requirement already satisfied: grpcio<2.0,>=1.24.3 in /usr/local/lib/python3.10/dist-packages (from tf-nightly) (1.54.0)\n",
            "Requirement already satisfied: h5py>=2.9.0 in /usr/local/lib/python3.10/dist-packages (from tf-nightly) (3.8.0)\n",
            "Collecting keras-nightly~=2.14.0.dev (from tf-nightly)\n",
            "  Downloading keras_nightly-2.14.0.dev2023062007-py3-none-any.whl (1.7 MB)\n",
            "\u001b[2K     \u001b[90m━━━━━━━━━━━━━━━━━━━━━━━━━━━━━━━━━━━━━━━━\u001b[0m \u001b[32m1.7/1.7 MB\u001b[0m \u001b[31m44.3 MB/s\u001b[0m eta \u001b[36m0:00:00\u001b[0m\n",
            "\u001b[?25hRequirement already satisfied: libclang>=13.0.0 in /usr/local/lib/python3.10/dist-packages (from tf-nightly) (16.0.0)\n",
            "Requirement already satisfied: numpy>=1.22 in /usr/local/lib/python3.10/dist-packages (from tf-nightly) (1.22.4)\n",
            "Requirement already satisfied: opt-einsum>=2.3.2 in /usr/local/lib/python3.10/dist-packages (from tf-nightly) (3.3.0)\n",
            "Requirement already satisfied: packaging in /usr/local/lib/python3.10/dist-packages (from tf-nightly) (23.1)\n",
            "Requirement already satisfied: protobuf!=4.21.0,!=4.21.1,!=4.21.2,!=4.21.3,!=4.21.4,!=4.21.5,<5.0.0dev,>=3.20.3 in /usr/local/lib/python3.10/dist-packages (from tf-nightly) (3.20.3)\n",
            "Requirement already satisfied: setuptools in /usr/local/lib/python3.10/dist-packages (from tf-nightly) (67.7.2)\n",
            "Requirement already satisfied: six>=1.12.0 in /usr/local/lib/python3.10/dist-packages (from tf-nightly) (1.16.0)\n",
            "Collecting tb-nightly~=2.14.0.a (from tf-nightly)\n",
            "  Downloading tb_nightly-2.14.0a20230620-py3-none-any.whl (5.6 MB)\n",
            "\u001b[2K     \u001b[90m━━━━━━━━━━━━━━━━━━━━━━━━━━━━━━━━━━━━━━━━\u001b[0m \u001b[32m5.6/5.6 MB\u001b[0m \u001b[31m42.5 MB/s\u001b[0m eta \u001b[36m0:00:00\u001b[0m\n",
            "\u001b[?25hRequirement already satisfied: termcolor>=1.1.0 in /usr/local/lib/python3.10/dist-packages (from tf-nightly) (2.3.0)\n",
            "Collecting tf-estimator-nightly~=2.14.0.dev (from tf-nightly)\n",
            "  Downloading tf_estimator_nightly-2.14.0.dev2023062008-py2.py3-none-any.whl (440 kB)\n",
            "\u001b[2K     \u001b[90m━━━━━━━━━━━━━━━━━━━━━━━━━━━━━━━━━━━━━━\u001b[0m \u001b[32m441.0/441.0 kB\u001b[0m \u001b[31m24.2 MB/s\u001b[0m eta \u001b[36m0:00:00\u001b[0m\n",
            "\u001b[?25hRequirement already satisfied: typing-extensions<4.6.0,>=3.6.6 in /usr/local/lib/python3.10/dist-packages (from tf-nightly) (4.5.0)\n",
            "Requirement already satisfied: wrapt>=1.11.0 in /usr/local/lib/python3.10/dist-packages (from tf-nightly) (1.14.1)\n",
            "Requirement already satisfied: tensorflow-io-gcs-filesystem>=0.23.1 in /usr/local/lib/python3.10/dist-packages (from tf-nightly) (0.32.0)\n",
            "Requirement already satisfied: wheel<1.0,>=0.23.0 in /usr/local/lib/python3.10/dist-packages (from astunparse>=1.6.0->tf-nightly) (0.40.0)\n",
            "Requirement already satisfied: google-auth<3,>=1.6.3 in /usr/local/lib/python3.10/dist-packages (from tb-nightly~=2.14.0.a->tf-nightly) (2.17.3)\n",
            "Requirement already satisfied: google-auth-oauthlib<1.1,>=0.5 in /usr/local/lib/python3.10/dist-packages (from tb-nightly~=2.14.0.a->tf-nightly) (1.0.0)\n",
            "Requirement already satisfied: markdown>=2.6.8 in /usr/local/lib/python3.10/dist-packages (from tb-nightly~=2.14.0.a->tf-nightly) (3.4.3)\n",
            "Requirement already satisfied: requests<3,>=2.21.0 in /usr/local/lib/python3.10/dist-packages (from tb-nightly~=2.14.0.a->tf-nightly) (2.27.1)\n",
            "Requirement already satisfied: tensorboard-data-server<0.8.0,>=0.7.0 in /usr/local/lib/python3.10/dist-packages (from tb-nightly~=2.14.0.a->tf-nightly) (0.7.0)\n",
            "Requirement already satisfied: werkzeug>=1.0.1 in /usr/local/lib/python3.10/dist-packages (from tb-nightly~=2.14.0.a->tf-nightly) (2.3.0)\n",
            "Requirement already satisfied: cachetools<6.0,>=2.0.0 in /usr/local/lib/python3.10/dist-packages (from google-auth<3,>=1.6.3->tb-nightly~=2.14.0.a->tf-nightly) (5.3.0)\n",
            "Requirement already satisfied: pyasn1-modules>=0.2.1 in /usr/local/lib/python3.10/dist-packages (from google-auth<3,>=1.6.3->tb-nightly~=2.14.0.a->tf-nightly) (0.3.0)\n",
            "Requirement already satisfied: rsa<5,>=3.1.4 in /usr/local/lib/python3.10/dist-packages (from google-auth<3,>=1.6.3->tb-nightly~=2.14.0.a->tf-nightly) (4.9)\n",
            "Requirement already satisfied: requests-oauthlib>=0.7.0 in /usr/local/lib/python3.10/dist-packages (from google-auth-oauthlib<1.1,>=0.5->tb-nightly~=2.14.0.a->tf-nightly) (1.3.1)\n",
            "Requirement already satisfied: urllib3<1.27,>=1.21.1 in /usr/local/lib/python3.10/dist-packages (from requests<3,>=2.21.0->tb-nightly~=2.14.0.a->tf-nightly) (1.26.15)\n",
            "Requirement already satisfied: certifi>=2017.4.17 in /usr/local/lib/python3.10/dist-packages (from requests<3,>=2.21.0->tb-nightly~=2.14.0.a->tf-nightly) (2022.12.7)\n",
            "Requirement already satisfied: charset-normalizer~=2.0.0 in /usr/local/lib/python3.10/dist-packages (from requests<3,>=2.21.0->tb-nightly~=2.14.0.a->tf-nightly) (2.0.12)\n",
            "Requirement already satisfied: idna<4,>=2.5 in /usr/local/lib/python3.10/dist-packages (from requests<3,>=2.21.0->tb-nightly~=2.14.0.a->tf-nightly) (3.4)\n",
            "Requirement already satisfied: MarkupSafe>=2.1.1 in /usr/local/lib/python3.10/dist-packages (from werkzeug>=1.0.1->tb-nightly~=2.14.0.a->tf-nightly) (2.1.2)\n",
            "Requirement already satisfied: pyasn1<0.6.0,>=0.4.6 in /usr/local/lib/python3.10/dist-packages (from pyasn1-modules>=0.2.1->google-auth<3,>=1.6.3->tb-nightly~=2.14.0.a->tf-nightly) (0.5.0)\n",
            "Requirement already satisfied: oauthlib>=3.0.0 in /usr/local/lib/python3.10/dist-packages (from requests-oauthlib>=0.7.0->google-auth-oauthlib<1.1,>=0.5->tb-nightly~=2.14.0.a->tf-nightly) (3.2.2)\n",
            "Installing collected packages: flatbuffers, tf-estimator-nightly, keras-nightly, tb-nightly, tf-nightly\n",
            "  Attempting uninstall: flatbuffers\n",
            "    Found existing installation: flatbuffers 23.3.3\n",
            "    Uninstalling flatbuffers-23.3.3:\n",
            "      Successfully uninstalled flatbuffers-23.3.3\n",
            "Successfully installed flatbuffers-23.5.26 keras-nightly-2.14.0.dev2023062007 tb-nightly-2.14.0a20230620 tf-estimator-nightly-2.14.0.dev2023062008 tf-nightly-2.14.0.dev20230620\n"
          ]
        }
      ]
    },
    {
      "cell_type": "code",
      "execution_count": 2,
      "metadata": {
        "id": "8x9aLVXyOQ4I"
      },
      "outputs": [],
      "source": [
        "import numpy as np\n",
        "import pandas as pd\n",
        "import tensorflow as tf\n",
        "from tensorflow.keras.layers import Dense,LayerNormalization,Dropout,Add,Embedding,MultiHeadAttention,Input,Flatten\n",
        "from tensorflow.keras import Model\n",
        "from tensorflow.image import extract_patches\n",
        "from sklearn.model_selection import train_test_split\n",
        "from sklearn.metrics import f1_score\n",
        "import keras.backend as K\n",
        "import matplotlib.pyplot as plt\n",
        "from tensorflow.keras import layers\n",
        "from tensorflow import keras"
      ]
    },
    {
      "cell_type": "code",
      "source": [
        "df = pd.read_csv('/content/drive/MyDrive/Dataset/train.csv')\n",
        "df_test = pd.read_csv('/content/drive/MyDrive/Dataset/test.csv')"
      ],
      "metadata": {
        "id": "97TlBd1dXTNu"
      },
      "execution_count": 3,
      "outputs": []
    },
    {
      "cell_type": "code",
      "source": [
        "df.head()"
      ],
      "metadata": {
        "colab": {
          "base_uri": "https://localhost:8080/",
          "height": 299
        },
        "id": "rmNT9kyPXjBH",
        "outputId": "89a3df4f-ff49-4a09-c251-b2e75cae4523"
      },
      "execution_count": 4,
      "outputs": [
        {
          "output_type": "execute_result",
          "data": {
            "text/plain": [
              "   labels       f_0       f_1       f_2       f_3       f_4       f_5  \\\n",
              "0       0 -2.033875  0.978446 -0.142131 -0.177117 -1.470684  1.669562   \n",
              "1       1 -0.348835  0.294815 -0.557577 -2.020773 -1.234715  1.633930   \n",
              "2       1  0.113248 -0.607726 -0.947791  0.830851  0.998291  0.498321   \n",
              "3       0  1.223321 -0.479048 -1.925789  1.680377  0.021840 -1.453307   \n",
              "4       0  0.160109  0.422684 -0.308029  0.227744  0.432854  0.608348   \n",
              "\n",
              "        f_6       f_7       f_8  ...    f_1190    f_1191    f_1192    f_1193  \\\n",
              "0 -0.196530 -0.125239 -0.452284  ... -1.111266  0.716084  0.060039  0.301279   \n",
              "1 -1.680658 -0.358146  0.166122  ...  0.735240  0.829781  1.521941  1.347946   \n",
              "2 -1.493958  0.789572 -1.311018  ...  0.104698  0.616189 -1.035953  2.111387   \n",
              "3  0.605559 -0.019024  1.065448  ...  0.360237 -1.957863 -0.123384  1.505329   \n",
              "4  0.193832  1.035091 -0.538868  ...  0.416629  1.441766  0.212572 -0.994721   \n",
              "\n",
              "     f_1194    f_1195    f_1196    f_1197    f_1198    f_1199  \n",
              "0 -1.174846 -1.076498 -0.069452 -0.604012 -2.179176  0.558003  \n",
              "1  0.754505  1.330642 -0.754453  0.582956  0.252671  1.495870  \n",
              "2 -0.984415  1.148076 -1.433554  0.243372  0.170083  1.274795  \n",
              "3  0.660290 -1.769443 -0.547756 -0.568122  0.244645  0.982116  \n",
              "4  1.143999 -2.166923 -1.199248 -1.028636  0.752791  0.317169  \n",
              "\n",
              "[5 rows x 1201 columns]"
            ],
            "text/html": [
              "\n",
              "  <div id=\"df-534b2045-e37e-4385-94be-439b5640d20f\">\n",
              "    <div class=\"colab-df-container\">\n",
              "      <div>\n",
              "<style scoped>\n",
              "    .dataframe tbody tr th:only-of-type {\n",
              "        vertical-align: middle;\n",
              "    }\n",
              "\n",
              "    .dataframe tbody tr th {\n",
              "        vertical-align: top;\n",
              "    }\n",
              "\n",
              "    .dataframe thead th {\n",
              "        text-align: right;\n",
              "    }\n",
              "</style>\n",
              "<table border=\"1\" class=\"dataframe\">\n",
              "  <thead>\n",
              "    <tr style=\"text-align: right;\">\n",
              "      <th></th>\n",
              "      <th>labels</th>\n",
              "      <th>f_0</th>\n",
              "      <th>f_1</th>\n",
              "      <th>f_2</th>\n",
              "      <th>f_3</th>\n",
              "      <th>f_4</th>\n",
              "      <th>f_5</th>\n",
              "      <th>f_6</th>\n",
              "      <th>f_7</th>\n",
              "      <th>f_8</th>\n",
              "      <th>...</th>\n",
              "      <th>f_1190</th>\n",
              "      <th>f_1191</th>\n",
              "      <th>f_1192</th>\n",
              "      <th>f_1193</th>\n",
              "      <th>f_1194</th>\n",
              "      <th>f_1195</th>\n",
              "      <th>f_1196</th>\n",
              "      <th>f_1197</th>\n",
              "      <th>f_1198</th>\n",
              "      <th>f_1199</th>\n",
              "    </tr>\n",
              "  </thead>\n",
              "  <tbody>\n",
              "    <tr>\n",
              "      <th>0</th>\n",
              "      <td>0</td>\n",
              "      <td>-2.033875</td>\n",
              "      <td>0.978446</td>\n",
              "      <td>-0.142131</td>\n",
              "      <td>-0.177117</td>\n",
              "      <td>-1.470684</td>\n",
              "      <td>1.669562</td>\n",
              "      <td>-0.196530</td>\n",
              "      <td>-0.125239</td>\n",
              "      <td>-0.452284</td>\n",
              "      <td>...</td>\n",
              "      <td>-1.111266</td>\n",
              "      <td>0.716084</td>\n",
              "      <td>0.060039</td>\n",
              "      <td>0.301279</td>\n",
              "      <td>-1.174846</td>\n",
              "      <td>-1.076498</td>\n",
              "      <td>-0.069452</td>\n",
              "      <td>-0.604012</td>\n",
              "      <td>-2.179176</td>\n",
              "      <td>0.558003</td>\n",
              "    </tr>\n",
              "    <tr>\n",
              "      <th>1</th>\n",
              "      <td>1</td>\n",
              "      <td>-0.348835</td>\n",
              "      <td>0.294815</td>\n",
              "      <td>-0.557577</td>\n",
              "      <td>-2.020773</td>\n",
              "      <td>-1.234715</td>\n",
              "      <td>1.633930</td>\n",
              "      <td>-1.680658</td>\n",
              "      <td>-0.358146</td>\n",
              "      <td>0.166122</td>\n",
              "      <td>...</td>\n",
              "      <td>0.735240</td>\n",
              "      <td>0.829781</td>\n",
              "      <td>1.521941</td>\n",
              "      <td>1.347946</td>\n",
              "      <td>0.754505</td>\n",
              "      <td>1.330642</td>\n",
              "      <td>-0.754453</td>\n",
              "      <td>0.582956</td>\n",
              "      <td>0.252671</td>\n",
              "      <td>1.495870</td>\n",
              "    </tr>\n",
              "    <tr>\n",
              "      <th>2</th>\n",
              "      <td>1</td>\n",
              "      <td>0.113248</td>\n",
              "      <td>-0.607726</td>\n",
              "      <td>-0.947791</td>\n",
              "      <td>0.830851</td>\n",
              "      <td>0.998291</td>\n",
              "      <td>0.498321</td>\n",
              "      <td>-1.493958</td>\n",
              "      <td>0.789572</td>\n",
              "      <td>-1.311018</td>\n",
              "      <td>...</td>\n",
              "      <td>0.104698</td>\n",
              "      <td>0.616189</td>\n",
              "      <td>-1.035953</td>\n",
              "      <td>2.111387</td>\n",
              "      <td>-0.984415</td>\n",
              "      <td>1.148076</td>\n",
              "      <td>-1.433554</td>\n",
              "      <td>0.243372</td>\n",
              "      <td>0.170083</td>\n",
              "      <td>1.274795</td>\n",
              "    </tr>\n",
              "    <tr>\n",
              "      <th>3</th>\n",
              "      <td>0</td>\n",
              "      <td>1.223321</td>\n",
              "      <td>-0.479048</td>\n",
              "      <td>-1.925789</td>\n",
              "      <td>1.680377</td>\n",
              "      <td>0.021840</td>\n",
              "      <td>-1.453307</td>\n",
              "      <td>0.605559</td>\n",
              "      <td>-0.019024</td>\n",
              "      <td>1.065448</td>\n",
              "      <td>...</td>\n",
              "      <td>0.360237</td>\n",
              "      <td>-1.957863</td>\n",
              "      <td>-0.123384</td>\n",
              "      <td>1.505329</td>\n",
              "      <td>0.660290</td>\n",
              "      <td>-1.769443</td>\n",
              "      <td>-0.547756</td>\n",
              "      <td>-0.568122</td>\n",
              "      <td>0.244645</td>\n",
              "      <td>0.982116</td>\n",
              "    </tr>\n",
              "    <tr>\n",
              "      <th>4</th>\n",
              "      <td>0</td>\n",
              "      <td>0.160109</td>\n",
              "      <td>0.422684</td>\n",
              "      <td>-0.308029</td>\n",
              "      <td>0.227744</td>\n",
              "      <td>0.432854</td>\n",
              "      <td>0.608348</td>\n",
              "      <td>0.193832</td>\n",
              "      <td>1.035091</td>\n",
              "      <td>-0.538868</td>\n",
              "      <td>...</td>\n",
              "      <td>0.416629</td>\n",
              "      <td>1.441766</td>\n",
              "      <td>0.212572</td>\n",
              "      <td>-0.994721</td>\n",
              "      <td>1.143999</td>\n",
              "      <td>-2.166923</td>\n",
              "      <td>-1.199248</td>\n",
              "      <td>-1.028636</td>\n",
              "      <td>0.752791</td>\n",
              "      <td>0.317169</td>\n",
              "    </tr>\n",
              "  </tbody>\n",
              "</table>\n",
              "<p>5 rows × 1201 columns</p>\n",
              "</div>\n",
              "      <button class=\"colab-df-convert\" onclick=\"convertToInteractive('df-534b2045-e37e-4385-94be-439b5640d20f')\"\n",
              "              title=\"Convert this dataframe to an interactive table.\"\n",
              "              style=\"display:none;\">\n",
              "        \n",
              "  <svg xmlns=\"http://www.w3.org/2000/svg\" height=\"24px\"viewBox=\"0 0 24 24\"\n",
              "       width=\"24px\">\n",
              "    <path d=\"M0 0h24v24H0V0z\" fill=\"none\"/>\n",
              "    <path d=\"M18.56 5.44l.94 2.06.94-2.06 2.06-.94-2.06-.94-.94-2.06-.94 2.06-2.06.94zm-11 1L8.5 8.5l.94-2.06 2.06-.94-2.06-.94L8.5 2.5l-.94 2.06-2.06.94zm10 10l.94 2.06.94-2.06 2.06-.94-2.06-.94-.94-2.06-.94 2.06-2.06.94z\"/><path d=\"M17.41 7.96l-1.37-1.37c-.4-.4-.92-.59-1.43-.59-.52 0-1.04.2-1.43.59L10.3 9.45l-7.72 7.72c-.78.78-.78 2.05 0 2.83L4 21.41c.39.39.9.59 1.41.59.51 0 1.02-.2 1.41-.59l7.78-7.78 2.81-2.81c.8-.78.8-2.07 0-2.86zM5.41 20L4 18.59l7.72-7.72 1.47 1.35L5.41 20z\"/>\n",
              "  </svg>\n",
              "      </button>\n",
              "      \n",
              "  <style>\n",
              "    .colab-df-container {\n",
              "      display:flex;\n",
              "      flex-wrap:wrap;\n",
              "      gap: 12px;\n",
              "    }\n",
              "\n",
              "    .colab-df-convert {\n",
              "      background-color: #E8F0FE;\n",
              "      border: none;\n",
              "      border-radius: 50%;\n",
              "      cursor: pointer;\n",
              "      display: none;\n",
              "      fill: #1967D2;\n",
              "      height: 32px;\n",
              "      padding: 0 0 0 0;\n",
              "      width: 32px;\n",
              "    }\n",
              "\n",
              "    .colab-df-convert:hover {\n",
              "      background-color: #E2EBFA;\n",
              "      box-shadow: 0px 1px 2px rgba(60, 64, 67, 0.3), 0px 1px 3px 1px rgba(60, 64, 67, 0.15);\n",
              "      fill: #174EA6;\n",
              "    }\n",
              "\n",
              "    [theme=dark] .colab-df-convert {\n",
              "      background-color: #3B4455;\n",
              "      fill: #D2E3FC;\n",
              "    }\n",
              "\n",
              "    [theme=dark] .colab-df-convert:hover {\n",
              "      background-color: #434B5C;\n",
              "      box-shadow: 0px 1px 3px 1px rgba(0, 0, 0, 0.15);\n",
              "      filter: drop-shadow(0px 1px 2px rgba(0, 0, 0, 0.3));\n",
              "      fill: #FFFFFF;\n",
              "    }\n",
              "  </style>\n",
              "\n",
              "      <script>\n",
              "        const buttonEl =\n",
              "          document.querySelector('#df-534b2045-e37e-4385-94be-439b5640d20f button.colab-df-convert');\n",
              "        buttonEl.style.display =\n",
              "          google.colab.kernel.accessAllowed ? 'block' : 'none';\n",
              "\n",
              "        async function convertToInteractive(key) {\n",
              "          const element = document.querySelector('#df-534b2045-e37e-4385-94be-439b5640d20f');\n",
              "          const dataTable =\n",
              "            await google.colab.kernel.invokeFunction('convertToInteractive',\n",
              "                                                     [key], {});\n",
              "          if (!dataTable) return;\n",
              "\n",
              "          const docLinkHtml = 'Like what you see? Visit the ' +\n",
              "            '<a target=\"_blank\" href=https://colab.research.google.com/notebooks/data_table.ipynb>data table notebook</a>'\n",
              "            + ' to learn more about interactive tables.';\n",
              "          element.innerHTML = '';\n",
              "          dataTable['output_type'] = 'display_data';\n",
              "          await google.colab.output.renderOutput(dataTable, element);\n",
              "          const docLink = document.createElement('div');\n",
              "          docLink.innerHTML = docLinkHtml;\n",
              "          element.appendChild(docLink);\n",
              "        }\n",
              "      </script>\n",
              "    </div>\n",
              "  </div>\n",
              "  "
            ]
          },
          "metadata": {},
          "execution_count": 4
        }
      ]
    },
    {
      "cell_type": "code",
      "source": [
        "X = df.drop('labels',axis = 1).to_numpy()\n",
        "y = df['labels'].to_numpy()\n",
        "X = X.reshape(-1,20,20,3)\n",
        "y = y.reshape(-1,1)"
      ],
      "metadata": {
        "id": "S1XjQfOxX4nH"
      },
      "execution_count": 5,
      "outputs": []
    },
    {
      "cell_type": "code",
      "source": [
        "X_train,X_val,y_train,y_val = train_test_split(X,y,test_size = 0.5,shuffle = True)"
      ],
      "metadata": {
        "id": "_MjDS_zbYJ3_"
      },
      "execution_count": 49,
      "outputs": []
    },
    {
      "cell_type": "code",
      "source": [
        "def count(y):\n",
        "  n = len(y)\n",
        "  count_0 = 0\n",
        "  count_1 = 1\n",
        "  for i in range(n):\n",
        "    if(y[i]==0):\n",
        "      count_0+=1\n",
        "    else:\n",
        "      count_1+=1\n",
        "  return (count_0,count_1)"
      ],
      "metadata": {
        "id": "pWWdZWPPvYi-"
      },
      "execution_count": 50,
      "outputs": []
    },
    {
      "cell_type": "code",
      "source": [
        "print(\"(0's,1's) in y :\",count(y))\n",
        "print(\"(0's,1's) in y_train :\",count(y_train))\n",
        "print(\"(0's,1's) in y_val :\",count(y_val))"
      ],
      "metadata": {
        "colab": {
          "base_uri": "https://localhost:8080/"
        },
        "id": "bxeXBaBwvsOi",
        "outputId": "0e5f33cc-87cf-4be1-cba7-a7d00ab44a29"
      },
      "execution_count": 51,
      "outputs": [
        {
          "output_type": "stream",
          "name": "stdout",
          "text": [
            "(0's,1's) in y : (3850, 1401)\n",
            "(0's,1's) in y_train : (1907, 719)\n",
            "(0's,1's) in y_val : (1943, 683)\n"
          ]
        }
      ]
    },
    {
      "cell_type": "code",
      "source": [
        "print(X_train.shape,y_train.shape,X_val.shape,y_val.shape)"
      ],
      "metadata": {
        "colab": {
          "base_uri": "https://localhost:8080/"
        },
        "id": "WDJwul_bYQp6",
        "outputId": "65ddee18-613c-41f9-824b-62b2182bea35"
      },
      "execution_count": 52,
      "outputs": [
        {
          "output_type": "stream",
          "name": "stdout",
          "text": [
            "(2625, 20, 20, 3) (2625, 1) (2625, 20, 20, 3) (2625, 1)\n"
          ]
        }
      ]
    },
    {
      "cell_type": "markdown",
      "source": [
        "Variables"
      ],
      "metadata": {
        "id": "c_c-v5ld658t"
      }
    },
    {
      "cell_type": "code",
      "source": [
        "def get_f1(y_true, y_pred): #taken from old keras source code\n",
        "    true_positives = K.sum(K.round(K.clip(y_true * y_pred, 0, 1)))\n",
        "    possible_positives = K.sum(K.round(K.clip(y_true, 0, 1)))\n",
        "    predicted_positives = K.sum(K.round(K.clip(y_pred, 0, 1)))\n",
        "    precision = true_positives / (predicted_positives + K.epsilon())\n",
        "    recall = true_positives / (possible_positives + K.epsilon())\n",
        "    f1_val = 2*(precision*recall)/(precision+recall+K.epsilon())\n",
        "    return f1_val"
      ],
      "metadata": {
        "id": "0RZy-S8-aeSy"
      },
      "execution_count": 8,
      "outputs": []
    },
    {
      "cell_type": "code",
      "source": [
        "num_layers = 6 #repeating layers in a vision transformer\n",
        "num_epochs = 50\n",
        "input_shape = (20,20,3)\n",
        "patch_size = 4\n",
        "final_hidden_units = [2048,1024];\n",
        "dropout = 0.3\n",
        "head = 4\n",
        "dim = 64\n",
        "num_patches = (input_shape[0]//patch_size)**2 # here 25\n",
        "num_classes = 2\n",
        "transformer_units = [dim * 2,dim]\n",
        "image_size = 20"
      ],
      "metadata": {
        "id": "-4xo4-2l67-n"
      },
      "execution_count": 30,
      "outputs": []
    },
    {
      "cell_type": "markdown",
      "source": [
        "Multi Layer Perceptron"
      ],
      "metadata": {
        "id": "dwygtdk5_R0T"
      }
    },
    {
      "cell_type": "code",
      "source": [
        "data_augmentation = keras.Sequential(\n",
        "    [\n",
        "        layers.Normalization(),\n",
        "        layers.Resizing(image_size, image_size),\n",
        "        layers.RandomFlip(\"horizontal\"),\n",
        "        layers.RandomRotation(factor=0.02),\n",
        "        layers.RandomZoom(\n",
        "            height_factor=0.2, width_factor=0.2\n",
        "        ),\n",
        "    ],\n",
        "    name=\"data_augmentation\",\n",
        ")"
      ],
      "metadata": {
        "id": "1JM-lW4-z_dq"
      },
      "execution_count": 10,
      "outputs": []
    },
    {
      "cell_type": "code",
      "source": [
        "def mlp(x,hidden_units,dropout_rate):   #multi_layer_perceptron\n",
        "   for units in hidden_units:\n",
        "    x =  Dense(units = units)(x)\n",
        "    x = Dropout(dropout_rate)(x)\n",
        "   return x"
      ],
      "metadata": {
        "id": "J7KCgPxbPYkf"
      },
      "execution_count": 31,
      "outputs": []
    },
    {
      "cell_type": "code",
      "source": [
        "def create_patches(image):\n",
        "  batch_size = tf.shape(image)[0]\n",
        "  patches = extract_patches(\n",
        "      images = image,\n",
        "      sizes = [1,patch_size,patch_size,1],\n",
        "      strides = [1,patch_size,patch_size,1],\n",
        "      padding = \"VALID\",\n",
        "      rates = [1,1,1,1],\n",
        "  )\n",
        "  patch_dims = patches.shape[-1]\n",
        "  patches = tf.reshape(patches, [batch_size, -1, patch_dims])\n",
        "  return patches"
      ],
      "metadata": {
        "id": "bTlvmEUoZ9A6"
      },
      "execution_count": 32,
      "outputs": []
    },
    {
      "cell_type": "code",
      "source": [
        "def encode_patches(patches):\n",
        "  positions = tf.range(start=0, limit=num_patches, delta=1)\n",
        "  patches = Dense(units = dim)(patches)\n",
        "  positions = Embedding(input_dim = num_patches,output_dim = dim)(positions)\n",
        "  encoded_patches = patches+positions\n",
        "  return encoded_patches"
      ],
      "metadata": {
        "id": "d-IVbHqP9LUz"
      },
      "execution_count": 33,
      "outputs": []
    },
    {
      "cell_type": "code",
      "source": [
        "def vit_classifier():\n",
        "  input = Input(shape = input_shape)\n",
        "  #augmented_data = data_augmentation(input)\n",
        "  patches = create_patches(input)\n",
        "  encoded_patches = encode_patches(patches)\n",
        "\n",
        "  for i in range(num_layers):\n",
        "    x = LayerNormalization(epsilon = 1e-6)(encoded_patches)\n",
        "    x1 = MultiHeadAttention(num_heads = head,key_dim = dim,dropout = dropout)(x,x)\n",
        "    x2 = Add()([x1,encoded_patches])\n",
        "    x2 = LayerNormalization(epsilon = 1e-6)(x2)\n",
        "    x3 = mlp(x2,transformer_units,dropout)\n",
        "    encoded_patches = Add()([x3,x2])\n",
        "  x = LayerNormalization(epsilon = 1e-6)(encoded_patches)\n",
        "  x = Flatten()(x)\n",
        "  x = Dropout(dropout)(x)\n",
        "  x = mlp(x,final_hidden_units,dropout)\n",
        "  y = Dense(units = num_classes,activation = \"softmax\")(x)\n",
        "  model = Model(inputs = input,outputs = y)\n",
        "  return model\n"
      ],
      "metadata": {
        "id": "mNPuTxykQcqJ"
      },
      "execution_count": 34,
      "outputs": []
    },
    {
      "cell_type": "code",
      "source": [
        "model = vit_classifier()"
      ],
      "metadata": {
        "id": "Apf2jxDqNnXx"
      },
      "execution_count": 53,
      "outputs": []
    },
    {
      "cell_type": "code",
      "source": [
        "model.compile(optimizer = 'Adadelta',loss = 'sparse_categorical_crossentropy',metrics = ['accuracy'])"
      ],
      "metadata": {
        "id": "PoQIounXNrHD"
      },
      "execution_count": 54,
      "outputs": []
    },
    {
      "cell_type": "code",
      "source": [
        "stop_early = tf.keras.callbacks.EarlyStopping(monitor='val_loss', patience=5)"
      ],
      "metadata": {
        "id": "XwwT11b9tnR6"
      },
      "execution_count": 55,
      "outputs": []
    },
    {
      "cell_type": "code",
      "source": [
        "history = model.fit(X_train,y_train,validation_data = (X_val,y_val),epochs = num_epochs,callbacks = [stop_early])"
      ],
      "metadata": {
        "colab": {
          "base_uri": "https://localhost:8080/"
        },
        "id": "2AFqApjoOB5p",
        "outputId": "25e236d4-f555-4a39-b22e-322386197a93"
      },
      "execution_count": 56,
      "outputs": [
        {
          "output_type": "stream",
          "name": "stdout",
          "text": [
            "Epoch 1/50\n",
            "83/83 [==============================] - 22s 69ms/step - loss: 1.5886 - accuracy: 0.5150 - val_loss: 0.8118 - val_accuracy: 0.6282\n",
            "Epoch 2/50\n",
            "83/83 [==============================] - 4s 47ms/step - loss: 1.4015 - accuracy: 0.5330 - val_loss: 0.7313 - val_accuracy: 0.6583\n",
            "Epoch 3/50\n",
            "83/83 [==============================] - 3s 42ms/step - loss: 1.3016 - accuracy: 0.5813 - val_loss: 0.7020 - val_accuracy: 0.6728\n",
            "Epoch 4/50\n",
            "83/83 [==============================] - 3s 41ms/step - loss: 1.3239 - accuracy: 0.5608 - val_loss: 0.6846 - val_accuracy: 0.6869\n",
            "Epoch 5/50\n",
            "83/83 [==============================] - 5s 55ms/step - loss: 1.3097 - accuracy: 0.5669 - val_loss: 0.6731 - val_accuracy: 0.6990\n",
            "Epoch 6/50\n",
            "83/83 [==============================] - 4s 52ms/step - loss: 1.2507 - accuracy: 0.5989 - val_loss: 0.6619 - val_accuracy: 0.7063\n",
            "Epoch 7/50\n",
            "83/83 [==============================] - 4s 48ms/step - loss: 1.2022 - accuracy: 0.6046 - val_loss: 0.6563 - val_accuracy: 0.7116\n",
            "Epoch 8/50\n",
            "83/83 [==============================] - 3s 35ms/step - loss: 1.2395 - accuracy: 0.5950 - val_loss: 0.6459 - val_accuracy: 0.7211\n",
            "Epoch 9/50\n",
            "83/83 [==============================] - 4s 48ms/step - loss: 1.1360 - accuracy: 0.6099 - val_loss: 0.6402 - val_accuracy: 0.7253\n",
            "Epoch 10/50\n",
            "83/83 [==============================] - 5s 55ms/step - loss: 1.0929 - accuracy: 0.6339 - val_loss: 0.6305 - val_accuracy: 0.7280\n",
            "Epoch 11/50\n",
            "83/83 [==============================] - 3s 34ms/step - loss: 1.0863 - accuracy: 0.6362 - val_loss: 0.6241 - val_accuracy: 0.7318\n",
            "Epoch 12/50\n",
            "83/83 [==============================] - 3s 35ms/step - loss: 1.1000 - accuracy: 0.6408 - val_loss: 0.6188 - val_accuracy: 0.7360\n",
            "Epoch 13/50\n",
            "83/83 [==============================] - 3s 34ms/step - loss: 1.1330 - accuracy: 0.6297 - val_loss: 0.6126 - val_accuracy: 0.7429\n",
            "Epoch 14/50\n",
            "83/83 [==============================] - 4s 47ms/step - loss: 1.0747 - accuracy: 0.6396 - val_loss: 0.6078 - val_accuracy: 0.7490\n",
            "Epoch 15/50\n",
            "83/83 [==============================] - 5s 58ms/step - loss: 1.0681 - accuracy: 0.6514 - val_loss: 0.6043 - val_accuracy: 0.7501\n",
            "Epoch 16/50\n",
            "83/83 [==============================] - 3s 41ms/step - loss: 1.0483 - accuracy: 0.6350 - val_loss: 0.6011 - val_accuracy: 0.7528\n",
            "Epoch 17/50\n",
            "83/83 [==============================] - 3s 41ms/step - loss: 1.0207 - accuracy: 0.6651 - val_loss: 0.5978 - val_accuracy: 0.7547\n",
            "Epoch 18/50\n",
            "83/83 [==============================] - 3s 42ms/step - loss: 1.0188 - accuracy: 0.6480 - val_loss: 0.5933 - val_accuracy: 0.7566\n",
            "Epoch 19/50\n",
            "83/83 [==============================] - 5s 57ms/step - loss: 1.0150 - accuracy: 0.6602 - val_loss: 0.5918 - val_accuracy: 0.7573\n",
            "Epoch 20/50\n",
            "83/83 [==============================] - 4s 46ms/step - loss: 1.0046 - accuracy: 0.6640 - val_loss: 0.5861 - val_accuracy: 0.7589\n",
            "Epoch 21/50\n",
            "83/83 [==============================] - 3s 41ms/step - loss: 1.0102 - accuracy: 0.6659 - val_loss: 0.5825 - val_accuracy: 0.7589\n",
            "Epoch 22/50\n",
            "83/83 [==============================] - 3s 42ms/step - loss: 0.9794 - accuracy: 0.6629 - val_loss: 0.5791 - val_accuracy: 0.7604\n",
            "Epoch 23/50\n",
            "83/83 [==============================] - 5s 56ms/step - loss: 0.9976 - accuracy: 0.6705 - val_loss: 0.5737 - val_accuracy: 0.7634\n",
            "Epoch 24/50\n",
            "83/83 [==============================] - 4s 46ms/step - loss: 0.9376 - accuracy: 0.6686 - val_loss: 0.5714 - val_accuracy: 0.7653\n",
            "Epoch 25/50\n",
            "83/83 [==============================] - 3s 35ms/step - loss: 0.9843 - accuracy: 0.6724 - val_loss: 0.5668 - val_accuracy: 0.7676\n",
            "Epoch 26/50\n",
            "83/83 [==============================] - 3s 36ms/step - loss: 1.0032 - accuracy: 0.6621 - val_loss: 0.5634 - val_accuracy: 0.7661\n",
            "Epoch 27/50\n",
            "83/83 [==============================] - 3s 40ms/step - loss: 0.9470 - accuracy: 0.6743 - val_loss: 0.5602 - val_accuracy: 0.7672\n",
            "Epoch 28/50\n",
            "83/83 [==============================] - 5s 57ms/step - loss: 0.9288 - accuracy: 0.6735 - val_loss: 0.5569 - val_accuracy: 0.7691\n",
            "Epoch 29/50\n",
            "83/83 [==============================] - 3s 40ms/step - loss: 0.9522 - accuracy: 0.6762 - val_loss: 0.5530 - val_accuracy: 0.7699\n",
            "Epoch 30/50\n",
            "83/83 [==============================] - 3s 35ms/step - loss: 0.9283 - accuracy: 0.6770 - val_loss: 0.5513 - val_accuracy: 0.7714\n",
            "Epoch 31/50\n",
            "83/83 [==============================] - 3s 42ms/step - loss: 0.9781 - accuracy: 0.6735 - val_loss: 0.5475 - val_accuracy: 0.7737\n",
            "Epoch 32/50\n",
            "83/83 [==============================] - 4s 47ms/step - loss: 0.8976 - accuracy: 0.6766 - val_loss: 0.5466 - val_accuracy: 0.7752\n",
            "Epoch 33/50\n",
            "83/83 [==============================] - 5s 58ms/step - loss: 0.9791 - accuracy: 0.6644 - val_loss: 0.5431 - val_accuracy: 0.7756\n",
            "Epoch 34/50\n",
            "83/83 [==============================] - 3s 41ms/step - loss: 0.9099 - accuracy: 0.6789 - val_loss: 0.5424 - val_accuracy: 0.7749\n",
            "Epoch 35/50\n",
            "83/83 [==============================] - 4s 42ms/step - loss: 0.9131 - accuracy: 0.6796 - val_loss: 0.5403 - val_accuracy: 0.7756\n",
            "Epoch 36/50\n",
            "83/83 [==============================] - 3s 42ms/step - loss: 0.9122 - accuracy: 0.6789 - val_loss: 0.5394 - val_accuracy: 0.7760\n",
            "Epoch 37/50\n",
            "83/83 [==============================] - 5s 54ms/step - loss: 0.9084 - accuracy: 0.6895 - val_loss: 0.5376 - val_accuracy: 0.7779\n",
            "Epoch 38/50\n",
            "83/83 [==============================] - 4s 45ms/step - loss: 0.9362 - accuracy: 0.6865 - val_loss: 0.5355 - val_accuracy: 0.7779\n",
            "Epoch 39/50\n",
            "83/83 [==============================] - 3s 41ms/step - loss: 0.8941 - accuracy: 0.6857 - val_loss: 0.5343 - val_accuracy: 0.7798\n",
            "Epoch 40/50\n",
            "83/83 [==============================] - 3s 35ms/step - loss: 0.9092 - accuracy: 0.6758 - val_loss: 0.5332 - val_accuracy: 0.7802\n",
            "Epoch 41/50\n",
            "83/83 [==============================] - 4s 51ms/step - loss: 0.8903 - accuracy: 0.6891 - val_loss: 0.5301 - val_accuracy: 0.7798\n",
            "Epoch 42/50\n",
            "83/83 [==============================] - 4s 50ms/step - loss: 0.8873 - accuracy: 0.6865 - val_loss: 0.5300 - val_accuracy: 0.7794\n",
            "Epoch 43/50\n",
            "83/83 [==============================] - 3s 42ms/step - loss: 0.8941 - accuracy: 0.6850 - val_loss: 0.5275 - val_accuracy: 0.7810\n",
            "Epoch 44/50\n",
            "83/83 [==============================] - 3s 35ms/step - loss: 0.9082 - accuracy: 0.6773 - val_loss: 0.5273 - val_accuracy: 0.7836\n",
            "Epoch 45/50\n",
            "83/83 [==============================] - 3s 42ms/step - loss: 0.8264 - accuracy: 0.6994 - val_loss: 0.5270 - val_accuracy: 0.7840\n",
            "Epoch 46/50\n",
            "83/83 [==============================] - 5s 55ms/step - loss: 0.8160 - accuracy: 0.7010 - val_loss: 0.5243 - val_accuracy: 0.7867\n",
            "Epoch 47/50\n",
            "83/83 [==============================] - 3s 39ms/step - loss: 0.8370 - accuracy: 0.6945 - val_loss: 0.5228 - val_accuracy: 0.7870\n",
            "Epoch 48/50\n",
            "83/83 [==============================] - 3s 35ms/step - loss: 0.8529 - accuracy: 0.7040 - val_loss: 0.5202 - val_accuracy: 0.7874\n",
            "Epoch 49/50\n",
            "83/83 [==============================] - 3s 42ms/step - loss: 0.8608 - accuracy: 0.6937 - val_loss: 0.5186 - val_accuracy: 0.7874\n",
            "Epoch 50/50\n",
            "83/83 [==============================] - 4s 47ms/step - loss: 0.9046 - accuracy: 0.6941 - val_loss: 0.5170 - val_accuracy: 0.7901\n"
          ]
        }
      ]
    },
    {
      "cell_type": "code",
      "source": [
        "y_val_predict = model.predict(X_val)\n",
        "y_val_predict"
      ],
      "metadata": {
        "colab": {
          "base_uri": "https://localhost:8080/"
        },
        "id": "kFCGhDsuQhUz",
        "outputId": "b15fbd1e-5504-4900-c2d9-dea5b679b267"
      },
      "execution_count": 57,
      "outputs": [
        {
          "output_type": "stream",
          "name": "stdout",
          "text": [
            "83/83 [==============================] - 2s 10ms/step\n"
          ]
        },
        {
          "output_type": "execute_result",
          "data": {
            "text/plain": [
              "array([[2.70158947e-01, 7.29841053e-01],\n",
              "       [9.99999881e-01, 1.17071856e-07],\n",
              "       [9.02768672e-01, 9.72312465e-02],\n",
              "       ...,\n",
              "       [5.83815351e-02, 9.41618502e-01],\n",
              "       [3.48419100e-01, 6.51580930e-01],\n",
              "       [2.57718457e-05, 9.99974251e-01]], dtype=float32)"
            ]
          },
          "metadata": {},
          "execution_count": 57
        }
      ]
    },
    {
      "cell_type": "code",
      "source": [
        "y_val_fa = np.zeros([len(y_val_predict)])\n",
        "for i in range(len(y_val_predict)):\n",
        "  if(y_val_predict[i][0]>y_val_predict[i][1]):\n",
        "    y_val_fa[i] = 0\n",
        "  else:\n",
        "    y_val_fa[i] = 1\n",
        "y_val_fa\n"
      ],
      "metadata": {
        "colab": {
          "base_uri": "https://localhost:8080/"
        },
        "id": "7XEBRMpYQ235",
        "outputId": "93aca311-f4b8-46eb-cb28-6436e940cc20"
      },
      "execution_count": 58,
      "outputs": [
        {
          "output_type": "execute_result",
          "data": {
            "text/plain": [
              "array([1., 0., 0., ..., 1., 1., 1.])"
            ]
          },
          "metadata": {},
          "execution_count": 58
        }
      ]
    },
    {
      "cell_type": "code",
      "source": [
        "y_val_fa = y_val_fa.reshape(-1,1)\n",
        "f1_score(y_val,y_val_fa)"
      ],
      "metadata": {
        "colab": {
          "base_uri": "https://localhost:8080/"
        },
        "id": "ok7GnkbaRtdO",
        "outputId": "7d200e61-3698-4828-8536-4ac67ce706b8"
      },
      "execution_count": 59,
      "outputs": [
        {
          "output_type": "execute_result",
          "data": {
            "text/plain": [
              "0.5963369963369963"
            ]
          },
          "metadata": {},
          "execution_count": 59
        }
      ]
    },
    {
      "cell_type": "code",
      "source": [
        "df_test.head()"
      ],
      "metadata": {
        "colab": {
          "base_uri": "https://localhost:8080/",
          "height": 299
        },
        "id": "TZ_kZ2S-R4ox",
        "outputId": "fa938392-6b09-44e1-d00e-643e0611e520"
      },
      "execution_count": 60,
      "outputs": [
        {
          "output_type": "execute_result",
          "data": {
            "text/plain": [
              "   id       f_0       f_1       f_2       f_3       f_4       f_5       f_6  \\\n",
              "0   1 -3.388242  0.868285 -0.427619 -0.678964 -1.625735  0.262761  1.243040   \n",
              "1   2 -0.496920  0.952381  0.989040  0.451422  0.513516 -0.099658 -1.124326   \n",
              "2   3  1.128369 -0.537951  2.544358  1.165254 -1.904994  0.776961 -0.495768   \n",
              "3   4  0.051253  1.746814  0.681177  1.844524 -0.327977  1.226839 -0.085519   \n",
              "4   5  1.423209 -0.983594 -1.694170  1.197507  1.044211  0.518777 -0.298612   \n",
              "\n",
              "        f_7       f_8  ...    f_1190    f_1191    f_1192    f_1193    f_1194  \\\n",
              "0  1.537751 -0.352028  ... -0.776403 -0.662884 -0.257091 -1.168413  0.223260   \n",
              "1  0.729430 -0.216224  ...  0.379635 -1.760084  1.125450 -0.328047 -0.880305   \n",
              "2  0.060111 -1.418468  ...  1.165254 -1.373589 -0.483701 -0.964782 -0.869555   \n",
              "3  0.379008 -1.003667  ... -0.442288 -2.794472 -0.763468 -0.789832 -0.113209   \n",
              "4 -0.365174  0.738447  ... -2.624450 -3.200223  0.711422 -0.190394  0.337224   \n",
              "\n",
              "     f_1195    f_1196    f_1197    f_1198    f_1199  \n",
              "0 -0.482520 -0.085453 -0.382265 -0.539349 -1.682404  \n",
              "1 -1.257607  0.964312  2.021104  0.655021 -0.423029  \n",
              "2  0.066040 -0.444567 -0.531935 -0.878660  1.099488  \n",
              "3 -2.703150 -2.058728  1.070627 -0.458045 -0.435825  \n",
              "4 -1.656639  0.707360 -0.562290  1.471181 -0.192000  \n",
              "\n",
              "[5 rows x 1201 columns]"
            ],
            "text/html": [
              "\n",
              "  <div id=\"df-59b665ef-81da-42ae-b1a3-2835083c60c8\">\n",
              "    <div class=\"colab-df-container\">\n",
              "      <div>\n",
              "<style scoped>\n",
              "    .dataframe tbody tr th:only-of-type {\n",
              "        vertical-align: middle;\n",
              "    }\n",
              "\n",
              "    .dataframe tbody tr th {\n",
              "        vertical-align: top;\n",
              "    }\n",
              "\n",
              "    .dataframe thead th {\n",
              "        text-align: right;\n",
              "    }\n",
              "</style>\n",
              "<table border=\"1\" class=\"dataframe\">\n",
              "  <thead>\n",
              "    <tr style=\"text-align: right;\">\n",
              "      <th></th>\n",
              "      <th>id</th>\n",
              "      <th>f_0</th>\n",
              "      <th>f_1</th>\n",
              "      <th>f_2</th>\n",
              "      <th>f_3</th>\n",
              "      <th>f_4</th>\n",
              "      <th>f_5</th>\n",
              "      <th>f_6</th>\n",
              "      <th>f_7</th>\n",
              "      <th>f_8</th>\n",
              "      <th>...</th>\n",
              "      <th>f_1190</th>\n",
              "      <th>f_1191</th>\n",
              "      <th>f_1192</th>\n",
              "      <th>f_1193</th>\n",
              "      <th>f_1194</th>\n",
              "      <th>f_1195</th>\n",
              "      <th>f_1196</th>\n",
              "      <th>f_1197</th>\n",
              "      <th>f_1198</th>\n",
              "      <th>f_1199</th>\n",
              "    </tr>\n",
              "  </thead>\n",
              "  <tbody>\n",
              "    <tr>\n",
              "      <th>0</th>\n",
              "      <td>1</td>\n",
              "      <td>-3.388242</td>\n",
              "      <td>0.868285</td>\n",
              "      <td>-0.427619</td>\n",
              "      <td>-0.678964</td>\n",
              "      <td>-1.625735</td>\n",
              "      <td>0.262761</td>\n",
              "      <td>1.243040</td>\n",
              "      <td>1.537751</td>\n",
              "      <td>-0.352028</td>\n",
              "      <td>...</td>\n",
              "      <td>-0.776403</td>\n",
              "      <td>-0.662884</td>\n",
              "      <td>-0.257091</td>\n",
              "      <td>-1.168413</td>\n",
              "      <td>0.223260</td>\n",
              "      <td>-0.482520</td>\n",
              "      <td>-0.085453</td>\n",
              "      <td>-0.382265</td>\n",
              "      <td>-0.539349</td>\n",
              "      <td>-1.682404</td>\n",
              "    </tr>\n",
              "    <tr>\n",
              "      <th>1</th>\n",
              "      <td>2</td>\n",
              "      <td>-0.496920</td>\n",
              "      <td>0.952381</td>\n",
              "      <td>0.989040</td>\n",
              "      <td>0.451422</td>\n",
              "      <td>0.513516</td>\n",
              "      <td>-0.099658</td>\n",
              "      <td>-1.124326</td>\n",
              "      <td>0.729430</td>\n",
              "      <td>-0.216224</td>\n",
              "      <td>...</td>\n",
              "      <td>0.379635</td>\n",
              "      <td>-1.760084</td>\n",
              "      <td>1.125450</td>\n",
              "      <td>-0.328047</td>\n",
              "      <td>-0.880305</td>\n",
              "      <td>-1.257607</td>\n",
              "      <td>0.964312</td>\n",
              "      <td>2.021104</td>\n",
              "      <td>0.655021</td>\n",
              "      <td>-0.423029</td>\n",
              "    </tr>\n",
              "    <tr>\n",
              "      <th>2</th>\n",
              "      <td>3</td>\n",
              "      <td>1.128369</td>\n",
              "      <td>-0.537951</td>\n",
              "      <td>2.544358</td>\n",
              "      <td>1.165254</td>\n",
              "      <td>-1.904994</td>\n",
              "      <td>0.776961</td>\n",
              "      <td>-0.495768</td>\n",
              "      <td>0.060111</td>\n",
              "      <td>-1.418468</td>\n",
              "      <td>...</td>\n",
              "      <td>1.165254</td>\n",
              "      <td>-1.373589</td>\n",
              "      <td>-0.483701</td>\n",
              "      <td>-0.964782</td>\n",
              "      <td>-0.869555</td>\n",
              "      <td>0.066040</td>\n",
              "      <td>-0.444567</td>\n",
              "      <td>-0.531935</td>\n",
              "      <td>-0.878660</td>\n",
              "      <td>1.099488</td>\n",
              "    </tr>\n",
              "    <tr>\n",
              "      <th>3</th>\n",
              "      <td>4</td>\n",
              "      <td>0.051253</td>\n",
              "      <td>1.746814</td>\n",
              "      <td>0.681177</td>\n",
              "      <td>1.844524</td>\n",
              "      <td>-0.327977</td>\n",
              "      <td>1.226839</td>\n",
              "      <td>-0.085519</td>\n",
              "      <td>0.379008</td>\n",
              "      <td>-1.003667</td>\n",
              "      <td>...</td>\n",
              "      <td>-0.442288</td>\n",
              "      <td>-2.794472</td>\n",
              "      <td>-0.763468</td>\n",
              "      <td>-0.789832</td>\n",
              "      <td>-0.113209</td>\n",
              "      <td>-2.703150</td>\n",
              "      <td>-2.058728</td>\n",
              "      <td>1.070627</td>\n",
              "      <td>-0.458045</td>\n",
              "      <td>-0.435825</td>\n",
              "    </tr>\n",
              "    <tr>\n",
              "      <th>4</th>\n",
              "      <td>5</td>\n",
              "      <td>1.423209</td>\n",
              "      <td>-0.983594</td>\n",
              "      <td>-1.694170</td>\n",
              "      <td>1.197507</td>\n",
              "      <td>1.044211</td>\n",
              "      <td>0.518777</td>\n",
              "      <td>-0.298612</td>\n",
              "      <td>-0.365174</td>\n",
              "      <td>0.738447</td>\n",
              "      <td>...</td>\n",
              "      <td>-2.624450</td>\n",
              "      <td>-3.200223</td>\n",
              "      <td>0.711422</td>\n",
              "      <td>-0.190394</td>\n",
              "      <td>0.337224</td>\n",
              "      <td>-1.656639</td>\n",
              "      <td>0.707360</td>\n",
              "      <td>-0.562290</td>\n",
              "      <td>1.471181</td>\n",
              "      <td>-0.192000</td>\n",
              "    </tr>\n",
              "  </tbody>\n",
              "</table>\n",
              "<p>5 rows × 1201 columns</p>\n",
              "</div>\n",
              "      <button class=\"colab-df-convert\" onclick=\"convertToInteractive('df-59b665ef-81da-42ae-b1a3-2835083c60c8')\"\n",
              "              title=\"Convert this dataframe to an interactive table.\"\n",
              "              style=\"display:none;\">\n",
              "        \n",
              "  <svg xmlns=\"http://www.w3.org/2000/svg\" height=\"24px\"viewBox=\"0 0 24 24\"\n",
              "       width=\"24px\">\n",
              "    <path d=\"M0 0h24v24H0V0z\" fill=\"none\"/>\n",
              "    <path d=\"M18.56 5.44l.94 2.06.94-2.06 2.06-.94-2.06-.94-.94-2.06-.94 2.06-2.06.94zm-11 1L8.5 8.5l.94-2.06 2.06-.94-2.06-.94L8.5 2.5l-.94 2.06-2.06.94zm10 10l.94 2.06.94-2.06 2.06-.94-2.06-.94-.94-2.06-.94 2.06-2.06.94z\"/><path d=\"M17.41 7.96l-1.37-1.37c-.4-.4-.92-.59-1.43-.59-.52 0-1.04.2-1.43.59L10.3 9.45l-7.72 7.72c-.78.78-.78 2.05 0 2.83L4 21.41c.39.39.9.59 1.41.59.51 0 1.02-.2 1.41-.59l7.78-7.78 2.81-2.81c.8-.78.8-2.07 0-2.86zM5.41 20L4 18.59l7.72-7.72 1.47 1.35L5.41 20z\"/>\n",
              "  </svg>\n",
              "      </button>\n",
              "      \n",
              "  <style>\n",
              "    .colab-df-container {\n",
              "      display:flex;\n",
              "      flex-wrap:wrap;\n",
              "      gap: 12px;\n",
              "    }\n",
              "\n",
              "    .colab-df-convert {\n",
              "      background-color: #E8F0FE;\n",
              "      border: none;\n",
              "      border-radius: 50%;\n",
              "      cursor: pointer;\n",
              "      display: none;\n",
              "      fill: #1967D2;\n",
              "      height: 32px;\n",
              "      padding: 0 0 0 0;\n",
              "      width: 32px;\n",
              "    }\n",
              "\n",
              "    .colab-df-convert:hover {\n",
              "      background-color: #E2EBFA;\n",
              "      box-shadow: 0px 1px 2px rgba(60, 64, 67, 0.3), 0px 1px 3px 1px rgba(60, 64, 67, 0.15);\n",
              "      fill: #174EA6;\n",
              "    }\n",
              "\n",
              "    [theme=dark] .colab-df-convert {\n",
              "      background-color: #3B4455;\n",
              "      fill: #D2E3FC;\n",
              "    }\n",
              "\n",
              "    [theme=dark] .colab-df-convert:hover {\n",
              "      background-color: #434B5C;\n",
              "      box-shadow: 0px 1px 3px 1px rgba(0, 0, 0, 0.15);\n",
              "      filter: drop-shadow(0px 1px 2px rgba(0, 0, 0, 0.3));\n",
              "      fill: #FFFFFF;\n",
              "    }\n",
              "  </style>\n",
              "\n",
              "      <script>\n",
              "        const buttonEl =\n",
              "          document.querySelector('#df-59b665ef-81da-42ae-b1a3-2835083c60c8 button.colab-df-convert');\n",
              "        buttonEl.style.display =\n",
              "          google.colab.kernel.accessAllowed ? 'block' : 'none';\n",
              "\n",
              "        async function convertToInteractive(key) {\n",
              "          const element = document.querySelector('#df-59b665ef-81da-42ae-b1a3-2835083c60c8');\n",
              "          const dataTable =\n",
              "            await google.colab.kernel.invokeFunction('convertToInteractive',\n",
              "                                                     [key], {});\n",
              "          if (!dataTable) return;\n",
              "\n",
              "          const docLinkHtml = 'Like what you see? Visit the ' +\n",
              "            '<a target=\"_blank\" href=https://colab.research.google.com/notebooks/data_table.ipynb>data table notebook</a>'\n",
              "            + ' to learn more about interactive tables.';\n",
              "          element.innerHTML = '';\n",
              "          dataTable['output_type'] = 'display_data';\n",
              "          await google.colab.output.renderOutput(dataTable, element);\n",
              "          const docLink = document.createElement('div');\n",
              "          docLink.innerHTML = docLinkHtml;\n",
              "          element.appendChild(docLink);\n",
              "        }\n",
              "      </script>\n",
              "    </div>\n",
              "  </div>\n",
              "  "
            ]
          },
          "metadata": {},
          "execution_count": 60
        }
      ]
    },
    {
      "cell_type": "code",
      "source": [
        "X_test = df_test.drop('id',axis = 1).to_numpy()\n",
        "id = df_test['id'].to_numpy()\n",
        "X_test = X_test.reshape(-1,20,20,3)"
      ],
      "metadata": {
        "id": "DrE6a-5cR-Ls"
      },
      "execution_count": 61,
      "outputs": []
    },
    {
      "cell_type": "code",
      "source": [
        "y_test = model.predict(X_test)\n",
        "y_fa = np.zeros([len(y_test)])\n",
        "for i in range(len(y_test)):\n",
        "  if(y_test[i][0]>y_test[i][1]):\n",
        "    y_fa[i] = 0\n",
        "  else:\n",
        "    y_fa[i] = 1\n",
        "y_fa"
      ],
      "metadata": {
        "colab": {
          "base_uri": "https://localhost:8080/"
        },
        "id": "zc8bFWT_Sav_",
        "outputId": "51d99b7f-b963-405d-9fb8-fe9dee8a40a1"
      },
      "execution_count": 62,
      "outputs": [
        {
          "output_type": "stream",
          "name": "stdout",
          "text": [
            "71/71 [==============================] - 1s 10ms/step\n"
          ]
        },
        {
          "output_type": "execute_result",
          "data": {
            "text/plain": [
              "array([1., 0., 0., ..., 1., 0., 0.])"
            ]
          },
          "metadata": {},
          "execution_count": 62
        }
      ]
    },
    {
      "cell_type": "code",
      "source": [
        "y_fa.shape"
      ],
      "metadata": {
        "colab": {
          "base_uri": "https://localhost:8080/"
        },
        "id": "6SymZRpZTe0k",
        "outputId": "850a66a6-4666-43c3-afc8-8d1f6602c669"
      },
      "execution_count": 63,
      "outputs": [
        {
          "output_type": "execute_result",
          "data": {
            "text/plain": [
              "(2250,)"
            ]
          },
          "metadata": {},
          "execution_count": 63
        }
      ]
    },
    {
      "cell_type": "code",
      "source": [
        "id = id.reshape(-1,1)\n",
        "y_fa = y_fa.reshape(-1,1)\n",
        "print(id.shape,y_fa.shape)"
      ],
      "metadata": {
        "colab": {
          "base_uri": "https://localhost:8080/"
        },
        "id": "tnfDcqTtS7_H",
        "outputId": "b8611635-4e59-490c-95bd-d869fba809cb"
      },
      "execution_count": 64,
      "outputs": [
        {
          "output_type": "stream",
          "name": "stdout",
          "text": [
            "(2250, 1) (2250, 1)\n"
          ]
        }
      ]
    },
    {
      "cell_type": "code",
      "source": [
        "temp = np.concatenate([id,y_fa],axis = 1)\n",
        "temp.shape"
      ],
      "metadata": {
        "colab": {
          "base_uri": "https://localhost:8080/"
        },
        "id": "_2c6D1cqTPgb",
        "outputId": "dc5d6cbe-baf8-4572-9c56-f72984e74df4"
      },
      "execution_count": 65,
      "outputs": [
        {
          "output_type": "execute_result",
          "data": {
            "text/plain": [
              "(2250, 2)"
            ]
          },
          "metadata": {},
          "execution_count": 65
        }
      ]
    },
    {
      "cell_type": "code",
      "source": [
        "submission = pd.DataFrame(temp,columns = ['id','labels'])"
      ],
      "metadata": {
        "id": "NF3RiW2xSzo-"
      },
      "execution_count": 66,
      "outputs": []
    },
    {
      "cell_type": "code",
      "source": [
        "submission.to_csv('vit.csv')"
      ],
      "metadata": {
        "id": "xfQjDY6mT9RI"
      },
      "execution_count": 67,
      "outputs": []
    },
    {
      "cell_type": "code",
      "source": [
        "plt.plot(history.history['loss'])\n",
        "plt.plot(history.history['val_loss'])\n",
        "plt.title('model loss')\n",
        "plt.xlabel('epoch')\n",
        "plt.ylabel('loss')\n",
        "plt.show()"
      ],
      "metadata": {
        "colab": {
          "base_uri": "https://localhost:8080/",
          "height": 472
        },
        "id": "5FOOKlfEceoZ",
        "outputId": "5635d5ef-274c-40ff-bce0-fcf34a5c7197"
      },
      "execution_count": 68,
      "outputs": [
        {
          "output_type": "display_data",
          "data": {
            "text/plain": [
              "<Figure size 640x480 with 1 Axes>"
            ],
            "image/png": "[encoded data removed]"
          },
          "metadata": {}
        }
      ]
    }
  ]
}