{
  "cells": [
    {
      "cell_type": "code",
      "execution_count": 4,
      "metadata": {
        "id": "mmw9d-MSIkko"
      },
      "outputs": [],
      "source": [
        "import numpy as np\n",
        "import pandas as pd\n",
        "from sklearn.model_selection import train_test_split\n",
        "import tensorflow as tf\n",
        "from tensorflow.keras.layers import Conv2D,Dense,Flatten,Input,Activation,BatchNormalization,MaxPooling2D,AveragePooling2D,ZeroPadding2D,Add,Dropout\n",
        "from tensorflow.keras import Input,Model\n",
        "from tensorflow.keras.initializers import GlorotUniform as glorot_uniform\n",
        "from tensorflow.keras.wrappers.scikit_learn import KerasClassifier\n",
        "from sklearn.model_selection import GridSearchCV\n",
        "from sklearn.metrics import f1_score"
      ]
    },
    {
      "cell_type": "code",
      "source": [
        "from google.colab import drive\n",
        "drive.mount('/content/drive')"
      ],
      "metadata": {
        "colab": {
          "base_uri": "https://localhost:8080/"
        },
        "id": "_aSferihhk0r",
        "outputId": "7bb74d1a-e171-4b54-c920-ad4e55d2e1f6"
      },
      "execution_count": 2,
      "outputs": [
        {
          "output_type": "stream",
          "name": "stdout",
          "text": [
            "Mounted at /content/drive\n"
          ]
        }
      ]
    },
    {
      "cell_type": "code",
      "execution_count": 5,
      "metadata": {
        "id": "0JAKJPd5IzdE"
      },
      "outputs": [],
      "source": [
        "def identity_block(X, f, filters, stage, block,l):\n",
        "    \"\"\"\n",
        "    Implementation of the identity block\n",
        "    \n",
        "    Arguments:\n",
        "    X -- input tensor of shape (m, n_H_prev, n_W_prev, n_C_prev)\n",
        "    f -- integer, specifying the shape of the middle CONV's window for the main path\n",
        "    filters -- python list of integers, defining the number of filters in the CONV layers of the main path\n",
        "    stage -- integer, used to name the layers, depending on their position in the network\n",
        "    block -- string/character, used to name the layers, depending on their position in the network\n",
        "    \n",
        "    Returns:\n",
        "    X -- output of the identity block, tensor of shape (n_H, n_W, n_C)\n",
        "    \"\"\"\n",
        "    \n",
        "    # defining name basis\n",
        "    conv_name_base = 'res' + str(stage) + block + '_branch'\n",
        "    bn_name_base = 'bn' + str(stage) + block + '_branch'\n",
        "    \n",
        "    # Retrieve Filters\n",
        "    F1, F2, F3 = filters\n",
        "    \n",
        "    # Save the input value. You'll need this later to add back to the main path. \n",
        "    X_shortcut = X\n",
        "    \n",
        "    # First component of main path\n",
        "    X = Conv2D(filters = F1, kernel_size = (1, 1), strides = (1,1), padding = 'valid', name = conv_name_base + '2a', kernel_initializer = glorot_uniform(seed=0), kernel_regularizer = tf.keras.regularizers.l2( l=l))(X)\n",
        "    X = BatchNormalization(axis = 3, name = bn_name_base + '2a')(X)\n",
        "    X = Activation('relu')(X)\n",
        "    \n",
        "    \n",
        "    # Second component of main path\n",
        "    X = Conv2D(filters = F2, kernel_size = (f, f), strides = (1,1), padding = 'same', name = conv_name_base + '2b', kernel_initializer = glorot_uniform(seed=0),kernel_regularizer = tf.keras.regularizers.l2( l=l))(X)\n",
        "    X = BatchNormalization(axis = 3, name = bn_name_base + '2b')(X)\n",
        "    X = Activation('relu')(X)\n",
        "\n",
        "    # Third component of main path \n",
        "    X = Conv2D(filters = F3, kernel_size = (1, 1), strides = (1,1), padding = 'valid', name = conv_name_base + '2c', kernel_initializer = glorot_uniform(seed=0),kernel_regularizer = tf.keras.regularizers.l2( l=l))(X)\n",
        "    X = BatchNormalization(axis = 3, name = bn_name_base + '2c')(X)\n",
        "\n",
        "    # Final step: Add shortcut value to main path, and pass it through a RELU activation \n",
        "    X = Add()([X, X_shortcut])\n",
        "    X = Activation('relu')(X)\n",
        "    \n",
        "    \n",
        "    return X"
      ]
    },
    {
      "cell_type": "code",
      "execution_count": 6,
      "metadata": {
        "id": "wginECrcI14B"
      },
      "outputs": [],
      "source": [
        "def convolutional_block(X, f, filters, stage, block, s = 2,l = 0.01):\n",
        "    \"\"\"\n",
        "    Implementation of the convolutional block\n",
        "    \n",
        "    Arguments:\n",
        "    X -- input tensor of shape (m, n_H_prev, n_W_prev, n_C_prev)\n",
        "    f -- integer, specifying the shape of the middle CONV's window for the main path\n",
        "    filters -- python list of integers, defining the number of filters in the CONV layers of the main path\n",
        "    stage -- integer, used to name the layers, depending on their position in the network\n",
        "    block -- string/character, used to name the layers, depending on their position in the network\n",
        "    s -- Integer, specifying the stride to be used\n",
        "    \n",
        "    Returns:\n",
        "    X -- output of the convolutional block, tensor of shape (n_H, n_W, n_C)\n",
        "    \"\"\"\n",
        "    \n",
        "    # defining name basis\n",
        "    conv_name_base = 'res' + str(stage) + block + '_branch'\n",
        "    bn_name_base = 'bn' + str(stage) + block + '_branch'\n",
        "    \n",
        "    # Retrieve Filters\n",
        "    F1, F2, F3 = filters\n",
        "    \n",
        "    # Save the input value\n",
        "    X_shortcut = X\n",
        "\n",
        "\n",
        "    ##### MAIN PATH #####\n",
        "    # First component of main path \n",
        "    X = Conv2D(F1, (1, 1), strides = (s,s), name = conv_name_base + '2a', kernel_initializer = glorot_uniform(seed=0),kernel_regularizer = tf.keras.regularizers.l2( l=l))(X)\n",
        "    X = BatchNormalization(axis = 3, name = bn_name_base + '2a')(X)\n",
        "    X = Activation('relu')(X)\n",
        "    \n",
        "\n",
        "    # Second component of main path \n",
        "    X = Conv2D(F2, (f,f), strides = (1,1), padding = 'same', name = conv_name_base + '2b', kernel_initializer=glorot_uniform(seed =0),kernel_regularizer = tf.keras.regularizers.l2( l=l))(X)\n",
        "    X = BatchNormalization(axis = 3, name = bn_name_base + '2b')(X)\n",
        "    X = Activation('relu') (X)\n",
        "\n",
        "    # Third component of main path \n",
        "    X = Conv2D(F3, (1,1), strides = (1,1), padding = 'valid', name = conv_name_base + '2c', kernel_initializer=glorot_uniform(seed =0),kernel_regularizer = tf.keras.regularizers.l2( l=l))(X)\n",
        "    X = BatchNormalization(axis = 3, name = bn_name_base + '2c')(X)\n",
        "\n",
        "    ##### SHORTCUT PATH #### \n",
        "    X_shortcut = Conv2D(F3, (1,1), strides = (s,s), padding = 'valid', name = conv_name_base + '1', kernel_initializer=glorot_uniform(seed =0),kernel_regularizer = tf.keras.regularizers.l2( l=l))(X_shortcut)\n",
        "    X_shortcut = BatchNormalization(axis = 3, name = bn_name_base + '1')(X_shortcut)\n",
        "\n",
        "    # Final step: Add shortcut value to main path, and pass it through a RELU activation \n",
        "    X = Add()([X,X_shortcut])\n",
        "    X = Activation('relu')(X)\n",
        "    \n",
        "    \n",
        "    return X"
      ]
    },
    {
      "cell_type": "code",
      "execution_count": 7,
      "metadata": {
        "id": "WDvKpttLI6Yk"
      },
      "outputs": [],
      "source": [
        "def ResNet50(input_shape = (64, 64, 3), classes = 6):\n",
        "    \"\"\"\n",
        "    Implementation of the popular ResNet50 the following architecture:\n",
        "    CONV2D -> BATCHNORM -> RELU -> MAXPOOL -> CONVBLOCK -> IDBLOCK*2 -> CONVBLOCK -> IDBLOCK*3\n",
        "    -> CONVBLOCK -> IDBLOCK*5 -> CONVBLOCK -> IDBLOCK*2 -> AVGPOOL -> TOPLAYER\n",
        "\n",
        "    Arguments:\n",
        "    input_shape -- shape of the images of the dataset\n",
        "    classes -- integer, number of classes\n",
        "    Returns:\n",
        "    model -- a Model() instance in Keras\n",
        "    \"\"\"\n",
        "    \n",
        "    # Define the input as a tensor with shape input_shape\n",
        "    X_input = Input(input_shape)\n",
        "\n",
        "    \n",
        "    # Zero-Padding\n",
        "    X = ZeroPadding2D((3, 3))(X_input)\n",
        "    \n",
        "    # Stage 1\n",
        "    X = Conv2D(64, (7, 7), strides = (2, 2), name = 'conv1', kernel_initializer = glorot_uniform(seed=0))(X)\n",
        "    X = BatchNormalization(axis = 3, name = 'bn_conv1')(X)\n",
        "    X = Activation('relu')(X)\n",
        "    X = MaxPooling2D((3, 3), strides=(2, 2))(X)\n",
        "\n",
        "    # Stage 2\n",
        "    X = convolutional_block(X, f = 3, filters = [64, 64, 256], stage = 2, block='a', s = 1,l = 0)\n",
        "    X = identity_block(X, 3, [64, 64, 256], stage=2, block='b',l=0)\n",
        "    X = identity_block(X, 3, [64, 64, 256], stage=2, block='c',l=0)\n",
        "\n",
        "\n",
        "    # Stage 3 \n",
        "    X = convolutional_block(X, f = 3, filters = [128, 128, 512], stage = 3, block='a', s = 2,l = 0)\n",
        "    X = identity_block(X, 3, [128, 128, 512], stage=3, block='b',l = 0)\n",
        "    X = identity_block(X, 3, [128, 128, 512], stage=3, block='c',l = 0)\n",
        "    X = identity_block(X, 3, [128, 128, 512], stage=3, block='d',l = 0)\n",
        "\n",
        "    # Stage 4 \n",
        "    X = convolutional_block(X, f = 3, filters = [256, 256, 1024], stage = 4, block='a', s = 2,l = 0)\n",
        "    X = identity_block(X, 3, [256, 256, 1024], stage=4, block='b',l = 0)\n",
        "    X = identity_block(X, 3, [256, 256, 1024], stage=4, block='c',l = 0)\n",
        "    X = identity_block(X, 3, [256, 256, 1024], stage=4, block='d',l = 0)\n",
        "    X = identity_block(X, 3, [256, 256, 1024], stage=4, block='e',l = 0)\n",
        "    X = identity_block(X, 3, [256, 256, 1024], stage=4, block='f',l = 0)\n",
        "\n",
        "    # Stage 5 \n",
        "    X = convolutional_block(X, f = 3, filters = [512, 512, 2048], stage = 5, block='a', s = 2,l = 0)\n",
        "    X = identity_block(X, 3, [512, 512, 2048], stage=5, block='b',l = 0)\n",
        "    X = identity_block(X, 3, [512, 512, 2048], stage=5, block='c',l = 0)\n",
        "\n",
        "    # AVGPOOL . Use \"X = AveragePooling2D(...)(X)\"\n",
        "    #X = AveragePooling2D()(X)\n",
        "\n",
        "    # output layer\n",
        "    X = Flatten()(X)\n",
        "    X = Dense(classes, activation='softmax', name='fc' + str(classes), kernel_initializer = glorot_uniform(seed=0),kernel_regularizer = tf.keras.regularizers.l2( l=0.01))(X)\n",
        "    \n",
        "    \n",
        "    # Create model\n",
        "    model = Model(inputs = X_input, outputs = X, name='ResNet50')\n",
        "    \n",
        "\n",
        "    return model"
      ]
    },
    {
      "cell_type": "code",
      "execution_count": 8,
      "metadata": {
        "id": "4HyATb7Kgkbl"
      },
      "outputs": [],
      "source": [
        "model = ResNet50(input_shape = (20,20,3),classes = 2)"
      ]
    },
    {
      "cell_type": "code",
      "execution_count": 9,
      "metadata": {
        "id": "Kw5gQD68gjaJ"
      },
      "outputs": [],
      "source": [
        "model.compile(optimizer = 'adam',loss = 'sparse_categorical_crossentropy',metrics = ['accuracy'])"
      ]
    },
    {
      "cell_type": "code",
      "execution_count": 10,
      "metadata": {
        "id": "wvxkAP-YMP3Z"
      },
      "outputs": [],
      "source": [
        "class DataScience:\n",
        "    @staticmethod\n",
        "    def data_frame(path):\n",
        "        df = pd.read_csv(path)\n",
        "        return df\n",
        "    @staticmethod\n",
        "    def data_set(path,cl_drop,width,height,depth,val_size,shuffle):\n",
        "        df = DataScience.data_frame(path)\n",
        "        X = df.drop(cl_drop,axis = 1).to_numpy()\n",
        "        y = df[cl_drop].to_numpy()\n",
        "        X = X.reshape(-1,width,height,depth)\n",
        "        y = y.reshape(-1,1)\n",
        "        \n",
        "        X_train,X_val,y_train,y_val = train_test_split(X,y,test_size = val_size,shuffle = shuffle)\n",
        "        \n",
        "        return (X_train,X_val,y_train,y_val)\n",
        "    @staticmethod\n",
        "    def set_data_frame(id,y_pred):\n",
        "        id = id.reshape(-1,1)\n",
        "        final = np.concatenate([id,y_pred],axis = 1)\n",
        "        df_final = pd.DataFrame(final,columns = ['id','labels'])\n",
        "        return df_final\n",
        "    def set_y_predict(y_pred):\n",
        "        y_pred_final = []\n",
        "        for i in range(0,y_pred.shape[0]):\n",
        "          if(y_pred[i][0]>y_pred[i][1]):\n",
        "            y_pred_final.append(0)\n",
        "          else:\n",
        "            y_pred_final.append(1)\n",
        "        y_pred_final = np.array(y_pred_final)\n",
        "        y_pred_final = y_pred_final.reshape(-1,1)\n",
        "        return y_pred_final\n",
        "        "
      ]
    },
    {
      "cell_type": "code",
      "execution_count": 11,
      "metadata": {
        "id": "-reSWwk9ABha"
      },
      "outputs": [],
      "source": [
        "def f1_score(y,y_pred):\n",
        "  tp = 0\n",
        "  tn = 0\n",
        "  fp = 0\n",
        "  fn = 0\n",
        "  n = y.shape[0]\n",
        "  for i in range(0,n):\n",
        "    if(y_pred[i] == 1):\n",
        "      if(y_pred[i] == y[i]):\n",
        "        tp+=1\n",
        "      else:\n",
        "        fp+=1\n",
        "    else:\n",
        "      if(y_pred[i] == y[i]):\n",
        "        tn+=1\n",
        "      else:\n",
        "        fn+=1\n",
        "  precision = tp/(tp+fp)\n",
        "  recall = tp/(tp+fn)\n",
        "  f1 = (2*precision*recall)/(precision+recall)\n",
        "  return f1"
      ]
    },
    {
      "cell_type": "code",
      "execution_count": 12,
      "metadata": {
        "id": "k1ULPoLdMW0B"
      },
      "outputs": [],
      "source": [
        "(X_train,X_val,y_train,y_val) = DataScience.data_set('/content/drive/MyDrive/Dataset/train.csv', \n",
        "                                                     'labels',20,20,3,0.4,True)"
      ]
    },
    {
      "cell_type": "code",
      "execution_count": 13,
      "metadata": {
        "colab": {
          "base_uri": "https://localhost:8080/"
        },
        "id": "5S7KrRTQWLEl",
        "outputId": "69829d69-ccf2-4c79-b07b-715c2c763386"
      },
      "outputs": [
        {
          "output_type": "stream",
          "name": "stdout",
          "text": [
            "Epoch 1/100\n",
            "99/99 [==============================] - 56s 67ms/step - loss: 1.2768 - accuracy: 0.6657 - val_loss: 0.6142 - val_accuracy: 0.7410\n",
            "Epoch 2/100\n",
            "99/99 [==============================] - 5s 47ms/step - loss: 0.5295 - accuracy: 0.7616 - val_loss: 0.6169 - val_accuracy: 0.7410\n",
            "Epoch 3/100\n",
            "99/99 [==============================] - 5s 48ms/step - loss: 0.4116 - accuracy: 0.8184 - val_loss: 0.6333 - val_accuracy: 0.7424\n",
            "Epoch 4/100\n",
            "99/99 [==============================] - 4s 43ms/step - loss: 0.3080 - accuracy: 0.8759 - val_loss: 0.6448 - val_accuracy: 0.7890\n",
            "Epoch 5/100\n",
            "99/99 [==============================] - 5s 55ms/step - loss: 0.2182 - accuracy: 0.9222 - val_loss: 0.5891 - val_accuracy: 0.7990\n",
            "Epoch 6/100\n",
            "99/99 [==============================] - 4s 43ms/step - loss: 0.1613 - accuracy: 0.9483 - val_loss: 0.6536 - val_accuracy: 0.7619\n",
            "Epoch 7/100\n",
            "99/99 [==============================] - 4s 43ms/step - loss: 0.1371 - accuracy: 0.9575 - val_loss: 0.7363 - val_accuracy: 0.7757\n",
            "Epoch 8/100\n",
            "99/99 [==============================] - 6s 61ms/step - loss: 0.1176 - accuracy: 0.9625 - val_loss: 0.9386 - val_accuracy: 0.7300\n",
            "Epoch 9/100\n",
            "99/99 [==============================] - 4s 42ms/step - loss: 0.1230 - accuracy: 0.9594 - val_loss: 0.7564 - val_accuracy: 0.7881\n",
            "Epoch 10/100\n",
            "99/99 [==============================] - 4s 43ms/step - loss: 0.1311 - accuracy: 0.9581 - val_loss: 1.0410 - val_accuracy: 0.7819\n",
            "Epoch 11/100\n",
            "99/99 [==============================] - 5s 55ms/step - loss: 0.0778 - accuracy: 0.9797 - val_loss: 0.9206 - val_accuracy: 0.7943\n",
            "Epoch 12/100\n",
            "99/99 [==============================] - 4s 44ms/step - loss: 0.0953 - accuracy: 0.9708 - val_loss: 0.7563 - val_accuracy: 0.7805\n",
            "Epoch 13/100\n",
            "99/99 [==============================] - 4s 43ms/step - loss: 0.0788 - accuracy: 0.9740 - val_loss: 0.8502 - val_accuracy: 0.7805\n",
            "Epoch 14/100\n",
            "99/99 [==============================] - 6s 56ms/step - loss: 0.0576 - accuracy: 0.9829 - val_loss: 0.8749 - val_accuracy: 0.7633\n",
            "Epoch 15/100\n",
            "99/99 [==============================] - 4s 43ms/step - loss: 0.0574 - accuracy: 0.9825 - val_loss: 0.8050 - val_accuracy: 0.7833\n",
            "Epoch 16/100\n",
            "99/99 [==============================] - 4s 44ms/step - loss: 0.0505 - accuracy: 0.9844 - val_loss: 0.9423 - val_accuracy: 0.8048\n",
            "Epoch 17/100\n",
            "99/99 [==============================] - 5s 53ms/step - loss: 0.0440 - accuracy: 0.9876 - val_loss: 1.0205 - val_accuracy: 0.7471\n",
            "Epoch 18/100\n",
            "99/99 [==============================] - 4s 44ms/step - loss: 0.0490 - accuracy: 0.9857 - val_loss: 0.8727 - val_accuracy: 0.7633\n",
            "Epoch 19/100\n",
            "99/99 [==============================] - 5s 51ms/step - loss: 0.0461 - accuracy: 0.9886 - val_loss: 0.8959 - val_accuracy: 0.7833\n",
            "Epoch 20/100\n",
            "99/99 [==============================] - 5s 51ms/step - loss: 0.0394 - accuracy: 0.9886 - val_loss: 0.8181 - val_accuracy: 0.7919\n",
            "Epoch 21/100\n",
            "99/99 [==============================] - 4s 42ms/step - loss: 0.0464 - accuracy: 0.9851 - val_loss: 1.1020 - val_accuracy: 0.7905\n",
            "Epoch 22/100\n",
            "99/99 [==============================] - 5s 54ms/step - loss: 0.0550 - accuracy: 0.9806 - val_loss: 0.8778 - val_accuracy: 0.8110\n",
            "Epoch 23/100\n",
            "99/99 [==============================] - 4s 44ms/step - loss: 0.0492 - accuracy: 0.9854 - val_loss: 0.9428 - val_accuracy: 0.7952\n",
            "Epoch 24/100\n",
            "99/99 [==============================] - 4s 43ms/step - loss: 0.0393 - accuracy: 0.9876 - val_loss: 0.8668 - val_accuracy: 0.7624\n",
            "Epoch 25/100\n",
            "99/99 [==============================] - 6s 59ms/step - loss: 0.0349 - accuracy: 0.9892 - val_loss: 0.9818 - val_accuracy: 0.7995\n",
            "Epoch 26/100\n",
            "99/99 [==============================] - 4s 43ms/step - loss: 0.0324 - accuracy: 0.9905 - val_loss: 0.8944 - val_accuracy: 0.7957\n",
            "Epoch 27/100\n",
            "99/99 [==============================] - 4s 44ms/step - loss: 0.0291 - accuracy: 0.9917 - val_loss: 0.8363 - val_accuracy: 0.7900\n",
            "Epoch 28/100\n",
            "99/99 [==============================] - 5s 53ms/step - loss: 0.0623 - accuracy: 0.9778 - val_loss: 0.7909 - val_accuracy: 0.7990\n",
            "Epoch 29/100\n",
            "99/99 [==============================] - 4s 43ms/step - loss: 0.0370 - accuracy: 0.9851 - val_loss: 0.8903 - val_accuracy: 0.7786\n",
            "Epoch 30/100\n",
            "99/99 [==============================] - 4s 44ms/step - loss: 0.0715 - accuracy: 0.9778 - val_loss: 0.8255 - val_accuracy: 0.8033\n",
            "Epoch 31/100\n",
            "99/99 [==============================] - 5s 54ms/step - loss: 0.0687 - accuracy: 0.9819 - val_loss: 9.8517 - val_accuracy: 0.7829\n",
            "Epoch 32/100\n",
            "99/99 [==============================] - 4s 43ms/step - loss: 0.0738 - accuracy: 0.9781 - val_loss: 3.6318 - val_accuracy: 0.7848\n",
            "Epoch 33/100\n",
            "99/99 [==============================] - 5s 46ms/step - loss: 0.0494 - accuracy: 0.9883 - val_loss: 1.2914 - val_accuracy: 0.7810\n",
            "Epoch 34/100\n",
            "99/99 [==============================] - 5s 53ms/step - loss: 0.0391 - accuracy: 0.9898 - val_loss: 0.9858 - val_accuracy: 0.7490\n",
            "Epoch 35/100\n",
            "99/99 [==============================] - 4s 42ms/step - loss: 0.0247 - accuracy: 0.9946 - val_loss: 0.8985 - val_accuracy: 0.7948\n",
            "Epoch 36/100\n",
            "99/99 [==============================] - 4s 44ms/step - loss: 0.0165 - accuracy: 0.9965 - val_loss: 1.0910 - val_accuracy: 0.7938\n",
            "Epoch 37/100\n",
            "99/99 [==============================] - 5s 53ms/step - loss: 0.0360 - accuracy: 0.9883 - val_loss: 0.8941 - val_accuracy: 0.7819\n",
            "Epoch 38/100\n",
            "99/99 [==============================] - 4s 43ms/step - loss: 0.0488 - accuracy: 0.9838 - val_loss: 0.8239 - val_accuracy: 0.7919\n",
            "Epoch 39/100\n",
            "99/99 [==============================] - 4s 43ms/step - loss: 0.0417 - accuracy: 0.9908 - val_loss: 0.9038 - val_accuracy: 0.7876\n",
            "Epoch 40/100\n",
            "99/99 [==============================] - 5s 53ms/step - loss: 0.0386 - accuracy: 0.9892 - val_loss: 0.9711 - val_accuracy: 0.7971\n",
            "Epoch 41/100\n",
            "99/99 [==============================] - 4s 43ms/step - loss: 0.0278 - accuracy: 0.9927 - val_loss: 0.8403 - val_accuracy: 0.7810\n",
            "Epoch 42/100\n",
            "99/99 [==============================] - 4s 44ms/step - loss: 0.0239 - accuracy: 0.9933 - val_loss: 0.8830 - val_accuracy: 0.7924\n",
            "Epoch 43/100\n",
            "99/99 [==============================] - 5s 51ms/step - loss: 0.0391 - accuracy: 0.9886 - val_loss: 0.8138 - val_accuracy: 0.7681\n",
            "Epoch 44/100\n",
            "99/99 [==============================] - 4s 44ms/step - loss: 0.0426 - accuracy: 0.9876 - val_loss: 0.8475 - val_accuracy: 0.7829\n",
            "Epoch 45/100\n",
            "99/99 [==============================] - 5s 51ms/step - loss: 0.0268 - accuracy: 0.9902 - val_loss: 1.0616 - val_accuracy: 0.7838\n",
            "Epoch 46/100\n",
            "99/99 [==============================] - 5s 49ms/step - loss: 0.0342 - accuracy: 0.9895 - val_loss: 0.9713 - val_accuracy: 0.8095\n",
            "Epoch 47/100\n",
            "99/99 [==============================] - 4s 44ms/step - loss: 0.0453 - accuracy: 0.9863 - val_loss: 0.7577 - val_accuracy: 0.7895\n",
            "Epoch 48/100\n",
            "99/99 [==============================] - 5s 55ms/step - loss: 0.0356 - accuracy: 0.9898 - val_loss: 0.7084 - val_accuracy: 0.7748\n",
            "Epoch 49/100\n",
            "99/99 [==============================] - 4s 44ms/step - loss: 0.0242 - accuracy: 0.9924 - val_loss: 0.9091 - val_accuracy: 0.8143\n",
            "Epoch 50/100\n",
            "99/99 [==============================] - 4s 42ms/step - loss: 0.0167 - accuracy: 0.9952 - val_loss: 1.0664 - val_accuracy: 0.7938\n",
            "Epoch 51/100\n",
            "99/99 [==============================] - 5s 52ms/step - loss: 0.0232 - accuracy: 0.9921 - val_loss: 1.1845 - val_accuracy: 0.8257\n",
            "Epoch 52/100\n",
            "99/99 [==============================] - 4s 44ms/step - loss: 0.0235 - accuracy: 0.9917 - val_loss: 1.1210 - val_accuracy: 0.7962\n",
            "Epoch 53/100\n",
            "99/99 [==============================] - 4s 43ms/step - loss: 0.0426 - accuracy: 0.9838 - val_loss: 1.0357 - val_accuracy: 0.7486\n",
            "Epoch 54/100\n",
            "99/99 [==============================] - 5s 52ms/step - loss: 0.0412 - accuracy: 0.9895 - val_loss: 0.9475 - val_accuracy: 0.7767\n",
            "Epoch 55/100\n",
            "99/99 [==============================] - 4s 44ms/step - loss: 0.0388 - accuracy: 0.9867 - val_loss: 0.7824 - val_accuracy: 0.7962\n",
            "Epoch 56/100\n",
            "99/99 [==============================] - 4s 42ms/step - loss: 0.0271 - accuracy: 0.9911 - val_loss: 1.1477 - val_accuracy: 0.7705\n",
            "Epoch 57/100\n",
            "99/99 [==============================] - 5s 54ms/step - loss: 0.0850 - accuracy: 0.9863 - val_loss: 6.5528 - val_accuracy: 0.7976\n",
            "Epoch 58/100\n",
            "99/99 [==============================] - 4s 44ms/step - loss: 0.1565 - accuracy: 0.9641 - val_loss: 5042401.5000 - val_accuracy: 0.7410\n",
            "Epoch 59/100\n",
            "99/99 [==============================] - 4s 44ms/step - loss: 0.6751 - accuracy: 0.7870 - val_loss: 474.9285 - val_accuracy: 0.7410\n",
            "Epoch 60/100\n",
            "99/99 [==============================] - 5s 55ms/step - loss: 0.4764 - accuracy: 0.8222 - val_loss: 1.1815 - val_accuracy: 0.5724\n",
            "Epoch 61/100\n",
            "99/99 [==============================] - 4s 43ms/step - loss: 0.3443 - accuracy: 0.8575 - val_loss: 0.4424 - val_accuracy: 0.8024\n",
            "Epoch 62/100\n",
            "99/99 [==============================] - 5s 52ms/step - loss: 0.2969 - accuracy: 0.9070 - val_loss: 0.5768 - val_accuracy: 0.7848\n",
            "Epoch 63/100\n",
            "99/99 [==============================] - 5s 53ms/step - loss: 0.4858 - accuracy: 0.8159 - val_loss: 119.4097 - val_accuracy: 0.4419\n",
            "Epoch 64/100\n",
            "99/99 [==============================] - 4s 43ms/step - loss: 0.6142 - accuracy: 0.8057 - val_loss: 0.5679 - val_accuracy: 0.7833\n",
            "Epoch 65/100\n",
            "99/99 [==============================] - 5s 50ms/step - loss: 0.3094 - accuracy: 0.8851 - val_loss: 0.4623 - val_accuracy: 0.8052\n",
            "Epoch 66/100\n",
            "99/99 [==============================] - 5s 51ms/step - loss: 0.2261 - accuracy: 0.9222 - val_loss: 0.6008 - val_accuracy: 0.8090\n",
            "Epoch 67/100\n",
            "99/99 [==============================] - 4s 42ms/step - loss: 0.1290 - accuracy: 0.9610 - val_loss: 0.5751 - val_accuracy: 0.8162\n",
            "Epoch 68/100\n",
            "99/99 [==============================] - 5s 55ms/step - loss: 0.0802 - accuracy: 0.9771 - val_loss: 0.8267 - val_accuracy: 0.7843\n",
            "Epoch 69/100\n",
            "99/99 [==============================] - 4s 45ms/step - loss: 0.0840 - accuracy: 0.9771 - val_loss: 0.7855 - val_accuracy: 0.8071\n",
            "Epoch 70/100\n",
            "99/99 [==============================] - 4s 43ms/step - loss: 0.0447 - accuracy: 0.9886 - val_loss: 0.9323 - val_accuracy: 0.8167\n",
            "Epoch 71/100\n",
            "99/99 [==============================] - 5s 53ms/step - loss: 0.0414 - accuracy: 0.9876 - val_loss: 0.9123 - val_accuracy: 0.7981\n",
            "Epoch 72/100\n",
            "99/99 [==============================] - 4s 45ms/step - loss: 0.0450 - accuracy: 0.9873 - val_loss: 1.1113 - val_accuracy: 0.7962\n",
            "Epoch 73/100\n",
            "99/99 [==============================] - 4s 43ms/step - loss: 0.0292 - accuracy: 0.9921 - val_loss: 1.0110 - val_accuracy: 0.7852\n",
            "Epoch 74/100\n",
            "99/99 [==============================] - 5s 54ms/step - loss: 0.0179 - accuracy: 0.9968 - val_loss: 1.0454 - val_accuracy: 0.8076\n",
            "Epoch 75/100\n",
            "99/99 [==============================] - 4s 43ms/step - loss: 0.0314 - accuracy: 0.9902 - val_loss: 0.9494 - val_accuracy: 0.7914\n",
            "Epoch 76/100\n",
            "99/99 [==============================] - 4s 44ms/step - loss: 0.0265 - accuracy: 0.9924 - val_loss: 0.8478 - val_accuracy: 0.8190\n",
            "Epoch 77/100\n",
            "99/99 [==============================] - 5s 55ms/step - loss: 0.0189 - accuracy: 0.9965 - val_loss: 0.9350 - val_accuracy: 0.8138\n",
            "Epoch 78/100\n",
            "99/99 [==============================] - 4s 44ms/step - loss: 0.0299 - accuracy: 0.9921 - val_loss: 0.8799 - val_accuracy: 0.8062\n",
            "Epoch 79/100\n",
            "99/99 [==============================] - 4s 42ms/step - loss: 0.0132 - accuracy: 0.9978 - val_loss: 1.0125 - val_accuracy: 0.8186\n",
            "Epoch 80/100\n",
            "99/99 [==============================] - 5s 54ms/step - loss: 0.0244 - accuracy: 0.9937 - val_loss: 1.0300 - val_accuracy: 0.8119\n",
            "Epoch 81/100\n",
            "99/99 [==============================] - 4s 43ms/step - loss: 0.0159 - accuracy: 0.9962 - val_loss: 1.0818 - val_accuracy: 0.8105\n",
            "Epoch 82/100\n",
            "99/99 [==============================] - 4s 44ms/step - loss: 0.0180 - accuracy: 0.9949 - val_loss: 0.9842 - val_accuracy: 0.8076\n",
            "Epoch 83/100\n",
            "99/99 [==============================] - 5s 54ms/step - loss: 0.0929 - accuracy: 0.9727 - val_loss: 1.0431 - val_accuracy: 0.8095\n",
            "Epoch 84/100\n",
            "99/99 [==============================] - 4s 43ms/step - loss: 0.0279 - accuracy: 0.9930 - val_loss: 1.0958 - val_accuracy: 0.7986\n",
            "Epoch 85/100\n",
            "99/99 [==============================] - 4s 44ms/step - loss: 0.0418 - accuracy: 0.9908 - val_loss: 1.0014 - val_accuracy: 0.8033\n",
            "Epoch 86/100\n",
            "99/99 [==============================] - 5s 54ms/step - loss: 0.0159 - accuracy: 0.9962 - val_loss: 1.1008 - val_accuracy: 0.8110\n",
            "Epoch 87/100\n",
            "99/99 [==============================] - 4s 44ms/step - loss: 0.0302 - accuracy: 0.9908 - val_loss: 1.0399 - val_accuracy: 0.8000\n",
            "Epoch 88/100\n",
            "99/99 [==============================] - 4s 44ms/step - loss: 0.0144 - accuracy: 0.9971 - val_loss: 1.1656 - val_accuracy: 0.8071\n",
            "Epoch 89/100\n",
            "99/99 [==============================] - 5s 54ms/step - loss: 0.0187 - accuracy: 0.9956 - val_loss: 1.0155 - val_accuracy: 0.8076\n",
            "Epoch 90/100\n",
            "99/99 [==============================] - 4s 44ms/step - loss: 0.0157 - accuracy: 0.9971 - val_loss: 1.0914 - val_accuracy: 0.8000\n",
            "Epoch 91/100\n",
            "99/99 [==============================] - 4s 45ms/step - loss: 0.0060 - accuracy: 0.9994 - val_loss: 1.2298 - val_accuracy: 0.8052\n",
            "Epoch 92/100\n",
            "99/99 [==============================] - 5s 53ms/step - loss: 0.0061 - accuracy: 0.9997 - val_loss: 1.1570 - val_accuracy: 0.8071\n",
            "Epoch 93/100\n",
            "99/99 [==============================] - 4s 44ms/step - loss: 0.0061 - accuracy: 0.9997 - val_loss: 1.1064 - val_accuracy: 0.8086\n",
            "Epoch 94/100\n",
            "99/99 [==============================] - 5s 53ms/step - loss: 0.0048 - accuracy: 0.9997 - val_loss: 1.3730 - val_accuracy: 0.8110\n",
            "Epoch 95/100\n",
            "99/99 [==============================] - 5s 47ms/step - loss: 0.0035 - accuracy: 0.9997 - val_loss: 1.4433 - val_accuracy: 0.8071\n",
            "Epoch 96/100\n",
            "99/99 [==============================] - 4s 44ms/step - loss: 0.0061 - accuracy: 0.9994 - val_loss: 1.3802 - val_accuracy: 0.8090\n",
            "Epoch 97/100\n",
            "99/99 [==============================] - 5s 51ms/step - loss: 0.0092 - accuracy: 0.9990 - val_loss: 1.1987 - val_accuracy: 0.8095\n",
            "Epoch 98/100\n",
            "99/99 [==============================] - 5s 46ms/step - loss: 0.0155 - accuracy: 0.9959 - val_loss: 1.2748 - val_accuracy: 0.8029\n",
            "Epoch 99/100\n",
            "99/99 [==============================] - 4s 45ms/step - loss: 0.0772 - accuracy: 0.9740 - val_loss: 1.6415 - val_accuracy: 0.8067\n",
            "Epoch 100/100\n",
            "99/99 [==============================] - 6s 59ms/step - loss: 0.1017 - accuracy: 0.9670 - val_loss: 0.9878 - val_accuracy: 0.7990\n"
          ]
        },
        {
          "output_type": "execute_result",
          "data": {
            "text/plain": [
              "<keras.callbacks.History at 0x7fa63e6568f0>"
            ]
          },
          "metadata": {},
          "execution_count": 13
        }
      ],
      "source": [
        "NUM_EPOCHS = 100\n",
        "model.fit(X_train, y_train, epochs=NUM_EPOCHS, validation_data = (X_val,y_val))"
      ]
    },
    {
      "cell_type": "code",
      "execution_count": 14,
      "metadata": {
        "id": "AM_6VBYRDojS",
        "colab": {
          "base_uri": "https://localhost:8080/"
        },
        "outputId": "e82d7725-0cb2-48dd-dbf4-a09ab7e191a0"
      },
      "outputs": [
        {
          "output_type": "stream",
          "name": "stdout",
          "text": [
            "66/66 [==============================] - 1s 9ms/step\n"
          ]
        }
      ],
      "source": [
        "y_val_predict = model.predict(X_val)\n",
        "y_val_predict = DataScience.set_y_predict(y_val_predict)"
      ]
    },
    {
      "cell_type": "code",
      "execution_count": 15,
      "metadata": {
        "id": "zq21QhTZEH4M",
        "colab": {
          "base_uri": "https://localhost:8080/"
        },
        "outputId": "ffec0e4a-27ac-46a4-a240-85c81b1d729e"
      },
      "outputs": [
        {
          "output_type": "execute_result",
          "data": {
            "text/plain": [
              "0.5754527162977867"
            ]
          },
          "metadata": {},
          "execution_count": 15
        }
      ],
      "source": [
        "f1_score(y_val,y_val_predict)"
      ]
    },
    {
      "cell_type": "code",
      "source": [
        "df_test = pd.read_csv('/content/drive/MyDrive/Dataset/test.csv')\n",
        "X_test = df_test.drop('id',axis = 1).to_numpy()\n",
        "id =  df_test['id'].to_numpy()\n",
        "X_test = X_test.reshape(-1,20,20,3)"
      ],
      "metadata": {
        "id": "2eREOddQGoxd"
      },
      "execution_count": 16,
      "outputs": []
    },
    {
      "cell_type": "code",
      "source": [
        "y_test_pred = model.predict(X_test)\n",
        "y_test_pred = DataScience.set_y_predict(y_test_pred)\n",
        "(DataScience.set_data_frame(id,y_test_pred)).to_csv('submission6.csv')"
      ],
      "metadata": {
        "colab": {
          "base_uri": "https://localhost:8080/"
        },
        "id": "_bxG9XtNHKup",
        "outputId": "7a273195-1093-4449-8343-1fe4d90577df"
      },
      "execution_count": 17,
      "outputs": [
        {
          "output_type": "stream",
          "name": "stdout",
          "text": [
            "71/71 [==============================] - 1s 15ms/step\n"
          ]
        }
      ]
    },
    {
      "cell_type": "code",
      "source": [
        "model2 = ResNet50(input_shape = (20,20,3),classes = 2)"
      ],
      "metadata": {
        "id": "ve0pRdoyle5Q"
      },
      "execution_count": 19,
      "outputs": []
    },
    {
      "cell_type": "code",
      "source": [
        "model2.compile(optimizer = 'adam',loss = 'sparse_categorical_crossentropy',metrics = ['accuracy'])"
      ],
      "metadata": {
        "id": "1uwXZa7plspH"
      },
      "execution_count": 20,
      "outputs": []
    },
    {
      "cell_type": "code",
      "source": [
        "model2.fit(X_train,y_train,validation_data = (X_val,y_val),epochs = 150)"
      ],
      "metadata": {
        "colab": {
          "base_uri": "https://localhost:8080/"
        },
        "id": "4R6XWkEvm1GH",
        "outputId": "cc3d250a-12e6-45e5-c938-05b2b1bdfaff"
      },
      "execution_count": 21,
      "outputs": [
        {
          "output_type": "stream",
          "name": "stdout",
          "text": [
            "Epoch 1/150\n",
            "99/99 [==============================] - 58s 103ms/step - loss: 1.0047 - accuracy: 0.6848 - val_loss: 0.6066 - val_accuracy: 0.7410\n",
            "Epoch 2/150\n",
            "99/99 [==============================] - 8s 78ms/step - loss: 0.4726 - accuracy: 0.7756 - val_loss: 0.5822 - val_accuracy: 0.7410\n",
            "Epoch 3/150\n",
            "99/99 [==============================] - 5s 48ms/step - loss: 0.3776 - accuracy: 0.8457 - val_loss: 0.5479 - val_accuracy: 0.7481\n",
            "Epoch 4/150\n",
            "99/99 [==============================] - 4s 44ms/step - loss: 0.2872 - accuracy: 0.8984 - val_loss: 0.5208 - val_accuracy: 0.7924\n",
            "Epoch 5/150\n",
            "99/99 [==============================] - 6s 58ms/step - loss: 0.1964 - accuracy: 0.9302 - val_loss: 0.6261 - val_accuracy: 0.7833\n",
            "Epoch 6/150\n",
            "99/99 [==============================] - 4s 44ms/step - loss: 0.2015 - accuracy: 0.9321 - val_loss: 0.6543 - val_accuracy: 0.7481\n",
            "Epoch 7/150\n",
            "99/99 [==============================] - 6s 61ms/step - loss: 0.4021 - accuracy: 0.8644 - val_loss: 1.5487 - val_accuracy: 0.8019\n",
            "Epoch 8/150\n",
            "99/99 [==============================] - 8s 77ms/step - loss: 0.2147 - accuracy: 0.9232 - val_loss: 0.7906 - val_accuracy: 0.8043\n",
            "Epoch 9/150\n",
            "99/99 [==============================] - 6s 55ms/step - loss: 0.1165 - accuracy: 0.9622 - val_loss: 0.8162 - val_accuracy: 0.7838\n",
            "Epoch 10/150\n",
            "99/99 [==============================] - 6s 59ms/step - loss: 0.0941 - accuracy: 0.9727 - val_loss: 0.9206 - val_accuracy: 0.7810\n",
            "Epoch 11/150\n",
            "99/99 [==============================] - 4s 44ms/step - loss: 0.0665 - accuracy: 0.9806 - val_loss: 0.8821 - val_accuracy: 0.7810\n",
            "Epoch 12/150\n",
            "99/99 [==============================] - 5s 52ms/step - loss: 0.0498 - accuracy: 0.9873 - val_loss: 0.9348 - val_accuracy: 0.7881\n",
            "Epoch 13/150\n",
            "99/99 [==============================] - 5s 48ms/step - loss: 0.0447 - accuracy: 0.9883 - val_loss: 1.0430 - val_accuracy: 0.7800\n",
            "Epoch 14/150\n",
            "99/99 [==============================] - 4s 45ms/step - loss: 0.0712 - accuracy: 0.9765 - val_loss: 1.0179 - val_accuracy: 0.7452\n",
            "Epoch 15/150\n",
            "99/99 [==============================] - 5s 51ms/step - loss: 0.0690 - accuracy: 0.9794 - val_loss: 0.9151 - val_accuracy: 0.7938\n",
            "Epoch 16/150\n",
            "99/99 [==============================] - 5s 46ms/step - loss: 0.0420 - accuracy: 0.9879 - val_loss: 1.0167 - val_accuracy: 0.7995\n",
            "Epoch 17/150\n",
            "99/99 [==============================] - 4s 45ms/step - loss: 0.0419 - accuracy: 0.9879 - val_loss: 0.8779 - val_accuracy: 0.7867\n",
            "Epoch 18/150\n",
            "99/99 [==============================] - 6s 59ms/step - loss: 0.0393 - accuracy: 0.9892 - val_loss: 0.9588 - val_accuracy: 0.7805\n",
            "Epoch 19/150\n",
            "99/99 [==============================] - 4s 43ms/step - loss: 0.0699 - accuracy: 0.9794 - val_loss: 0.9103 - val_accuracy: 0.8105\n",
            "Epoch 20/150\n",
            "99/99 [==============================] - 4s 43ms/step - loss: 0.0467 - accuracy: 0.9860 - val_loss: 0.8314 - val_accuracy: 0.8010\n",
            "Epoch 21/150\n",
            "99/99 [==============================] - 5s 54ms/step - loss: 0.0296 - accuracy: 0.9917 - val_loss: 1.0015 - val_accuracy: 0.7914\n",
            "Epoch 22/150\n",
            "99/99 [==============================] - 4s 43ms/step - loss: 0.0302 - accuracy: 0.9930 - val_loss: 1.5190 - val_accuracy: 0.6229\n",
            "Epoch 23/150\n",
            "99/99 [==============================] - 4s 45ms/step - loss: 0.0373 - accuracy: 0.9905 - val_loss: 0.9801 - val_accuracy: 0.7819\n",
            "Epoch 24/150\n",
            "99/99 [==============================] - 5s 55ms/step - loss: 0.0470 - accuracy: 0.9867 - val_loss: 0.7407 - val_accuracy: 0.7886\n",
            "Epoch 25/150\n",
            "99/99 [==============================] - 4s 44ms/step - loss: 0.0533 - accuracy: 0.9825 - val_loss: 0.8395 - val_accuracy: 0.7895\n",
            "Epoch 26/150\n",
            "99/99 [==============================] - 4s 44ms/step - loss: 0.0405 - accuracy: 0.9876 - val_loss: 0.9747 - val_accuracy: 0.8057\n",
            "Epoch 27/150\n",
            "99/99 [==============================] - 5s 54ms/step - loss: 0.0423 - accuracy: 0.9857 - val_loss: 0.9929 - val_accuracy: 0.8048\n",
            "Epoch 28/150\n",
            "99/99 [==============================] - 4s 44ms/step - loss: 0.0397 - accuracy: 0.9876 - val_loss: 0.9268 - val_accuracy: 0.8076\n",
            "Epoch 29/150\n",
            "99/99 [==============================] - 6s 61ms/step - loss: 0.0295 - accuracy: 0.9921 - val_loss: 1.0401 - val_accuracy: 0.8048\n",
            "Epoch 30/150\n",
            "99/99 [==============================] - 5s 47ms/step - loss: 0.0128 - accuracy: 0.9978 - val_loss: 0.9245 - val_accuracy: 0.7876\n",
            "Epoch 31/150\n",
            "99/99 [==============================] - 5s 50ms/step - loss: 0.0131 - accuracy: 0.9971 - val_loss: 0.9993 - val_accuracy: 0.7890\n",
            "Epoch 32/150\n",
            "99/99 [==============================] - 6s 59ms/step - loss: 0.0530 - accuracy: 0.9829 - val_loss: 0.8318 - val_accuracy: 0.8133\n",
            "Epoch 33/150\n",
            "99/99 [==============================] - 4s 45ms/step - loss: 0.0447 - accuracy: 0.9841 - val_loss: 0.8350 - val_accuracy: 0.8005\n",
            "Epoch 34/150\n",
            "99/99 [==============================] - 4s 43ms/step - loss: 0.0386 - accuracy: 0.9886 - val_loss: 1.0760 - val_accuracy: 0.8076\n",
            "Epoch 35/150\n",
            "99/99 [==============================] - 6s 63ms/step - loss: 0.0221 - accuracy: 0.9937 - val_loss: 0.8908 - val_accuracy: 0.7738\n",
            "Epoch 36/150\n",
            "99/99 [==============================] - 4s 43ms/step - loss: 0.0687 - accuracy: 0.9810 - val_loss: 0.7720 - val_accuracy: 0.7662\n",
            "Epoch 37/150\n",
            "99/99 [==============================] - 5s 46ms/step - loss: 0.0291 - accuracy: 0.9898 - val_loss: 0.9579 - val_accuracy: 0.8133\n",
            "Epoch 38/150\n",
            "99/99 [==============================] - 5s 52ms/step - loss: 0.0138 - accuracy: 0.9959 - val_loss: 1.1177 - val_accuracy: 0.7805\n",
            "Epoch 39/150\n",
            "99/99 [==============================] - 4s 43ms/step - loss: 0.0284 - accuracy: 0.9908 - val_loss: 0.7479 - val_accuracy: 0.7895\n",
            "Epoch 40/150\n",
            "99/99 [==============================] - 5s 55ms/step - loss: 0.0392 - accuracy: 0.9883 - val_loss: 0.7902 - val_accuracy: 0.7986\n",
            "Epoch 41/150\n",
            "99/99 [==============================] - 5s 45ms/step - loss: 0.0285 - accuracy: 0.9924 - val_loss: 0.7849 - val_accuracy: 0.7771\n",
            "Epoch 42/150\n",
            "99/99 [==============================] - 4s 44ms/step - loss: 0.0256 - accuracy: 0.9940 - val_loss: 0.8606 - val_accuracy: 0.7929\n",
            "Epoch 43/150\n",
            "99/99 [==============================] - 5s 54ms/step - loss: 0.0282 - accuracy: 0.9930 - val_loss: 0.8813 - val_accuracy: 0.7924\n",
            "Epoch 44/150\n",
            "99/99 [==============================] - 4s 44ms/step - loss: 0.0525 - accuracy: 0.9825 - val_loss: 0.9831 - val_accuracy: 0.8095\n",
            "Epoch 45/150\n",
            "99/99 [==============================] - 4s 44ms/step - loss: 0.0427 - accuracy: 0.9848 - val_loss: 1.0538 - val_accuracy: 0.7886\n",
            "Epoch 46/150\n",
            "99/99 [==============================] - 6s 56ms/step - loss: 0.0284 - accuracy: 0.9914 - val_loss: 1.1210 - val_accuracy: 0.7790\n",
            "Epoch 47/150\n",
            "99/99 [==============================] - 4s 43ms/step - loss: 0.1699 - accuracy: 0.9467 - val_loss: 0.8019 - val_accuracy: 0.7933\n",
            "Epoch 48/150\n",
            "99/99 [==============================] - 4s 43ms/step - loss: 0.0470 - accuracy: 0.9867 - val_loss: 0.9729 - val_accuracy: 0.8271\n",
            "Epoch 49/150\n",
            "99/99 [==============================] - 6s 56ms/step - loss: 0.0410 - accuracy: 0.9892 - val_loss: 0.8237 - val_accuracy: 0.7952\n",
            "Epoch 50/150\n",
            "99/99 [==============================] - 4s 43ms/step - loss: 0.0312 - accuracy: 0.9921 - val_loss: 1.0193 - val_accuracy: 0.7895\n",
            "Epoch 51/150\n",
            "99/99 [==============================] - 4s 44ms/step - loss: 0.0371 - accuracy: 0.9905 - val_loss: 1.1556 - val_accuracy: 0.8076\n",
            "Epoch 52/150\n",
            "99/99 [==============================] - 6s 56ms/step - loss: 0.0433 - accuracy: 0.9876 - val_loss: 0.8725 - val_accuracy: 0.7919\n",
            "Epoch 53/150\n",
            "99/99 [==============================] - 4s 43ms/step - loss: 0.0209 - accuracy: 0.9952 - val_loss: 0.9998 - val_accuracy: 0.7848\n",
            "Epoch 54/150\n",
            "99/99 [==============================] - 4s 44ms/step - loss: 0.0318 - accuracy: 0.9921 - val_loss: 1.0738 - val_accuracy: 0.7729\n",
            "Epoch 55/150\n",
            "99/99 [==============================] - 5s 51ms/step - loss: 0.0368 - accuracy: 0.9905 - val_loss: 0.9954 - val_accuracy: 0.7852\n",
            "Epoch 56/150\n",
            "99/99 [==============================] - 4s 44ms/step - loss: 0.0282 - accuracy: 0.9914 - val_loss: 0.8900 - val_accuracy: 0.7848\n",
            "Epoch 57/150\n",
            "99/99 [==============================] - 5s 55ms/step - loss: 0.0158 - accuracy: 0.9965 - val_loss: 0.9984 - val_accuracy: 0.7771\n",
            "Epoch 58/150\n",
            "99/99 [==============================] - 4s 44ms/step - loss: 0.0317 - accuracy: 0.9905 - val_loss: 0.9905 - val_accuracy: 0.8086\n",
            "Epoch 59/150\n",
            "99/99 [==============================] - 4s 44ms/step - loss: 0.0275 - accuracy: 0.9927 - val_loss: 0.7420 - val_accuracy: 0.7924\n",
            "Epoch 60/150\n",
            "99/99 [==============================] - 5s 54ms/step - loss: 0.0316 - accuracy: 0.9889 - val_loss: 0.9306 - val_accuracy: 0.7967\n",
            "Epoch 61/150\n",
            "99/99 [==============================] - 4s 44ms/step - loss: 0.0223 - accuracy: 0.9924 - val_loss: 1.0968 - val_accuracy: 0.7938\n",
            "Epoch 62/150\n",
            "99/99 [==============================] - 4s 45ms/step - loss: 0.0201 - accuracy: 0.9940 - val_loss: 1.0222 - val_accuracy: 0.7810\n",
            "Epoch 63/150\n",
            "99/99 [==============================] - 5s 52ms/step - loss: 0.0419 - accuracy: 0.9870 - val_loss: 0.9777 - val_accuracy: 0.7719\n",
            "Epoch 64/150\n",
            "99/99 [==============================] - 4s 43ms/step - loss: 0.0444 - accuracy: 0.9848 - val_loss: 0.9957 - val_accuracy: 0.7614\n",
            "Epoch 65/150\n",
            "99/99 [==============================] - 5s 47ms/step - loss: 0.0277 - accuracy: 0.9924 - val_loss: 0.8681 - val_accuracy: 0.7938\n",
            "Epoch 66/150\n",
            "99/99 [==============================] - 5s 48ms/step - loss: 0.0162 - accuracy: 0.9956 - val_loss: 1.0449 - val_accuracy: 0.7848\n",
            "Epoch 67/150\n",
            "99/99 [==============================] - 4s 44ms/step - loss: 0.0203 - accuracy: 0.9946 - val_loss: 1.0856 - val_accuracy: 0.8005\n",
            "Epoch 68/150\n",
            "99/99 [==============================] - 5s 50ms/step - loss: 0.0388 - accuracy: 0.9902 - val_loss: 1.0492 - val_accuracy: 0.8005\n",
            "Epoch 69/150\n",
            "99/99 [==============================] - 4s 44ms/step - loss: 0.0416 - accuracy: 0.9879 - val_loss: 0.9463 - val_accuracy: 0.8138\n",
            "Epoch 70/150\n",
            "99/99 [==============================] - 4s 43ms/step - loss: 0.0122 - accuracy: 0.9965 - val_loss: 1.0830 - val_accuracy: 0.7857\n",
            "Epoch 71/150\n",
            "99/99 [==============================] - 5s 54ms/step - loss: 0.0094 - accuracy: 0.9987 - val_loss: 1.0102 - val_accuracy: 0.8081\n",
            "Epoch 72/150\n",
            "99/99 [==============================] - 4s 43ms/step - loss: 0.0472 - accuracy: 0.9892 - val_loss: 6.1542 - val_accuracy: 0.6843\n",
            "Epoch 73/150\n",
            "99/99 [==============================] - 4s 43ms/step - loss: 0.1335 - accuracy: 0.9657 - val_loss: 6.0722 - val_accuracy: 0.7814\n",
            "Epoch 74/150\n",
            "99/99 [==============================] - 5s 53ms/step - loss: 0.0561 - accuracy: 0.9813 - val_loss: 1.1134 - val_accuracy: 0.8138\n",
            "Epoch 75/150\n",
            "99/99 [==============================] - 4s 44ms/step - loss: 0.0288 - accuracy: 0.9940 - val_loss: 0.9223 - val_accuracy: 0.8086\n",
            "Epoch 76/150\n",
            "99/99 [==============================] - 4s 44ms/step - loss: 0.0088 - accuracy: 0.9987 - val_loss: 1.0717 - val_accuracy: 0.8181\n",
            "Epoch 77/150\n",
            "99/99 [==============================] - 5s 50ms/step - loss: 0.0121 - accuracy: 0.9978 - val_loss: 1.0382 - val_accuracy: 0.8119\n",
            "Epoch 78/150\n",
            "99/99 [==============================] - 4s 45ms/step - loss: 0.0085 - accuracy: 0.9990 - val_loss: 1.2540 - val_accuracy: 0.8081\n",
            "Epoch 79/150\n",
            "99/99 [==============================] - 5s 55ms/step - loss: 0.0201 - accuracy: 0.9933 - val_loss: 1.1403 - val_accuracy: 0.8052\n",
            "Epoch 80/150\n",
            "99/99 [==============================] - 4s 44ms/step - loss: 0.0288 - accuracy: 0.9898 - val_loss: 0.9353 - val_accuracy: 0.8062\n",
            "Epoch 81/150\n",
            "99/99 [==============================] - 4s 43ms/step - loss: 0.0362 - accuracy: 0.9873 - val_loss: 0.9766 - val_accuracy: 0.8124\n",
            "Epoch 82/150\n",
            "99/99 [==============================] - 5s 54ms/step - loss: 0.0110 - accuracy: 0.9975 - val_loss: 1.0113 - val_accuracy: 0.8129\n",
            "Epoch 83/150\n",
            "99/99 [==============================] - 4s 43ms/step - loss: 0.0146 - accuracy: 0.9971 - val_loss: 0.9497 - val_accuracy: 0.8100\n",
            "Epoch 84/150\n",
            "99/99 [==============================] - 4s 45ms/step - loss: 0.0221 - accuracy: 0.9924 - val_loss: 1.0054 - val_accuracy: 0.7976\n",
            "Epoch 85/150\n",
            "99/99 [==============================] - 5s 54ms/step - loss: 0.0160 - accuracy: 0.9949 - val_loss: 1.1608 - val_accuracy: 0.7986\n",
            "Epoch 86/150\n",
            "99/99 [==============================] - 4s 44ms/step - loss: 0.0226 - accuracy: 0.9930 - val_loss: 0.9245 - val_accuracy: 0.8076\n",
            "Epoch 87/150\n",
            "99/99 [==============================] - 5s 53ms/step - loss: 0.0165 - accuracy: 0.9959 - val_loss: 0.8631 - val_accuracy: 0.8090\n",
            "Epoch 88/150\n",
            "99/99 [==============================] - 5s 47ms/step - loss: 0.0290 - accuracy: 0.9908 - val_loss: 0.9300 - val_accuracy: 0.8076\n",
            "Epoch 89/150\n",
            "99/99 [==============================] - 4s 44ms/step - loss: 0.0055 - accuracy: 0.9990 - val_loss: 1.0597 - val_accuracy: 0.8110\n",
            "Epoch 90/150\n",
            "99/99 [==============================] - 5s 53ms/step - loss: 0.0043 - accuracy: 0.9994 - val_loss: 1.0854 - val_accuracy: 0.8081\n",
            "Epoch 91/150\n",
            "99/99 [==============================] - 4s 44ms/step - loss: 0.0126 - accuracy: 0.9975 - val_loss: 1.1016 - val_accuracy: 0.8081\n",
            "Epoch 92/150\n",
            "99/99 [==============================] - 4s 43ms/step - loss: 0.0414 - accuracy: 0.9895 - val_loss: 0.9428 - val_accuracy: 0.7995\n",
            "Epoch 93/150\n",
            "99/99 [==============================] - 5s 53ms/step - loss: 0.0290 - accuracy: 0.9921 - val_loss: 1.0049 - val_accuracy: 0.8281\n",
            "Epoch 94/150\n",
            "99/99 [==============================] - 4s 43ms/step - loss: 0.0278 - accuracy: 0.9886 - val_loss: 1.0432 - val_accuracy: 0.8052\n",
            "Epoch 95/150\n",
            "99/99 [==============================] - 4s 44ms/step - loss: 0.0447 - accuracy: 0.9863 - val_loss: 0.7506 - val_accuracy: 0.7967\n",
            "Epoch 96/150\n",
            "99/99 [==============================] - 5s 50ms/step - loss: 0.0385 - accuracy: 0.9905 - val_loss: 1.1178 - val_accuracy: 0.8233\n",
            "Epoch 97/150\n",
            "99/99 [==============================] - 4s 45ms/step - loss: 0.0099 - accuracy: 0.9978 - val_loss: 1.0475 - val_accuracy: 0.8271\n",
            "Epoch 98/150\n",
            "99/99 [==============================] - 5s 55ms/step - loss: 0.0033 - accuracy: 1.0000 - val_loss: 1.0681 - val_accuracy: 0.8210\n",
            "Epoch 99/150\n",
            "99/99 [==============================] - 4s 43ms/step - loss: 0.0169 - accuracy: 0.9959 - val_loss: 1.1997 - val_accuracy: 0.8181\n",
            "Epoch 100/150\n",
            "99/99 [==============================] - 4s 44ms/step - loss: 0.0132 - accuracy: 0.9956 - val_loss: 1.0022 - val_accuracy: 0.8138\n",
            "Epoch 101/150\n",
            "99/99 [==============================] - 5s 53ms/step - loss: 0.0080 - accuracy: 0.9981 - val_loss: 0.9684 - val_accuracy: 0.8286\n",
            "Epoch 102/150\n",
            "99/99 [==============================] - 4s 43ms/step - loss: 0.0435 - accuracy: 0.9860 - val_loss: 0.9574 - val_accuracy: 0.8171\n",
            "Epoch 103/150\n",
            "99/99 [==============================] - 4s 44ms/step - loss: 0.0159 - accuracy: 0.9943 - val_loss: 1.1152 - val_accuracy: 0.8119\n",
            "Epoch 104/150\n",
            "99/99 [==============================] - 5s 53ms/step - loss: 0.0121 - accuracy: 0.9965 - val_loss: 1.0265 - val_accuracy: 0.8095\n",
            "Epoch 105/150\n",
            "99/99 [==============================] - 4s 44ms/step - loss: 0.0150 - accuracy: 0.9959 - val_loss: 1.0487 - val_accuracy: 0.7990\n",
            "Epoch 106/150\n",
            "99/99 [==============================] - 5s 52ms/step - loss: 0.0097 - accuracy: 0.9978 - val_loss: 1.0727 - val_accuracy: 0.8038\n",
            "Epoch 107/150\n",
            "99/99 [==============================] - 5s 47ms/step - loss: 0.0177 - accuracy: 0.9959 - val_loss: 1.3564 - val_accuracy: 0.8062\n",
            "Epoch 108/150\n",
            "99/99 [==============================] - 4s 43ms/step - loss: 0.0306 - accuracy: 0.9908 - val_loss: 1.1368 - val_accuracy: 0.8057\n",
            "Epoch 109/150\n",
            "99/99 [==============================] - 5s 53ms/step - loss: 0.0353 - accuracy: 0.9898 - val_loss: 0.9836 - val_accuracy: 0.8076\n",
            "Epoch 110/150\n",
            "99/99 [==============================] - 5s 46ms/step - loss: 0.0378 - accuracy: 0.9889 - val_loss: 1.1043 - val_accuracy: 0.7976\n",
            "Epoch 111/150\n",
            "99/99 [==============================] - 4s 45ms/step - loss: 0.0116 - accuracy: 0.9965 - val_loss: 1.1109 - val_accuracy: 0.8024\n",
            "Epoch 112/150\n",
            "99/99 [==============================] - 5s 55ms/step - loss: 0.0034 - accuracy: 0.9994 - val_loss: 1.1236 - val_accuracy: 0.7881\n",
            "Epoch 113/150\n",
            "99/99 [==============================] - 4s 44ms/step - loss: 0.0227 - accuracy: 0.9927 - val_loss: 1.1963 - val_accuracy: 0.8043\n",
            "Epoch 114/150\n",
            "99/99 [==============================] - 5s 53ms/step - loss: 0.0162 - accuracy: 0.9971 - val_loss: 1.0428 - val_accuracy: 0.8110\n",
            "Epoch 115/150\n",
            "99/99 [==============================] - 5s 48ms/step - loss: 0.0093 - accuracy: 0.9981 - val_loss: 1.0609 - val_accuracy: 0.8095\n",
            "Epoch 116/150\n",
            "99/99 [==============================] - 4s 45ms/step - loss: 0.0062 - accuracy: 0.9987 - val_loss: 1.1457 - val_accuracy: 0.8057\n",
            "Epoch 117/150\n",
            "99/99 [==============================] - 5s 52ms/step - loss: 0.0025 - accuracy: 0.9997 - val_loss: 1.1365 - val_accuracy: 0.8043\n",
            "Epoch 118/150\n",
            "99/99 [==============================] - 5s 45ms/step - loss: 0.0017 - accuracy: 1.0000 - val_loss: 1.1727 - val_accuracy: 0.8048\n",
            "Epoch 119/150\n",
            "99/99 [==============================] - 4s 45ms/step - loss: 0.0013 - accuracy: 1.0000 - val_loss: 1.2026 - val_accuracy: 0.8043\n",
            "Epoch 120/150\n",
            "99/99 [==============================] - 5s 54ms/step - loss: 0.0011 - accuracy: 1.0000 - val_loss: 1.2939 - val_accuracy: 0.8048\n",
            "Epoch 121/150\n",
            "99/99 [==============================] - 4s 44ms/step - loss: 9.0204e-04 - accuracy: 1.0000 - val_loss: 1.3537 - val_accuracy: 0.8043\n",
            "Epoch 122/150\n",
            "99/99 [==============================] - 5s 46ms/step - loss: 7.5242e-04 - accuracy: 1.0000 - val_loss: 1.4339 - val_accuracy: 0.8043\n",
            "Epoch 123/150\n",
            "99/99 [==============================] - 5s 51ms/step - loss: 6.6912e-04 - accuracy: 1.0000 - val_loss: 1.4857 - val_accuracy: 0.8043\n",
            "Epoch 124/150\n",
            "99/99 [==============================] - 4s 44ms/step - loss: 0.0011 - accuracy: 0.9997 - val_loss: 1.7445 - val_accuracy: 0.7881\n",
            "Epoch 125/150\n",
            "99/99 [==============================] - 6s 57ms/step - loss: 0.1121 - accuracy: 0.9670 - val_loss: 315.3445 - val_accuracy: 0.7357\n",
            "Epoch 126/150\n",
            "99/99 [==============================] - 5s 47ms/step - loss: 0.1804 - accuracy: 0.9381 - val_loss: 424.2050 - val_accuracy: 0.7486\n",
            "Epoch 127/150\n",
            "99/99 [==============================] - 4s 45ms/step - loss: 0.0703 - accuracy: 0.9835 - val_loss: 1.2719 - val_accuracy: 0.7900\n",
            "Epoch 128/150\n",
            "99/99 [==============================] - 5s 52ms/step - loss: 0.0234 - accuracy: 0.9968 - val_loss: 1.0379 - val_accuracy: 0.7976\n",
            "Epoch 129/150\n",
            "99/99 [==============================] - 4s 44ms/step - loss: 0.0308 - accuracy: 0.9937 - val_loss: 1.0043 - val_accuracy: 0.8048\n",
            "Epoch 130/150\n",
            "99/99 [==============================] - 4s 45ms/step - loss: 0.0214 - accuracy: 0.9956 - val_loss: 0.9877 - val_accuracy: 0.7962\n",
            "Epoch 131/150\n",
            "99/99 [==============================] - 5s 53ms/step - loss: 0.0177 - accuracy: 0.9956 - val_loss: 1.0287 - val_accuracy: 0.7957\n",
            "Epoch 132/150\n",
            "99/99 [==============================] - 4s 43ms/step - loss: 0.0052 - accuracy: 0.9994 - val_loss: 1.1669 - val_accuracy: 0.8005\n",
            "Epoch 133/150\n",
            "99/99 [==============================] - 5s 48ms/step - loss: 0.0045 - accuracy: 0.9997 - val_loss: 1.2785 - val_accuracy: 0.7814\n",
            "Epoch 134/150\n",
            "99/99 [==============================] - 5s 48ms/step - loss: 0.0138 - accuracy: 0.9956 - val_loss: 1.1279 - val_accuracy: 0.8052\n",
            "Epoch 135/150\n",
            "99/99 [==============================] - 4s 45ms/step - loss: 0.0034 - accuracy: 1.0000 - val_loss: 1.2486 - val_accuracy: 0.8014\n",
            "Epoch 136/150\n",
            "99/99 [==============================] - 5s 53ms/step - loss: 0.0025 - accuracy: 1.0000 - val_loss: 1.2933 - val_accuracy: 0.8014\n",
            "Epoch 137/150\n",
            "99/99 [==============================] - 4s 45ms/step - loss: 0.0022 - accuracy: 1.0000 - val_loss: 1.3135 - val_accuracy: 0.8024\n",
            "Epoch 138/150\n",
            "99/99 [==============================] - 4s 44ms/step - loss: 0.0052 - accuracy: 0.9997 - val_loss: 1.1217 - val_accuracy: 0.8014\n",
            "Epoch 139/150\n",
            "99/99 [==============================] - 5s 55ms/step - loss: 0.0139 - accuracy: 0.9962 - val_loss: 1.0058 - val_accuracy: 0.8019\n",
            "Epoch 140/150\n",
            "99/99 [==============================] - 4s 44ms/step - loss: 0.0459 - accuracy: 0.9806 - val_loss: 1.5134 - val_accuracy: 0.7948\n",
            "Epoch 141/150\n",
            "99/99 [==============================] - 5s 52ms/step - loss: 0.0440 - accuracy: 0.9835 - val_loss: 1.0517 - val_accuracy: 0.7871\n",
            "Epoch 142/150\n",
            "99/99 [==============================] - 5s 48ms/step - loss: 0.0289 - accuracy: 0.9924 - val_loss: 1.0483 - val_accuracy: 0.8067\n",
            "Epoch 143/150\n",
            "99/99 [==============================] - 5s 46ms/step - loss: 0.0081 - accuracy: 0.9990 - val_loss: 1.1362 - val_accuracy: 0.8043\n",
            "Epoch 144/150\n",
            "99/99 [==============================] - 5s 52ms/step - loss: 0.0111 - accuracy: 0.9978 - val_loss: 1.0289 - val_accuracy: 0.8014\n",
            "Epoch 145/150\n",
            "99/99 [==============================] - 5s 46ms/step - loss: 0.0261 - accuracy: 0.9927 - val_loss: 0.8804 - val_accuracy: 0.8005\n",
            "Epoch 146/150\n",
            "99/99 [==============================] - 4s 43ms/step - loss: 0.0108 - accuracy: 0.9978 - val_loss: 1.1442 - val_accuracy: 0.8114\n",
            "Epoch 147/150\n",
            "99/99 [==============================] - 5s 53ms/step - loss: 0.0028 - accuracy: 1.0000 - val_loss: 1.1093 - val_accuracy: 0.8114\n",
            "Epoch 148/150\n",
            "99/99 [==============================] - 4s 45ms/step - loss: 0.0021 - accuracy: 1.0000 - val_loss: 1.1953 - val_accuracy: 0.8114\n",
            "Epoch 149/150\n",
            "99/99 [==============================] - 4s 45ms/step - loss: 0.0018 - accuracy: 1.0000 - val_loss: 1.2045 - val_accuracy: 0.8110\n",
            "Epoch 150/150\n",
            "99/99 [==============================] - 5s 51ms/step - loss: 0.0018 - accuracy: 1.0000 - val_loss: 1.2215 - val_accuracy: 0.8110\n"
          ]
        },
        {
          "output_type": "execute_result",
          "data": {
            "text/plain": [
              "<keras.callbacks.History at 0x7fa562700130>"
            ]
          },
          "metadata": {},
          "execution_count": 21
        }
      ]
    },
    {
      "cell_type": "code",
      "source": [
        "y_val_predict_2 = model.predict(X_val)\n",
        "y_val_predict_2 = DataScience.set_y_predict(y_val_predict_2)"
      ],
      "metadata": {
        "colab": {
          "base_uri": "https://localhost:8080/"
        },
        "id": "44su8I2MnJe4",
        "outputId": "0b7d99d4-43da-4ffc-c1a3-40d7ca0c0c58"
      },
      "execution_count": 25,
      "outputs": [
        {
          "output_type": "stream",
          "name": "stdout",
          "text": [
            "66/66 [==============================] - 1s 9ms/step\n"
          ]
        }
      ]
    },
    {
      "cell_type": "code",
      "source": [
        "f1_score(y_val,y_val_predict_2)"
      ],
      "metadata": {
        "colab": {
          "base_uri": "https://localhost:8080/"
        },
        "id": "dd53RCN6nO5C",
        "outputId": "42bac598-f9ad-4ae0-f21f-c7bb04890b25"
      },
      "execution_count": 26,
      "outputs": [
        {
          "output_type": "execute_result",
          "data": {
            "text/plain": [
              "0.5754527162977867"
            ]
          },
          "metadata": {},
          "execution_count": 26
        }
      ]
    },
    {
      "cell_type": "code",
      "source": [
        "y_test_pred_2 = model.predict(X_test)\n",
        "y_test_pred_2 = DataScience.set_y_predict(y_test_pred_2)\n",
        "(DataScience.set_data_frame(id,y_test_pred)).to_csv('submission7.csv')"
      ],
      "metadata": {
        "colab": {
          "base_uri": "https://localhost:8080/"
        },
        "id": "QxEhfo-kndh-",
        "outputId": "c49b0776-4f8b-4c62-8253-bb7258120f58"
      },
      "execution_count": 24,
      "outputs": [
        {
          "output_type": "stream",
          "name": "stdout",
          "text": [
            "71/71 [==============================] - 1s 11ms/step\n"
          ]
        }
      ]
    }
  ],
  "metadata": {
    "accelerator": "GPU",
    "colab": {
      "provenance": [],
      "gpuType": "T4"
    },
    "kernelspec": {
      "display_name": "Python 3",
      "name": "python3"
    },
    "language_info": {
      "name": "python"
    }
  },
  "nbformat": 4,
  "nbformat_minor": 0
}