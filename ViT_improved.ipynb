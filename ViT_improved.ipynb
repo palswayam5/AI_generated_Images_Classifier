{
  "nbformat": 4,
  "nbformat_minor": 0,
  "metadata": {
    "colab": {
      "provenance": [],
      "gpuType": "T4",
      "mount_file_id": "1znSW3R22VXJaMsAOXKFJqROr5Lig9mvA",
      "authorship_tag": "ABX9TyMRM1xd60jWHPUp3CGwFJAs",
      "include_colab_link": true
    },
    "kernelspec": {
      "name": "python3",
      "display_name": "Python 3"
    },
    "language_info": {
      "name": "python"
    },
    "accelerator": "GPU"
  },
  "cells": [
    {
      "cell_type": "markdown",
      "metadata": {
        "id": "view-in-github",
        "colab_type": "text"
      },
      "source": [
        "<a href=\"https://colab.research.google.com/github/palswayam5/AI_generated_Images_Classifier/blob/master/ViT_improved.ipynb\" target=\"_parent\"><img src=\"https://colab.research.google.com/assets/colab-badge.svg\" alt=\"Open In Colab\"/></a>"
      ]
    },
    {
      "cell_type": "code",
      "source": [
        "!pip install tf-nightly"
      ],
      "metadata": {
        "colab": {
          "base_uri": "https://localhost:8080/"
        },
        "id": "Kb0820LMYwFJ",
        "outputId": "e480ed19-3895-4937-a038-5eb62f851df5"
      },
      "execution_count": null,
      "outputs": [
        {
          "output_type": "stream",
          "name": "stdout",
          "text": [
            "Looking in indexes: https://pypi.org/simple, https://us-python.pkg.dev/colab-wheels/public/simple/\n",
            "Collecting tf-nightly\n",
            "  Downloading tf_nightly-2.14.0.dev20230620-cp310-cp310-manylinux_2_17_x86_64.manylinux2014_x86_64.whl (491.4 MB)\n",
            "\u001b[2K     \u001b[90m━━━━━━━━━━━━━━━━━━━━━━━━━━━━━━━━━━━━━━━\u001b[0m \u001b[32m491.4/491.4 MB\u001b[0m \u001b[31m2.4 MB/s\u001b[0m eta \u001b[36m0:00:00\u001b[0m\n",
            "\u001b[?25hRequirement already satisfied: absl-py>=1.0.0 in /usr/local/lib/python3.10/dist-packages (from tf-nightly) (1.4.0)\n",
            "Requirement already satisfied: astunparse>=1.6.0 in /usr/local/lib/python3.10/dist-packages (from tf-nightly) (1.6.3)\n",
            "Collecting flatbuffers>=23.5.26 (from tf-nightly)\n",
            "  Downloading flatbuffers-23.5.26-py2.py3-none-any.whl (26 kB)\n",
            "Requirement already satisfied: gast<=0.4.0,>=0.2.1 in /usr/local/lib/python3.10/dist-packages (from tf-nightly) (0.4.0)\n",
            "Requirement already satisfied: google-pasta>=0.1.1 in /usr/local/lib/python3.10/dist-packages (from tf-nightly) (0.2.0)\n",
            "Requirement already satisfied: grpcio<2.0,>=1.24.3 in /usr/local/lib/python3.10/dist-packages (from tf-nightly) (1.54.0)\n",
            "Requirement already satisfied: h5py>=2.9.0 in /usr/local/lib/python3.10/dist-packages (from tf-nightly) (3.8.0)\n",
            "Collecting keras-nightly~=2.14.0.dev (from tf-nightly)\n",
            "  Downloading keras_nightly-2.14.0.dev2023062007-py3-none-any.whl (1.7 MB)\n",
            "\u001b[2K     \u001b[90m━━━━━━━━━━━━━━━━━━━━━━━━━━━━━━━━━━━━━━━━\u001b[0m \u001b[32m1.7/1.7 MB\u001b[0m \u001b[31m44.3 MB/s\u001b[0m eta \u001b[36m0:00:00\u001b[0m\n",
            "\u001b[?25hRequirement already satisfied: libclang>=13.0.0 in /usr/local/lib/python3.10/dist-packages (from tf-nightly) (16.0.0)\n",
            "Requirement already satisfied: numpy>=1.22 in /usr/local/lib/python3.10/dist-packages (from tf-nightly) (1.22.4)\n",
            "Requirement already satisfied: opt-einsum>=2.3.2 in /usr/local/lib/python3.10/dist-packages (from tf-nightly) (3.3.0)\n",
            "Requirement already satisfied: packaging in /usr/local/lib/python3.10/dist-packages (from tf-nightly) (23.1)\n",
            "Requirement already satisfied: protobuf!=4.21.0,!=4.21.1,!=4.21.2,!=4.21.3,!=4.21.4,!=4.21.5,<5.0.0dev,>=3.20.3 in /usr/local/lib/python3.10/dist-packages (from tf-nightly) (3.20.3)\n",
            "Requirement already satisfied: setuptools in /usr/local/lib/python3.10/dist-packages (from tf-nightly) (67.7.2)\n",
            "Requirement already satisfied: six>=1.12.0 in /usr/local/lib/python3.10/dist-packages (from tf-nightly) (1.16.0)\n",
            "Collecting tb-nightly~=2.14.0.a (from tf-nightly)\n",
            "  Downloading tb_nightly-2.14.0a20230620-py3-none-any.whl (5.6 MB)\n",
            "\u001b[2K     \u001b[90m━━━━━━━━━━━━━━━━━━━━━━━━━━━━━━━━━━━━━━━━\u001b[0m \u001b[32m5.6/5.6 MB\u001b[0m \u001b[31m42.5 MB/s\u001b[0m eta \u001b[36m0:00:00\u001b[0m\n",
            "\u001b[?25hRequirement already satisfied: termcolor>=1.1.0 in /usr/local/lib/python3.10/dist-packages (from tf-nightly) (2.3.0)\n",
            "Collecting tf-estimator-nightly~=2.14.0.dev (from tf-nightly)\n",
            "  Downloading tf_estimator_nightly-2.14.0.dev2023062008-py2.py3-none-any.whl (440 kB)\n",
            "\u001b[2K     \u001b[90m━━━━━━━━━━━━━━━━━━━━━━━━━━━━━━━━━━━━━━\u001b[0m \u001b[32m441.0/441.0 kB\u001b[0m \u001b[31m24.2 MB/s\u001b[0m eta \u001b[36m0:00:00\u001b[0m\n",
            "\u001b[?25hRequirement already satisfied: typing-extensions<4.6.0,>=3.6.6 in /usr/local/lib/python3.10/dist-packages (from tf-nightly) (4.5.0)\n",
            "Requirement already satisfied: wrapt>=1.11.0 in /usr/local/lib/python3.10/dist-packages (from tf-nightly) (1.14.1)\n",
            "Requirement already satisfied: tensorflow-io-gcs-filesystem>=0.23.1 in /usr/local/lib/python3.10/dist-packages (from tf-nightly) (0.32.0)\n",
            "Requirement already satisfied: wheel<1.0,>=0.23.0 in /usr/local/lib/python3.10/dist-packages (from astunparse>=1.6.0->tf-nightly) (0.40.0)\n",
            "Requirement already satisfied: google-auth<3,>=1.6.3 in /usr/local/lib/python3.10/dist-packages (from tb-nightly~=2.14.0.a->tf-nightly) (2.17.3)\n",
            "Requirement already satisfied: google-auth-oauthlib<1.1,>=0.5 in /usr/local/lib/python3.10/dist-packages (from tb-nightly~=2.14.0.a->tf-nightly) (1.0.0)\n",
            "Requirement already satisfied: markdown>=2.6.8 in /usr/local/lib/python3.10/dist-packages (from tb-nightly~=2.14.0.a->tf-nightly) (3.4.3)\n",
            "Requirement already satisfied: requests<3,>=2.21.0 in /usr/local/lib/python3.10/dist-packages (from tb-nightly~=2.14.0.a->tf-nightly) (2.27.1)\n",
            "Requirement already satisfied: tensorboard-data-server<0.8.0,>=0.7.0 in /usr/local/lib/python3.10/dist-packages (from tb-nightly~=2.14.0.a->tf-nightly) (0.7.0)\n",
            "Requirement already satisfied: werkzeug>=1.0.1 in /usr/local/lib/python3.10/dist-packages (from tb-nightly~=2.14.0.a->tf-nightly) (2.3.0)\n",
            "Requirement already satisfied: cachetools<6.0,>=2.0.0 in /usr/local/lib/python3.10/dist-packages (from google-auth<3,>=1.6.3->tb-nightly~=2.14.0.a->tf-nightly) (5.3.0)\n",
            "Requirement already satisfied: pyasn1-modules>=0.2.1 in /usr/local/lib/python3.10/dist-packages (from google-auth<3,>=1.6.3->tb-nightly~=2.14.0.a->tf-nightly) (0.3.0)\n",
            "Requirement already satisfied: rsa<5,>=3.1.4 in /usr/local/lib/python3.10/dist-packages (from google-auth<3,>=1.6.3->tb-nightly~=2.14.0.a->tf-nightly) (4.9)\n",
            "Requirement already satisfied: requests-oauthlib>=0.7.0 in /usr/local/lib/python3.10/dist-packages (from google-auth-oauthlib<1.1,>=0.5->tb-nightly~=2.14.0.a->tf-nightly) (1.3.1)\n",
            "Requirement already satisfied: urllib3<1.27,>=1.21.1 in /usr/local/lib/python3.10/dist-packages (from requests<3,>=2.21.0->tb-nightly~=2.14.0.a->tf-nightly) (1.26.15)\n",
            "Requirement already satisfied: certifi>=2017.4.17 in /usr/local/lib/python3.10/dist-packages (from requests<3,>=2.21.0->tb-nightly~=2.14.0.a->tf-nightly) (2022.12.7)\n",
            "Requirement already satisfied: charset-normalizer~=2.0.0 in /usr/local/lib/python3.10/dist-packages (from requests<3,>=2.21.0->tb-nightly~=2.14.0.a->tf-nightly) (2.0.12)\n",
            "Requirement already satisfied: idna<4,>=2.5 in /usr/local/lib/python3.10/dist-packages (from requests<3,>=2.21.0->tb-nightly~=2.14.0.a->tf-nightly) (3.4)\n",
            "Requirement already satisfied: MarkupSafe>=2.1.1 in /usr/local/lib/python3.10/dist-packages (from werkzeug>=1.0.1->tb-nightly~=2.14.0.a->tf-nightly) (2.1.2)\n",
            "Requirement already satisfied: pyasn1<0.6.0,>=0.4.6 in /usr/local/lib/python3.10/dist-packages (from pyasn1-modules>=0.2.1->google-auth<3,>=1.6.3->tb-nightly~=2.14.0.a->tf-nightly) (0.5.0)\n",
            "Requirement already satisfied: oauthlib>=3.0.0 in /usr/local/lib/python3.10/dist-packages (from requests-oauthlib>=0.7.0->google-auth-oauthlib<1.1,>=0.5->tb-nightly~=2.14.0.a->tf-nightly) (3.2.2)\n",
            "Installing collected packages: flatbuffers, tf-estimator-nightly, keras-nightly, tb-nightly, tf-nightly\n",
            "  Attempting uninstall: flatbuffers\n",
            "    Found existing installation: flatbuffers 23.3.3\n",
            "    Uninstalling flatbuffers-23.3.3:\n",
            "      Successfully uninstalled flatbuffers-23.3.3\n",
            "Successfully installed flatbuffers-23.5.26 keras-nightly-2.14.0.dev2023062007 tb-nightly-2.14.0a20230620 tf-estimator-nightly-2.14.0.dev2023062008 tf-nightly-2.14.0.dev20230620\n"
          ]
        }
      ]
    },
    {
      "cell_type": "code",
      "source": [
        "!pip install -q -U keras-tuner"
      ],
      "metadata": {
        "colab": {
          "base_uri": "https://localhost:8080/"
        },
        "id": "nS1Kza2hSjoX",
        "outputId": "0833aef7-9bad-426a-b313-2bebcc02f136"
      },
      "execution_count": 182,
      "outputs": [
        {
          "output_type": "stream",
          "name": "stdout",
          "text": [
            "\u001b[?25l     \u001b[90m━━━━━━━━━━━━━━━━━━━━━━━━━━━━━━━━━━━━━━━━\u001b[0m \u001b[32m0.0/176.1 kB\u001b[0m \u001b[31m?\u001b[0m eta \u001b[36m-:--:--\u001b[0m\r\u001b[2K     \u001b[90m━━━━━━━━━━━━━━━━━━━━━━━━━━━━━━━━━━━━━━━\u001b[0m \u001b[32m176.1/176.1 kB\u001b[0m \u001b[31m7.9 MB/s\u001b[0m eta \u001b[36m0:00:00\u001b[0m\n",
            "\u001b[?25h"
          ]
        }
      ]
    },
    {
      "cell_type": "code",
      "execution_count": 10,
      "metadata": {
        "id": "8x9aLVXyOQ4I"
      },
      "outputs": [],
      "source": [
        "import numpy as np\n",
        "import pandas as pd\n",
        "import tensorflow as tf\n",
        "from tensorflow.keras.layers import Dense,LayerNormalization,Dropout,Add,Embedding,MultiHeadAttention,Input,Flatten\n",
        "from tensorflow.keras import Model\n",
        "from tensorflow.image import extract_patches\n",
        "from sklearn.model_selection import train_test_split\n",
        "from sklearn.metrics import f1_score\n",
        "import keras.backend as K\n",
        "import matplotlib.pyplot as plt\n",
        "from tensorflow.keras import layers\n",
        "from tensorflow import keras\n",
        "#import keras_tuner as kt"
      ]
    },
    {
      "cell_type": "code",
      "source": [
        "df = pd.read_csv('/content/drive/MyDrive/Dataset/train.csv')\n",
        "df_test = pd.read_csv('/content/drive/MyDrive/Dataset/test.csv')"
      ],
      "metadata": {
        "id": "97TlBd1dXTNu"
      },
      "execution_count": 11,
      "outputs": []
    },
    {
      "cell_type": "code",
      "source": [
        "df.head()"
      ],
      "metadata": {
        "colab": {
          "base_uri": "https://localhost:8080/",
          "height": 299
        },
        "id": "rmNT9kyPXjBH",
        "outputId": "92802ce4-9a0f-418c-fc2e-830af89d2c1a"
      },
      "execution_count": 12,
      "outputs": [
        {
          "output_type": "execute_result",
          "data": {
            "text/plain": [
              "   labels       f_0       f_1       f_2       f_3       f_4       f_5  \\\n",
              "0       0 -2.033875  0.978446 -0.142131 -0.177117 -1.470684  1.669562   \n",
              "1       1 -0.348835  0.294815 -0.557577 -2.020773 -1.234715  1.633930   \n",
              "2       1  0.113248 -0.607726 -0.947791  0.830851  0.998291  0.498321   \n",
              "3       0  1.223321 -0.479048 -1.925789  1.680377  0.021840 -1.453307   \n",
              "4       0  0.160109  0.422684 -0.308029  0.227744  0.432854  0.608348   \n",
              "\n",
              "        f_6       f_7       f_8  ...    f_1190    f_1191    f_1192    f_1193  \\\n",
              "0 -0.196530 -0.125239 -0.452284  ... -1.111266  0.716084  0.060039  0.301279   \n",
              "1 -1.680658 -0.358146  0.166122  ...  0.735240  0.829781  1.521941  1.347946   \n",
              "2 -1.493958  0.789572 -1.311018  ...  0.104698  0.616189 -1.035953  2.111387   \n",
              "3  0.605559 -0.019024  1.065448  ...  0.360237 -1.957863 -0.123384  1.505329   \n",
              "4  0.193832  1.035091 -0.538868  ...  0.416629  1.441766  0.212572 -0.994721   \n",
              "\n",
              "     f_1194    f_1195    f_1196    f_1197    f_1198    f_1199  \n",
              "0 -1.174846 -1.076498 -0.069452 -0.604012 -2.179176  0.558003  \n",
              "1  0.754505  1.330642 -0.754453  0.582956  0.252671  1.495870  \n",
              "2 -0.984415  1.148076 -1.433554  0.243372  0.170083  1.274795  \n",
              "3  0.660290 -1.769443 -0.547756 -0.568122  0.244645  0.982116  \n",
              "4  1.143999 -2.166923 -1.199248 -1.028636  0.752791  0.317169  \n",
              "\n",
              "[5 rows x 1201 columns]"
            ],
            "text/html": [
              "\n",
              "  <div id=\"df-78211c84-c6e2-4946-a62a-73abe80bc833\">\n",
              "    <div class=\"colab-df-container\">\n",
              "      <div>\n",
              "<style scoped>\n",
              "    .dataframe tbody tr th:only-of-type {\n",
              "        vertical-align: middle;\n",
              "    }\n",
              "\n",
              "    .dataframe tbody tr th {\n",
              "        vertical-align: top;\n",
              "    }\n",
              "\n",
              "    .dataframe thead th {\n",
              "        text-align: right;\n",
              "    }\n",
              "</style>\n",
              "<table border=\"1\" class=\"dataframe\">\n",
              "  <thead>\n",
              "    <tr style=\"text-align: right;\">\n",
              "      <th></th>\n",
              "      <th>labels</th>\n",
              "      <th>f_0</th>\n",
              "      <th>f_1</th>\n",
              "      <th>f_2</th>\n",
              "      <th>f_3</th>\n",
              "      <th>f_4</th>\n",
              "      <th>f_5</th>\n",
              "      <th>f_6</th>\n",
              "      <th>f_7</th>\n",
              "      <th>f_8</th>\n",
              "      <th>...</th>\n",
              "      <th>f_1190</th>\n",
              "      <th>f_1191</th>\n",
              "      <th>f_1192</th>\n",
              "      <th>f_1193</th>\n",
              "      <th>f_1194</th>\n",
              "      <th>f_1195</th>\n",
              "      <th>f_1196</th>\n",
              "      <th>f_1197</th>\n",
              "      <th>f_1198</th>\n",
              "      <th>f_1199</th>\n",
              "    </tr>\n",
              "  </thead>\n",
              "  <tbody>\n",
              "    <tr>\n",
              "      <th>0</th>\n",
              "      <td>0</td>\n",
              "      <td>-2.033875</td>\n",
              "      <td>0.978446</td>\n",
              "      <td>-0.142131</td>\n",
              "      <td>-0.177117</td>\n",
              "      <td>-1.470684</td>\n",
              "      <td>1.669562</td>\n",
              "      <td>-0.196530</td>\n",
              "      <td>-0.125239</td>\n",
              "      <td>-0.452284</td>\n",
              "      <td>...</td>\n",
              "      <td>-1.111266</td>\n",
              "      <td>0.716084</td>\n",
              "      <td>0.060039</td>\n",
              "      <td>0.301279</td>\n",
              "      <td>-1.174846</td>\n",
              "      <td>-1.076498</td>\n",
              "      <td>-0.069452</td>\n",
              "      <td>-0.604012</td>\n",
              "      <td>-2.179176</td>\n",
              "      <td>0.558003</td>\n",
              "    </tr>\n",
              "    <tr>\n",
              "      <th>1</th>\n",
              "      <td>1</td>\n",
              "      <td>-0.348835</td>\n",
              "      <td>0.294815</td>\n",
              "      <td>-0.557577</td>\n",
              "      <td>-2.020773</td>\n",
              "      <td>-1.234715</td>\n",
              "      <td>1.633930</td>\n",
              "      <td>-1.680658</td>\n",
              "      <td>-0.358146</td>\n",
              "      <td>0.166122</td>\n",
              "      <td>...</td>\n",
              "      <td>0.735240</td>\n",
              "      <td>0.829781</td>\n",
              "      <td>1.521941</td>\n",
              "      <td>1.347946</td>\n",
              "      <td>0.754505</td>\n",
              "      <td>1.330642</td>\n",
              "      <td>-0.754453</td>\n",
              "      <td>0.582956</td>\n",
              "      <td>0.252671</td>\n",
              "      <td>1.495870</td>\n",
              "    </tr>\n",
              "    <tr>\n",
              "      <th>2</th>\n",
              "      <td>1</td>\n",
              "      <td>0.113248</td>\n",
              "      <td>-0.607726</td>\n",
              "      <td>-0.947791</td>\n",
              "      <td>0.830851</td>\n",
              "      <td>0.998291</td>\n",
              "      <td>0.498321</td>\n",
              "      <td>-1.493958</td>\n",
              "      <td>0.789572</td>\n",
              "      <td>-1.311018</td>\n",
              "      <td>...</td>\n",
              "      <td>0.104698</td>\n",
              "      <td>0.616189</td>\n",
              "      <td>-1.035953</td>\n",
              "      <td>2.111387</td>\n",
              "      <td>-0.984415</td>\n",
              "      <td>1.148076</td>\n",
              "      <td>-1.433554</td>\n",
              "      <td>0.243372</td>\n",
              "      <td>0.170083</td>\n",
              "      <td>1.274795</td>\n",
              "    </tr>\n",
              "    <tr>\n",
              "      <th>3</th>\n",
              "      <td>0</td>\n",
              "      <td>1.223321</td>\n",
              "      <td>-0.479048</td>\n",
              "      <td>-1.925789</td>\n",
              "      <td>1.680377</td>\n",
              "      <td>0.021840</td>\n",
              "      <td>-1.453307</td>\n",
              "      <td>0.605559</td>\n",
              "      <td>-0.019024</td>\n",
              "      <td>1.065448</td>\n",
              "      <td>...</td>\n",
              "      <td>0.360237</td>\n",
              "      <td>-1.957863</td>\n",
              "      <td>-0.123384</td>\n",
              "      <td>1.505329</td>\n",
              "      <td>0.660290</td>\n",
              "      <td>-1.769443</td>\n",
              "      <td>-0.547756</td>\n",
              "      <td>-0.568122</td>\n",
              "      <td>0.244645</td>\n",
              "      <td>0.982116</td>\n",
              "    </tr>\n",
              "    <tr>\n",
              "      <th>4</th>\n",
              "      <td>0</td>\n",
              "      <td>0.160109</td>\n",
              "      <td>0.422684</td>\n",
              "      <td>-0.308029</td>\n",
              "      <td>0.227744</td>\n",
              "      <td>0.432854</td>\n",
              "      <td>0.608348</td>\n",
              "      <td>0.193832</td>\n",
              "      <td>1.035091</td>\n",
              "      <td>-0.538868</td>\n",
              "      <td>...</td>\n",
              "      <td>0.416629</td>\n",
              "      <td>1.441766</td>\n",
              "      <td>0.212572</td>\n",
              "      <td>-0.994721</td>\n",
              "      <td>1.143999</td>\n",
              "      <td>-2.166923</td>\n",
              "      <td>-1.199248</td>\n",
              "      <td>-1.028636</td>\n",
              "      <td>0.752791</td>\n",
              "      <td>0.317169</td>\n",
              "    </tr>\n",
              "  </tbody>\n",
              "</table>\n",
              "<p>5 rows × 1201 columns</p>\n",
              "</div>\n",
              "      <button class=\"colab-df-convert\" onclick=\"convertToInteractive('df-78211c84-c6e2-4946-a62a-73abe80bc833')\"\n",
              "              title=\"Convert this dataframe to an interactive table.\"\n",
              "              style=\"display:none;\">\n",
              "        \n",
              "  <svg xmlns=\"http://www.w3.org/2000/svg\" height=\"24px\"viewBox=\"0 0 24 24\"\n",
              "       width=\"24px\">\n",
              "    <path d=\"M0 0h24v24H0V0z\" fill=\"none\"/>\n",
              "    <path d=\"M18.56 5.44l.94 2.06.94-2.06 2.06-.94-2.06-.94-.94-2.06-.94 2.06-2.06.94zm-11 1L8.5 8.5l.94-2.06 2.06-.94-2.06-.94L8.5 2.5l-.94 2.06-2.06.94zm10 10l.94 2.06.94-2.06 2.06-.94-2.06-.94-.94-2.06-.94 2.06-2.06.94z\"/><path d=\"M17.41 7.96l-1.37-1.37c-.4-.4-.92-.59-1.43-.59-.52 0-1.04.2-1.43.59L10.3 9.45l-7.72 7.72c-.78.78-.78 2.05 0 2.83L4 21.41c.39.39.9.59 1.41.59.51 0 1.02-.2 1.41-.59l7.78-7.78 2.81-2.81c.8-.78.8-2.07 0-2.86zM5.41 20L4 18.59l7.72-7.72 1.47 1.35L5.41 20z\"/>\n",
              "  </svg>\n",
              "      </button>\n",
              "      \n",
              "  <style>\n",
              "    .colab-df-container {\n",
              "      display:flex;\n",
              "      flex-wrap:wrap;\n",
              "      gap: 12px;\n",
              "    }\n",
              "\n",
              "    .colab-df-convert {\n",
              "      background-color: #E8F0FE;\n",
              "      border: none;\n",
              "      border-radius: 50%;\n",
              "      cursor: pointer;\n",
              "      display: none;\n",
              "      fill: #1967D2;\n",
              "      height: 32px;\n",
              "      padding: 0 0 0 0;\n",
              "      width: 32px;\n",
              "    }\n",
              "\n",
              "    .colab-df-convert:hover {\n",
              "      background-color: #E2EBFA;\n",
              "      box-shadow: 0px 1px 2px rgba(60, 64, 67, 0.3), 0px 1px 3px 1px rgba(60, 64, 67, 0.15);\n",
              "      fill: #174EA6;\n",
              "    }\n",
              "\n",
              "    [theme=dark] .colab-df-convert {\n",
              "      background-color: #3B4455;\n",
              "      fill: #D2E3FC;\n",
              "    }\n",
              "\n",
              "    [theme=dark] .colab-df-convert:hover {\n",
              "      background-color: #434B5C;\n",
              "      box-shadow: 0px 1px 3px 1px rgba(0, 0, 0, 0.15);\n",
              "      filter: drop-shadow(0px 1px 2px rgba(0, 0, 0, 0.3));\n",
              "      fill: #FFFFFF;\n",
              "    }\n",
              "  </style>\n",
              "\n",
              "      <script>\n",
              "        const buttonEl =\n",
              "          document.querySelector('#df-78211c84-c6e2-4946-a62a-73abe80bc833 button.colab-df-convert');\n",
              "        buttonEl.style.display =\n",
              "          google.colab.kernel.accessAllowed ? 'block' : 'none';\n",
              "\n",
              "        async function convertToInteractive(key) {\n",
              "          const element = document.querySelector('#df-78211c84-c6e2-4946-a62a-73abe80bc833');\n",
              "          const dataTable =\n",
              "            await google.colab.kernel.invokeFunction('convertToInteractive',\n",
              "                                                     [key], {});\n",
              "          if (!dataTable) return;\n",
              "\n",
              "          const docLinkHtml = 'Like what you see? Visit the ' +\n",
              "            '<a target=\"_blank\" href=https://colab.research.google.com/notebooks/data_table.ipynb>data table notebook</a>'\n",
              "            + ' to learn more about interactive tables.';\n",
              "          element.innerHTML = '';\n",
              "          dataTable['output_type'] = 'display_data';\n",
              "          await google.colab.output.renderOutput(dataTable, element);\n",
              "          const docLink = document.createElement('div');\n",
              "          docLink.innerHTML = docLinkHtml;\n",
              "          element.appendChild(docLink);\n",
              "        }\n",
              "      </script>\n",
              "    </div>\n",
              "  </div>\n",
              "  "
            ]
          },
          "metadata": {},
          "execution_count": 12
        }
      ]
    },
    {
      "cell_type": "code",
      "source": [
        "X = df.drop('labels',axis = 1).to_numpy()\n",
        "y = df['labels'].to_numpy()\n",
        "X = X.reshape(-1,20,20,3)\n",
        "y = y.reshape(-1,1)"
      ],
      "metadata": {
        "id": "S1XjQfOxX4nH"
      },
      "execution_count": 13,
      "outputs": []
    },
    {
      "cell_type": "code",
      "source": [
        "X_train,X_val,y_train,y_val = train_test_split(X,y,test_size = 0.5,shuffle = True)"
      ],
      "metadata": {
        "id": "_MjDS_zbYJ3_"
      },
      "execution_count": 14,
      "outputs": []
    },
    {
      "cell_type": "code",
      "source": [
        "def count(y):\n",
        "  n = len(y)\n",
        "  count_0 = 0\n",
        "  count_1 = 1\n",
        "  for i in range(n):\n",
        "    if(y[i]==0):\n",
        "      count_0+=1\n",
        "    else:\n",
        "      count_1+=1\n",
        "  return (count_0,count_1)"
      ],
      "metadata": {
        "id": "pWWdZWPPvYi-"
      },
      "execution_count": 15,
      "outputs": []
    },
    {
      "cell_type": "code",
      "source": [
        "print(\"(0's,1's) in y :\",count(y))\n",
        "print(\"(0's,1's) in y_train :\",count(y_train))\n",
        "print(\"(0's,1's) in y_val :\",count(y_val))"
      ],
      "metadata": {
        "colab": {
          "base_uri": "https://localhost:8080/"
        },
        "id": "bxeXBaBwvsOi",
        "outputId": "0c3b7a58-2275-4b1a-e893-a3ca8877ac83"
      },
      "execution_count": 16,
      "outputs": [
        {
          "output_type": "stream",
          "name": "stdout",
          "text": [
            "(0's,1's) in y : (3850, 1401)\n",
            "(0's,1's) in y_train : (1930, 696)\n",
            "(0's,1's) in y_val : (1920, 706)\n"
          ]
        }
      ]
    },
    {
      "cell_type": "code",
      "source": [
        "print(X_train.shape,y_train.shape,X_val.shape,y_val.shape)"
      ],
      "metadata": {
        "colab": {
          "base_uri": "https://localhost:8080/"
        },
        "id": "WDJwul_bYQp6",
        "outputId": "c283f7d6-d62e-4407-e7b5-c8d70d4a712f"
      },
      "execution_count": 17,
      "outputs": [
        {
          "output_type": "stream",
          "name": "stdout",
          "text": [
            "(2625, 20, 20, 3) (2625, 1) (2625, 20, 20, 3) (2625, 1)\n"
          ]
        }
      ]
    },
    {
      "cell_type": "markdown",
      "source": [
        "Variables"
      ],
      "metadata": {
        "id": "c_c-v5ld658t"
      }
    },
    {
      "cell_type": "code",
      "source": [
        "def get_f1(y_true, y_pred): #taken from old keras source code\n",
        "    true_positives = K.sum(K.round(K.clip(y_true * y_pred, 0, 1)))\n",
        "    possible_positives = K.sum(K.round(K.clip(y_true, 0, 1)))\n",
        "    predicted_positives = K.sum(K.round(K.clip(y_pred, 0, 1)))\n",
        "    precision = true_positives / (predicted_positives + K.epsilon())\n",
        "    recall = true_positives / (possible_positives + K.epsilon())\n",
        "    f1_val = 2*(precision*recall)/(precision+recall+K.epsilon())\n",
        "    return f1_val"
      ],
      "metadata": {
        "id": "0RZy-S8-aeSy"
      },
      "execution_count": null,
      "outputs": []
    },
    {
      "cell_type": "code",
      "source": [
        "num_layers = 5 #repeating layers in a vision transformer\n",
        "num_epochs = 100\n",
        "input_shape = (20,20,3)\n",
        "patch_size = 4\n",
        "final_hidden_units = [512,256];\n",
        "dropout = 0.1\n",
        "head = 4\n",
        "dim = 128\n",
        "num_patches = (input_shape[0]//patch_size)**2 # here 25\n",
        "num_classes = 2\n",
        "transformer_units = [dim * 2,dim]\n",
        "image_size = 20"
      ],
      "metadata": {
        "id": "-4xo4-2l67-n"
      },
      "execution_count": 81,
      "outputs": []
    },
    {
      "cell_type": "markdown",
      "source": [
        "Multi Layer Perceptron"
      ],
      "metadata": {
        "id": "dwygtdk5_R0T"
      }
    },
    {
      "cell_type": "code",
      "source": [
        "def mlp(x,hidden_units,dropout_rate):   #multi_layer_perceptron\n",
        "   for units in hidden_units:\n",
        "    x =  Dense(units = units)(x)\n",
        "    x = Dropout(dropout_rate)(x)\n",
        "   return x"
      ],
      "metadata": {
        "id": "J7KCgPxbPYkf"
      },
      "execution_count": 82,
      "outputs": []
    },
    {
      "cell_type": "code",
      "source": [
        "def create_patches(image):\n",
        "  batch_size = tf.shape(image)[0]\n",
        "  patches = extract_patches(\n",
        "      images = image,\n",
        "      sizes = [1,patch_size,patch_size,1],\n",
        "      strides = [1,patch_size,patch_size,1],\n",
        "      padding = \"VALID\",\n",
        "      rates = [1,1,1,1],\n",
        "  )\n",
        "  patch_dims = patches.shape[-1]\n",
        "  patches = tf.reshape(patches, [batch_size, -1, patch_dims])\n",
        "  return patches"
      ],
      "metadata": {
        "id": "bTlvmEUoZ9A6"
      },
      "execution_count": 83,
      "outputs": []
    },
    {
      "cell_type": "code",
      "source": [
        "def encode_patches(patches):\n",
        "  positions = tf.range(start=0, limit=num_patches, delta=1)\n",
        "  patches = Dense(units = dim)(patches)\n",
        "  positions = Embedding(input_dim = num_patches,output_dim = dim)(positions)\n",
        "  encoded_patches = patches+positions\n",
        "  return encoded_patches"
      ],
      "metadata": {
        "id": "d-IVbHqP9LUz"
      },
      "execution_count": 84,
      "outputs": []
    },
    {
      "cell_type": "code",
      "source": [
        "def vit_classifier():\n",
        "  input = Input(shape = input_shape)\n",
        "  #augmented_data = data_augmentation(input)\n",
        "  patches = create_patches(input)\n",
        "  encoded_patches = encode_patches(patches)\n",
        "  for i in range(num_layers):\n",
        "    x = LayerNormalization(epsilon = 1e-6)(encoded_patches)\n",
        "    x1 = MultiHeadAttention(num_heads = head,key_dim = dim,dropout = dropout)(x,x)\n",
        "    x2 = Add()([x1,encoded_patches])\n",
        "    x2 = LayerNormalization(epsilon = 1e-6)(x2)\n",
        "    x3 = mlp(x2,transformer_units,dropout)\n",
        "    encoded_patches = Add()([x3,x2])\n",
        "  x = LayerNormalization(epsilon = 1e-6)(encoded_patches)\n",
        "  x = Flatten()(x)\n",
        "  x = Dropout(dropout)(x)\n",
        "  x = mlp(x,final_hidden_units,dropout)\n",
        "  y = Dense(units = num_classes,activation = \"softmax\")(x)\n",
        "  model = Model(inputs = input,outputs = y)\n",
        "  model.compile(optimizer = tf.keras.optimizers.Adadelta(rho = 0.9),loss = 'sparse_categorical_crossentropy',metrics = ['accuracy'])\n",
        "  return model"
      ],
      "metadata": {
        "id": "mNPuTxykQcqJ"
      },
      "execution_count": 85,
      "outputs": []
    },
    {
      "cell_type": "code",
      "source": [
        "stop_early = tf.keras.callbacks.EarlyStopping(monitor='val_loss', patience=5)"
      ],
      "metadata": {
        "id": "XwwT11b9tnR6"
      },
      "execution_count": 86,
      "outputs": []
    },
    {
      "cell_type": "code",
      "source": [
        "model = vit_classifier()"
      ],
      "metadata": {
        "id": "Apf2jxDqNnXx"
      },
      "execution_count": 87,
      "outputs": []
    },
    {
      "cell_type": "code",
      "source": [
        "history = model.fit(X_train, y_train, epochs=num_epochs, validation_data = (X_val,y_val), callbacks=[stop_early])"
      ],
      "metadata": {
        "colab": {
          "base_uri": "https://localhost:8080/"
        },
        "id": "ALRsMpk74G3S",
        "outputId": "1428e13a-f9a3-418e-fe50-c9f9ff823cfb"
      },
      "execution_count": 88,
      "outputs": [
        {
          "output_type": "stream",
          "name": "stdout",
          "text": [
            "Epoch 1/100\n",
            "83/83 [==============================] - 20s 48ms/step - loss: 1.4962 - accuracy: 0.5211 - val_loss: 1.0993 - val_accuracy: 0.6293\n",
            "Epoch 2/100\n",
            "83/83 [==============================] - 4s 46ms/step - loss: 1.2766 - accuracy: 0.5970 - val_loss: 0.9802 - val_accuracy: 0.6602\n",
            "Epoch 3/100\n",
            "83/83 [==============================] - 3s 34ms/step - loss: 1.1349 - accuracy: 0.6438 - val_loss: 0.9084 - val_accuracy: 0.6754\n",
            "Epoch 4/100\n",
            "83/83 [==============================] - 3s 38ms/step - loss: 1.0771 - accuracy: 0.6575 - val_loss: 0.8564 - val_accuracy: 0.6975\n",
            "Epoch 5/100\n",
            "83/83 [==============================] - 3s 31ms/step - loss: 0.9833 - accuracy: 0.6770 - val_loss: 0.8221 - val_accuracy: 0.7112\n",
            "Epoch 6/100\n",
            "83/83 [==============================] - 3s 38ms/step - loss: 0.9443 - accuracy: 0.6971 - val_loss: 0.7956 - val_accuracy: 0.7200\n",
            "Epoch 7/100\n",
            "83/83 [==============================] - 4s 47ms/step - loss: 0.9625 - accuracy: 0.6861 - val_loss: 0.7697 - val_accuracy: 0.7269\n",
            "Epoch 8/100\n",
            "83/83 [==============================] - 3s 33ms/step - loss: 0.8932 - accuracy: 0.7025 - val_loss: 0.7485 - val_accuracy: 0.7288\n",
            "Epoch 9/100\n",
            "83/83 [==============================] - 3s 34ms/step - loss: 0.8532 - accuracy: 0.7048 - val_loss: 0.7305 - val_accuracy: 0.7341\n",
            "Epoch 10/100\n",
            "83/83 [==============================] - 3s 41ms/step - loss: 0.8374 - accuracy: 0.7223 - val_loss: 0.7187 - val_accuracy: 0.7379\n",
            "Epoch 11/100\n",
            "83/83 [==============================] - 4s 44ms/step - loss: 0.8481 - accuracy: 0.7181 - val_loss: 0.7054 - val_accuracy: 0.7425\n",
            "Epoch 12/100\n",
            "83/83 [==============================] - 3s 35ms/step - loss: 0.8176 - accuracy: 0.7177 - val_loss: 0.6909 - val_accuracy: 0.7448\n",
            "Epoch 13/100\n",
            "83/83 [==============================] - 3s 33ms/step - loss: 0.8131 - accuracy: 0.7326 - val_loss: 0.6796 - val_accuracy: 0.7497\n",
            "Epoch 14/100\n",
            "83/83 [==============================] - 3s 40ms/step - loss: 0.7971 - accuracy: 0.7352 - val_loss: 0.6680 - val_accuracy: 0.7520\n",
            "Epoch 15/100\n",
            "83/83 [==============================] - 4s 54ms/step - loss: 0.7511 - accuracy: 0.7394 - val_loss: 0.6579 - val_accuracy: 0.7558\n",
            "Epoch 16/100\n",
            "83/83 [==============================] - 3s 41ms/step - loss: 0.7259 - accuracy: 0.7390 - val_loss: 0.6485 - val_accuracy: 0.7596\n",
            "Epoch 17/100\n",
            "83/83 [==============================] - 3s 41ms/step - loss: 0.7594 - accuracy: 0.7299 - val_loss: 0.6411 - val_accuracy: 0.7623\n",
            "Epoch 18/100\n",
            "83/83 [==============================] - 4s 43ms/step - loss: 0.7392 - accuracy: 0.7429 - val_loss: 0.6348 - val_accuracy: 0.7661\n",
            "Epoch 19/100\n",
            "83/83 [==============================] - 3s 39ms/step - loss: 0.7534 - accuracy: 0.7398 - val_loss: 0.6271 - val_accuracy: 0.7676\n",
            "Epoch 20/100\n",
            "83/83 [==============================] - 3s 33ms/step - loss: 0.7517 - accuracy: 0.7444 - val_loss: 0.6195 - val_accuracy: 0.7695\n",
            "Epoch 21/100\n",
            "83/83 [==============================] - 3s 39ms/step - loss: 0.6545 - accuracy: 0.7653 - val_loss: 0.6140 - val_accuracy: 0.7722\n",
            "Epoch 22/100\n",
            "83/83 [==============================] - 3s 35ms/step - loss: 0.6819 - accuracy: 0.7611 - val_loss: 0.6080 - val_accuracy: 0.7737\n",
            "Epoch 23/100\n",
            "83/83 [==============================] - 4s 45ms/step - loss: 0.6735 - accuracy: 0.7680 - val_loss: 0.6023 - val_accuracy: 0.7756\n",
            "Epoch 24/100\n",
            "83/83 [==============================] - 3s 38ms/step - loss: 0.6363 - accuracy: 0.7680 - val_loss: 0.5964 - val_accuracy: 0.7787\n",
            "Epoch 25/100\n",
            "83/83 [==============================] - 3s 31ms/step - loss: 0.6701 - accuracy: 0.7623 - val_loss: 0.5911 - val_accuracy: 0.7790\n",
            "Epoch 26/100\n",
            "83/83 [==============================] - 3s 38ms/step - loss: 0.6674 - accuracy: 0.7695 - val_loss: 0.5875 - val_accuracy: 0.7825\n",
            "Epoch 27/100\n",
            "83/83 [==============================] - 4s 47ms/step - loss: 0.6765 - accuracy: 0.7653 - val_loss: 0.5823 - val_accuracy: 0.7851\n",
            "Epoch 28/100\n",
            "83/83 [==============================] - 3s 40ms/step - loss: 0.6702 - accuracy: 0.7669 - val_loss: 0.5780 - val_accuracy: 0.7848\n",
            "Epoch 29/100\n",
            "83/83 [==============================] - 3s 39ms/step - loss: 0.6625 - accuracy: 0.7672 - val_loss: 0.5741 - val_accuracy: 0.7855\n",
            "Epoch 30/100\n",
            "83/83 [==============================] - 3s 30ms/step - loss: 0.5948 - accuracy: 0.7817 - val_loss: 0.5705 - val_accuracy: 0.7874\n",
            "Epoch 31/100\n",
            "83/83 [==============================] - 4s 47ms/step - loss: 0.6730 - accuracy: 0.7619 - val_loss: 0.5677 - val_accuracy: 0.7912\n",
            "Epoch 32/100\n",
            "83/83 [==============================] - 4s 45ms/step - loss: 0.6054 - accuracy: 0.7737 - val_loss: 0.5646 - val_accuracy: 0.7920\n",
            "Epoch 33/100\n",
            "83/83 [==============================] - 3s 32ms/step - loss: 0.6142 - accuracy: 0.7844 - val_loss: 0.5615 - val_accuracy: 0.7954\n",
            "Epoch 34/100\n",
            "83/83 [==============================] - 3s 32ms/step - loss: 0.6197 - accuracy: 0.7794 - val_loss: 0.5588 - val_accuracy: 0.7958\n",
            "Epoch 35/100\n",
            "83/83 [==============================] - 4s 45ms/step - loss: 0.5775 - accuracy: 0.7935 - val_loss: 0.5560 - val_accuracy: 0.7966\n",
            "Epoch 36/100\n",
            "83/83 [==============================] - 4s 43ms/step - loss: 0.6106 - accuracy: 0.7787 - val_loss: 0.5538 - val_accuracy: 0.7985\n",
            "Epoch 37/100\n",
            "83/83 [==============================] - 3s 40ms/step - loss: 0.6236 - accuracy: 0.7775 - val_loss: 0.5520 - val_accuracy: 0.7985\n",
            "Epoch 38/100\n",
            "83/83 [==============================] - 3s 39ms/step - loss: 0.5598 - accuracy: 0.8015 - val_loss: 0.5507 - val_accuracy: 0.7981\n",
            "Epoch 39/100\n",
            "83/83 [==============================] - 4s 48ms/step - loss: 0.5886 - accuracy: 0.7867 - val_loss: 0.5493 - val_accuracy: 0.8000\n",
            "Epoch 40/100\n",
            "83/83 [==============================] - 3s 40ms/step - loss: 0.5871 - accuracy: 0.7947 - val_loss: 0.5467 - val_accuracy: 0.8000\n",
            "Epoch 41/100\n",
            "83/83 [==============================] - 3s 31ms/step - loss: 0.5575 - accuracy: 0.7966 - val_loss: 0.5444 - val_accuracy: 0.8011\n",
            "Epoch 42/100\n",
            "83/83 [==============================] - 3s 38ms/step - loss: 0.5578 - accuracy: 0.7943 - val_loss: 0.5431 - val_accuracy: 0.8023\n",
            "Epoch 43/100\n",
            "83/83 [==============================] - 4s 46ms/step - loss: 0.5427 - accuracy: 0.8008 - val_loss: 0.5415 - val_accuracy: 0.8011\n",
            "Epoch 44/100\n",
            "83/83 [==============================] - 3s 41ms/step - loss: 0.5367 - accuracy: 0.8050 - val_loss: 0.5399 - val_accuracy: 0.8027\n",
            "Epoch 45/100\n",
            "83/83 [==============================] - 3s 31ms/step - loss: 0.5805 - accuracy: 0.7935 - val_loss: 0.5388 - val_accuracy: 0.8030\n",
            "Epoch 46/100\n",
            "83/83 [==============================] - 3s 32ms/step - loss: 0.5240 - accuracy: 0.8122 - val_loss: 0.5374 - val_accuracy: 0.8065\n",
            "Epoch 47/100\n",
            "83/83 [==============================] - 3s 41ms/step - loss: 0.5592 - accuracy: 0.7996 - val_loss: 0.5364 - val_accuracy: 0.8076\n",
            "Epoch 48/100\n",
            "83/83 [==============================] - 3s 39ms/step - loss: 0.5669 - accuracy: 0.7863 - val_loss: 0.5359 - val_accuracy: 0.8088\n",
            "Epoch 49/100\n",
            "83/83 [==============================] - 3s 31ms/step - loss: 0.5281 - accuracy: 0.7989 - val_loss: 0.5352 - val_accuracy: 0.8095\n",
            "Epoch 50/100\n",
            "83/83 [==============================] - 3s 39ms/step - loss: 0.5234 - accuracy: 0.8015 - val_loss: 0.5337 - val_accuracy: 0.8095\n",
            "Epoch 51/100\n",
            "83/83 [==============================] - 3s 31ms/step - loss: 0.5313 - accuracy: 0.8057 - val_loss: 0.5327 - val_accuracy: 0.8099\n",
            "Epoch 52/100\n",
            "83/83 [==============================] - 4s 51ms/step - loss: 0.5490 - accuracy: 0.8019 - val_loss: 0.5315 - val_accuracy: 0.8103\n",
            "Epoch 53/100\n",
            "83/83 [==============================] - 3s 39ms/step - loss: 0.5239 - accuracy: 0.8095 - val_loss: 0.5311 - val_accuracy: 0.8110\n",
            "Epoch 54/100\n",
            "83/83 [==============================] - 3s 31ms/step - loss: 0.5112 - accuracy: 0.8130 - val_loss: 0.5306 - val_accuracy: 0.8107\n",
            "Epoch 55/100\n",
            "83/83 [==============================] - 3s 38ms/step - loss: 0.5228 - accuracy: 0.8133 - val_loss: 0.5305 - val_accuracy: 0.8122\n",
            "Epoch 56/100\n",
            "83/83 [==============================] - 4s 48ms/step - loss: 0.5428 - accuracy: 0.8076 - val_loss: 0.5296 - val_accuracy: 0.8122\n",
            "Epoch 57/100\n",
            "83/83 [==============================] - 3s 31ms/step - loss: 0.5317 - accuracy: 0.7958 - val_loss: 0.5285 - val_accuracy: 0.8126\n",
            "Epoch 58/100\n",
            "83/83 [==============================] - 3s 38ms/step - loss: 0.5226 - accuracy: 0.8015 - val_loss: 0.5282 - val_accuracy: 0.8130\n",
            "Epoch 59/100\n",
            "83/83 [==============================] - 3s 39ms/step - loss: 0.5134 - accuracy: 0.8187 - val_loss: 0.5272 - val_accuracy: 0.8126\n",
            "Epoch 60/100\n",
            "83/83 [==============================] - 4s 48ms/step - loss: 0.5277 - accuracy: 0.8050 - val_loss: 0.5272 - val_accuracy: 0.8149\n",
            "Epoch 61/100\n",
            "83/83 [==============================] - 3s 39ms/step - loss: 0.5069 - accuracy: 0.8149 - val_loss: 0.5261 - val_accuracy: 0.8145\n",
            "Epoch 62/100\n",
            "83/83 [==============================] - 3s 32ms/step - loss: 0.5024 - accuracy: 0.8179 - val_loss: 0.5256 - val_accuracy: 0.8149\n",
            "Epoch 63/100\n",
            "83/83 [==============================] - 3s 40ms/step - loss: 0.4702 - accuracy: 0.8194 - val_loss: 0.5251 - val_accuracy: 0.8149\n",
            "Epoch 64/100\n",
            "83/83 [==============================] - 4s 48ms/step - loss: 0.5212 - accuracy: 0.8137 - val_loss: 0.5245 - val_accuracy: 0.8168\n",
            "Epoch 65/100\n",
            "83/83 [==============================] - 3s 34ms/step - loss: 0.5145 - accuracy: 0.8114 - val_loss: 0.5237 - val_accuracy: 0.8190\n",
            "Epoch 66/100\n",
            "83/83 [==============================] - 3s 33ms/step - loss: 0.5034 - accuracy: 0.8141 - val_loss: 0.5230 - val_accuracy: 0.8198\n",
            "Epoch 67/100\n",
            "83/83 [==============================] - 3s 33ms/step - loss: 0.4887 - accuracy: 0.8198 - val_loss: 0.5228 - val_accuracy: 0.8202\n",
            "Epoch 68/100\n",
            "83/83 [==============================] - 3s 40ms/step - loss: 0.5004 - accuracy: 0.8152 - val_loss: 0.5227 - val_accuracy: 0.8202\n",
            "Epoch 69/100\n",
            "83/83 [==============================] - 4s 49ms/step - loss: 0.4784 - accuracy: 0.8248 - val_loss: 0.5232 - val_accuracy: 0.8190\n",
            "Epoch 70/100\n",
            "83/83 [==============================] - 3s 40ms/step - loss: 0.4787 - accuracy: 0.8274 - val_loss: 0.5223 - val_accuracy: 0.8194\n",
            "Epoch 71/100\n",
            "83/83 [==============================] - 3s 40ms/step - loss: 0.4999 - accuracy: 0.8114 - val_loss: 0.5225 - val_accuracy: 0.8206\n",
            "Epoch 72/100\n",
            "83/83 [==============================] - 4s 45ms/step - loss: 0.4785 - accuracy: 0.8206 - val_loss: 0.5225 - val_accuracy: 0.8202\n",
            "Epoch 73/100\n",
            "83/83 [==============================] - 3s 37ms/step - loss: 0.5080 - accuracy: 0.8107 - val_loss: 0.5215 - val_accuracy: 0.8225\n",
            "Epoch 74/100\n",
            "83/83 [==============================] - 3s 39ms/step - loss: 0.4666 - accuracy: 0.8270 - val_loss: 0.5210 - val_accuracy: 0.8225\n",
            "Epoch 75/100\n",
            "83/83 [==============================] - 3s 40ms/step - loss: 0.4920 - accuracy: 0.8293 - val_loss: 0.5202 - val_accuracy: 0.8225\n",
            "Epoch 76/100\n",
            "83/83 [==============================] - 3s 41ms/step - loss: 0.4624 - accuracy: 0.8270 - val_loss: 0.5201 - val_accuracy: 0.8240\n",
            "Epoch 77/100\n",
            "83/83 [==============================] - 3s 38ms/step - loss: 0.4757 - accuracy: 0.8179 - val_loss: 0.5199 - val_accuracy: 0.8240\n",
            "Epoch 78/100\n",
            "83/83 [==============================] - 3s 32ms/step - loss: 0.4732 - accuracy: 0.8187 - val_loss: 0.5197 - val_accuracy: 0.8240\n",
            "Epoch 79/100\n",
            "83/83 [==============================] - 3s 32ms/step - loss: 0.4999 - accuracy: 0.8099 - val_loss: 0.5199 - val_accuracy: 0.8244\n",
            "Epoch 80/100\n",
            "83/83 [==============================] - 3s 40ms/step - loss: 0.4554 - accuracy: 0.8263 - val_loss: 0.5206 - val_accuracy: 0.8255\n",
            "Epoch 81/100\n",
            "83/83 [==============================] - 4s 45ms/step - loss: 0.4543 - accuracy: 0.8244 - val_loss: 0.5207 - val_accuracy: 0.8251\n",
            "Epoch 82/100\n",
            "83/83 [==============================] - 3s 40ms/step - loss: 0.4803 - accuracy: 0.8213 - val_loss: 0.5205 - val_accuracy: 0.8251\n",
            "Epoch 83/100\n",
            "83/83 [==============================] - 3s 32ms/step - loss: 0.4417 - accuracy: 0.8290 - val_loss: 0.5206 - val_accuracy: 0.8248\n"
          ]
        }
      ]
    },
    {
      "cell_type": "code",
      "source": [
        "y_val_predict = model.predict(X_val)\n",
        "y_val_predict"
      ],
      "metadata": {
        "colab": {
          "base_uri": "https://localhost:8080/"
        },
        "id": "kFCGhDsuQhUz",
        "outputId": "6743457d-b269-4771-891b-30b3c0989d54"
      },
      "execution_count": 89,
      "outputs": [
        {
          "output_type": "stream",
          "name": "stdout",
          "text": [
            "83/83 [==============================] - 1s 10ms/step\n"
          ]
        },
        {
          "output_type": "execute_result",
          "data": {
            "text/plain": [
              "array([[9.10845280e-01, 8.91547054e-02],\n",
              "       [9.99999166e-01, 8.38393532e-07],\n",
              "       [7.70639420e-01, 2.29360566e-01],\n",
              "       ...,\n",
              "       [1.21655285e-01, 8.78344655e-01],\n",
              "       [8.18281531e-01, 1.81718484e-01],\n",
              "       [8.38354290e-01, 1.61645710e-01]], dtype=float32)"
            ]
          },
          "metadata": {},
          "execution_count": 89
        }
      ]
    },
    {
      "cell_type": "code",
      "source": [
        "y_val_fa = np.zeros([len(y_val_predict)])\n",
        "for i in range(len(y_val_predict)):\n",
        "  if(y_val_predict[i][0]>y_val_predict[i][1]):\n",
        "    y_val_fa[i] = 0\n",
        "  else:\n",
        "    y_val_fa[i] = 1\n",
        "y_val_fa\n"
      ],
      "metadata": {
        "colab": {
          "base_uri": "https://localhost:8080/"
        },
        "id": "7XEBRMpYQ235",
        "outputId": "70ac0142-d7b3-42aa-d00d-89ef788b8c1b"
      },
      "execution_count": 90,
      "outputs": [
        {
          "output_type": "execute_result",
          "data": {
            "text/plain": [
              "array([0., 0., 0., ..., 1., 0., 0.])"
            ]
          },
          "metadata": {},
          "execution_count": 90
        }
      ]
    },
    {
      "cell_type": "code",
      "source": [
        "y_val_fa = y_val_fa.reshape(-1,1)\n",
        "f1_score(y_val,y_val_fa)"
      ],
      "metadata": {
        "colab": {
          "base_uri": "https://localhost:8080/"
        },
        "id": "ok7GnkbaRtdO",
        "outputId": "3b4e680f-02a8-4474-8ef8-23e7dafa256e"
      },
      "execution_count": 91,
      "outputs": [
        {
          "output_type": "execute_result",
          "data": {
            "text/plain": [
              "0.6400625978090767"
            ]
          },
          "metadata": {},
          "execution_count": 91
        }
      ]
    },
    {
      "cell_type": "code",
      "source": [
        "df_test.head()"
      ],
      "metadata": {
        "colab": {
          "base_uri": "https://localhost:8080/",
          "height": 299
        },
        "id": "TZ_kZ2S-R4ox",
        "outputId": "e533e40f-b267-4577-b37b-f7945d9f2f7f"
      },
      "execution_count": 92,
      "outputs": [
        {
          "output_type": "execute_result",
          "data": {
            "text/plain": [
              "   id       f_0       f_1       f_2       f_3       f_4       f_5       f_6  \\\n",
              "0   1 -3.388242  0.868285 -0.427619 -0.678964 -1.625735  0.262761  1.243040   \n",
              "1   2 -0.496920  0.952381  0.989040  0.451422  0.513516 -0.099658 -1.124326   \n",
              "2   3  1.128369 -0.537951  2.544358  1.165254 -1.904994  0.776961 -0.495768   \n",
              "3   4  0.051253  1.746814  0.681177  1.844524 -0.327977  1.226839 -0.085519   \n",
              "4   5  1.423209 -0.983594 -1.694170  1.197507  1.044211  0.518777 -0.298612   \n",
              "\n",
              "        f_7       f_8  ...    f_1190    f_1191    f_1192    f_1193    f_1194  \\\n",
              "0  1.537751 -0.352028  ... -0.776403 -0.662884 -0.257091 -1.168413  0.223260   \n",
              "1  0.729430 -0.216224  ...  0.379635 -1.760084  1.125450 -0.328047 -0.880305   \n",
              "2  0.060111 -1.418468  ...  1.165254 -1.373589 -0.483701 -0.964782 -0.869555   \n",
              "3  0.379008 -1.003667  ... -0.442288 -2.794472 -0.763468 -0.789832 -0.113209   \n",
              "4 -0.365174  0.738447  ... -2.624450 -3.200223  0.711422 -0.190394  0.337224   \n",
              "\n",
              "     f_1195    f_1196    f_1197    f_1198    f_1199  \n",
              "0 -0.482520 -0.085453 -0.382265 -0.539349 -1.682404  \n",
              "1 -1.257607  0.964312  2.021104  0.655021 -0.423029  \n",
              "2  0.066040 -0.444567 -0.531935 -0.878660  1.099488  \n",
              "3 -2.703150 -2.058728  1.070627 -0.458045 -0.435825  \n",
              "4 -1.656639  0.707360 -0.562290  1.471181 -0.192000  \n",
              "\n",
              "[5 rows x 1201 columns]"
            ],
            "text/html": [
              "\n",
              "  <div id=\"df-8348c9c2-42af-4c51-adaf-9f8fc40aa1d7\">\n",
              "    <div class=\"colab-df-container\">\n",
              "      <div>\n",
              "<style scoped>\n",
              "    .dataframe tbody tr th:only-of-type {\n",
              "        vertical-align: middle;\n",
              "    }\n",
              "\n",
              "    .dataframe tbody tr th {\n",
              "        vertical-align: top;\n",
              "    }\n",
              "\n",
              "    .dataframe thead th {\n",
              "        text-align: right;\n",
              "    }\n",
              "</style>\n",
              "<table border=\"1\" class=\"dataframe\">\n",
              "  <thead>\n",
              "    <tr style=\"text-align: right;\">\n",
              "      <th></th>\n",
              "      <th>id</th>\n",
              "      <th>f_0</th>\n",
              "      <th>f_1</th>\n",
              "      <th>f_2</th>\n",
              "      <th>f_3</th>\n",
              "      <th>f_4</th>\n",
              "      <th>f_5</th>\n",
              "      <th>f_6</th>\n",
              "      <th>f_7</th>\n",
              "      <th>f_8</th>\n",
              "      <th>...</th>\n",
              "      <th>f_1190</th>\n",
              "      <th>f_1191</th>\n",
              "      <th>f_1192</th>\n",
              "      <th>f_1193</th>\n",
              "      <th>f_1194</th>\n",
              "      <th>f_1195</th>\n",
              "      <th>f_1196</th>\n",
              "      <th>f_1197</th>\n",
              "      <th>f_1198</th>\n",
              "      <th>f_1199</th>\n",
              "    </tr>\n",
              "  </thead>\n",
              "  <tbody>\n",
              "    <tr>\n",
              "      <th>0</th>\n",
              "      <td>1</td>\n",
              "      <td>-3.388242</td>\n",
              "      <td>0.868285</td>\n",
              "      <td>-0.427619</td>\n",
              "      <td>-0.678964</td>\n",
              "      <td>-1.625735</td>\n",
              "      <td>0.262761</td>\n",
              "      <td>1.243040</td>\n",
              "      <td>1.537751</td>\n",
              "      <td>-0.352028</td>\n",
              "      <td>...</td>\n",
              "      <td>-0.776403</td>\n",
              "      <td>-0.662884</td>\n",
              "      <td>-0.257091</td>\n",
              "      <td>-1.168413</td>\n",
              "      <td>0.223260</td>\n",
              "      <td>-0.482520</td>\n",
              "      <td>-0.085453</td>\n",
              "      <td>-0.382265</td>\n",
              "      <td>-0.539349</td>\n",
              "      <td>-1.682404</td>\n",
              "    </tr>\n",
              "    <tr>\n",
              "      <th>1</th>\n",
              "      <td>2</td>\n",
              "      <td>-0.496920</td>\n",
              "      <td>0.952381</td>\n",
              "      <td>0.989040</td>\n",
              "      <td>0.451422</td>\n",
              "      <td>0.513516</td>\n",
              "      <td>-0.099658</td>\n",
              "      <td>-1.124326</td>\n",
              "      <td>0.729430</td>\n",
              "      <td>-0.216224</td>\n",
              "      <td>...</td>\n",
              "      <td>0.379635</td>\n",
              "      <td>-1.760084</td>\n",
              "      <td>1.125450</td>\n",
              "      <td>-0.328047</td>\n",
              "      <td>-0.880305</td>\n",
              "      <td>-1.257607</td>\n",
              "      <td>0.964312</td>\n",
              "      <td>2.021104</td>\n",
              "      <td>0.655021</td>\n",
              "      <td>-0.423029</td>\n",
              "    </tr>\n",
              "    <tr>\n",
              "      <th>2</th>\n",
              "      <td>3</td>\n",
              "      <td>1.128369</td>\n",
              "      <td>-0.537951</td>\n",
              "      <td>2.544358</td>\n",
              "      <td>1.165254</td>\n",
              "      <td>-1.904994</td>\n",
              "      <td>0.776961</td>\n",
              "      <td>-0.495768</td>\n",
              "      <td>0.060111</td>\n",
              "      <td>-1.418468</td>\n",
              "      <td>...</td>\n",
              "      <td>1.165254</td>\n",
              "      <td>-1.373589</td>\n",
              "      <td>-0.483701</td>\n",
              "      <td>-0.964782</td>\n",
              "      <td>-0.869555</td>\n",
              "      <td>0.066040</td>\n",
              "      <td>-0.444567</td>\n",
              "      <td>-0.531935</td>\n",
              "      <td>-0.878660</td>\n",
              "      <td>1.099488</td>\n",
              "    </tr>\n",
              "    <tr>\n",
              "      <th>3</th>\n",
              "      <td>4</td>\n",
              "      <td>0.051253</td>\n",
              "      <td>1.746814</td>\n",
              "      <td>0.681177</td>\n",
              "      <td>1.844524</td>\n",
              "      <td>-0.327977</td>\n",
              "      <td>1.226839</td>\n",
              "      <td>-0.085519</td>\n",
              "      <td>0.379008</td>\n",
              "      <td>-1.003667</td>\n",
              "      <td>...</td>\n",
              "      <td>-0.442288</td>\n",
              "      <td>-2.794472</td>\n",
              "      <td>-0.763468</td>\n",
              "      <td>-0.789832</td>\n",
              "      <td>-0.113209</td>\n",
              "      <td>-2.703150</td>\n",
              "      <td>-2.058728</td>\n",
              "      <td>1.070627</td>\n",
              "      <td>-0.458045</td>\n",
              "      <td>-0.435825</td>\n",
              "    </tr>\n",
              "    <tr>\n",
              "      <th>4</th>\n",
              "      <td>5</td>\n",
              "      <td>1.423209</td>\n",
              "      <td>-0.983594</td>\n",
              "      <td>-1.694170</td>\n",
              "      <td>1.197507</td>\n",
              "      <td>1.044211</td>\n",
              "      <td>0.518777</td>\n",
              "      <td>-0.298612</td>\n",
              "      <td>-0.365174</td>\n",
              "      <td>0.738447</td>\n",
              "      <td>...</td>\n",
              "      <td>-2.624450</td>\n",
              "      <td>-3.200223</td>\n",
              "      <td>0.711422</td>\n",
              "      <td>-0.190394</td>\n",
              "      <td>0.337224</td>\n",
              "      <td>-1.656639</td>\n",
              "      <td>0.707360</td>\n",
              "      <td>-0.562290</td>\n",
              "      <td>1.471181</td>\n",
              "      <td>-0.192000</td>\n",
              "    </tr>\n",
              "  </tbody>\n",
              "</table>\n",
              "<p>5 rows × 1201 columns</p>\n",
              "</div>\n",
              "      <button class=\"colab-df-convert\" onclick=\"convertToInteractive('df-8348c9c2-42af-4c51-adaf-9f8fc40aa1d7')\"\n",
              "              title=\"Convert this dataframe to an interactive table.\"\n",
              "              style=\"display:none;\">\n",
              "        \n",
              "  <svg xmlns=\"http://www.w3.org/2000/svg\" height=\"24px\"viewBox=\"0 0 24 24\"\n",
              "       width=\"24px\">\n",
              "    <path d=\"M0 0h24v24H0V0z\" fill=\"none\"/>\n",
              "    <path d=\"M18.56 5.44l.94 2.06.94-2.06 2.06-.94-2.06-.94-.94-2.06-.94 2.06-2.06.94zm-11 1L8.5 8.5l.94-2.06 2.06-.94-2.06-.94L8.5 2.5l-.94 2.06-2.06.94zm10 10l.94 2.06.94-2.06 2.06-.94-2.06-.94-.94-2.06-.94 2.06-2.06.94z\"/><path d=\"M17.41 7.96l-1.37-1.37c-.4-.4-.92-.59-1.43-.59-.52 0-1.04.2-1.43.59L10.3 9.45l-7.72 7.72c-.78.78-.78 2.05 0 2.83L4 21.41c.39.39.9.59 1.41.59.51 0 1.02-.2 1.41-.59l7.78-7.78 2.81-2.81c.8-.78.8-2.07 0-2.86zM5.41 20L4 18.59l7.72-7.72 1.47 1.35L5.41 20z\"/>\n",
              "  </svg>\n",
              "      </button>\n",
              "      \n",
              "  <style>\n",
              "    .colab-df-container {\n",
              "      display:flex;\n",
              "      flex-wrap:wrap;\n",
              "      gap: 12px;\n",
              "    }\n",
              "\n",
              "    .colab-df-convert {\n",
              "      background-color: #E8F0FE;\n",
              "      border: none;\n",
              "      border-radius: 50%;\n",
              "      cursor: pointer;\n",
              "      display: none;\n",
              "      fill: #1967D2;\n",
              "      height: 32px;\n",
              "      padding: 0 0 0 0;\n",
              "      width: 32px;\n",
              "    }\n",
              "\n",
              "    .colab-df-convert:hover {\n",
              "      background-color: #E2EBFA;\n",
              "      box-shadow: 0px 1px 2px rgba(60, 64, 67, 0.3), 0px 1px 3px 1px rgba(60, 64, 67, 0.15);\n",
              "      fill: #174EA6;\n",
              "    }\n",
              "\n",
              "    [theme=dark] .colab-df-convert {\n",
              "      background-color: #3B4455;\n",
              "      fill: #D2E3FC;\n",
              "    }\n",
              "\n",
              "    [theme=dark] .colab-df-convert:hover {\n",
              "      background-color: #434B5C;\n",
              "      box-shadow: 0px 1px 3px 1px rgba(0, 0, 0, 0.15);\n",
              "      filter: drop-shadow(0px 1px 2px rgba(0, 0, 0, 0.3));\n",
              "      fill: #FFFFFF;\n",
              "    }\n",
              "  </style>\n",
              "\n",
              "      <script>\n",
              "        const buttonEl =\n",
              "          document.querySelector('#df-8348c9c2-42af-4c51-adaf-9f8fc40aa1d7 button.colab-df-convert');\n",
              "        buttonEl.style.display =\n",
              "          google.colab.kernel.accessAllowed ? 'block' : 'none';\n",
              "\n",
              "        async function convertToInteractive(key) {\n",
              "          const element = document.querySelector('#df-8348c9c2-42af-4c51-adaf-9f8fc40aa1d7');\n",
              "          const dataTable =\n",
              "            await google.colab.kernel.invokeFunction('convertToInteractive',\n",
              "                                                     [key], {});\n",
              "          if (!dataTable) return;\n",
              "\n",
              "          const docLinkHtml = 'Like what you see? Visit the ' +\n",
              "            '<a target=\"_blank\" href=https://colab.research.google.com/notebooks/data_table.ipynb>data table notebook</a>'\n",
              "            + ' to learn more about interactive tables.';\n",
              "          element.innerHTML = '';\n",
              "          dataTable['output_type'] = 'display_data';\n",
              "          await google.colab.output.renderOutput(dataTable, element);\n",
              "          const docLink = document.createElement('div');\n",
              "          docLink.innerHTML = docLinkHtml;\n",
              "          element.appendChild(docLink);\n",
              "        }\n",
              "      </script>\n",
              "    </div>\n",
              "  </div>\n",
              "  "
            ]
          },
          "metadata": {},
          "execution_count": 92
        }
      ]
    },
    {
      "cell_type": "code",
      "source": [
        "X_test = df_test.drop('id',axis = 1).to_numpy()\n",
        "id = df_test['id'].to_numpy()\n",
        "X_test = X_test.reshape(-1,20,20,3)"
      ],
      "metadata": {
        "id": "DrE6a-5cR-Ls"
      },
      "execution_count": 93,
      "outputs": []
    },
    {
      "cell_type": "code",
      "source": [
        "y_test = model.predict(X_test)\n",
        "y_fa = np.zeros([len(y_test)])\n",
        "for i in range(len(y_test)):\n",
        "  if(y_test[i][0]>y_test[i][1]):\n",
        "    y_fa[i] = 0\n",
        "  else:\n",
        "    y_fa[i] = 1\n",
        "y_fa"
      ],
      "metadata": {
        "colab": {
          "base_uri": "https://localhost:8080/"
        },
        "id": "zc8bFWT_Sav_",
        "outputId": "2a5e1406-29d7-43c7-fe0a-8c1eeda280df"
      },
      "execution_count": 94,
      "outputs": [
        {
          "output_type": "stream",
          "name": "stdout",
          "text": [
            "71/71 [==============================] - 1s 9ms/step\n"
          ]
        },
        {
          "output_type": "execute_result",
          "data": {
            "text/plain": [
              "array([1., 0., 0., ..., 1., 0., 0.])"
            ]
          },
          "metadata": {},
          "execution_count": 94
        }
      ]
    },
    {
      "cell_type": "code",
      "source": [
        "y_fa.shape"
      ],
      "metadata": {
        "colab": {
          "base_uri": "https://localhost:8080/"
        },
        "id": "6SymZRpZTe0k",
        "outputId": "1fa67f14-b9be-47bb-9eaf-f0b5666e7bbb"
      },
      "execution_count": 95,
      "outputs": [
        {
          "output_type": "execute_result",
          "data": {
            "text/plain": [
              "(2250,)"
            ]
          },
          "metadata": {},
          "execution_count": 95
        }
      ]
    },
    {
      "cell_type": "code",
      "source": [
        "id = id.reshape(-1,1)\n",
        "y_fa = y_fa.reshape(-1,1)\n",
        "print(id.shape,y_fa.shape)"
      ],
      "metadata": {
        "colab": {
          "base_uri": "https://localhost:8080/"
        },
        "id": "tnfDcqTtS7_H",
        "outputId": "4e2d2779-e47a-4e27-e84c-4aec85b3232c"
      },
      "execution_count": 96,
      "outputs": [
        {
          "output_type": "stream",
          "name": "stdout",
          "text": [
            "(2250, 1) (2250, 1)\n"
          ]
        }
      ]
    },
    {
      "cell_type": "code",
      "source": [
        "temp = np.concatenate([id,y_fa],axis = 1)\n",
        "temp.shape"
      ],
      "metadata": {
        "colab": {
          "base_uri": "https://localhost:8080/"
        },
        "id": "_2c6D1cqTPgb",
        "outputId": "ef48bfc1-7734-42c8-f437-a5ced1358073"
      },
      "execution_count": 97,
      "outputs": [
        {
          "output_type": "execute_result",
          "data": {
            "text/plain": [
              "(2250, 2)"
            ]
          },
          "metadata": {},
          "execution_count": 97
        }
      ]
    },
    {
      "cell_type": "code",
      "source": [
        "submission = pd.DataFrame(temp,columns = ['id','labels'])"
      ],
      "metadata": {
        "id": "NF3RiW2xSzo-"
      },
      "execution_count": 98,
      "outputs": []
    },
    {
      "cell_type": "code",
      "source": [
        "submission.to_csv('vit.csv')"
      ],
      "metadata": {
        "id": "xfQjDY6mT9RI"
      },
      "execution_count": 99,
      "outputs": []
    },
    {
      "cell_type": "code",
      "source": [
        "plt.plot(history.history['loss'])\n",
        "plt.plot(history.history['val_loss'])\n",
        "plt.title('model loss')\n",
        "plt.xlabel('epoch')\n",
        "plt.ylabel('loss')\n",
        "plt.show()"
      ],
      "metadata": {
        "colab": {
          "base_uri": "https://localhost:8080/",
          "height": 472
        },
        "id": "5FOOKlfEceoZ",
        "outputId": "93c9f29a-1de3-4b8d-ddf5-f7292caa046a"
      },
      "execution_count": 100,
      "outputs": [
        {
          "output_type": "display_data",
          "data": {
            "text/plain": [
              "<Figure size 640x480 with 1 Axes>"
            ],
            "image/png": "[encoded data removed]"
          },
          "metadata": {}
        }
      ]
    }
  ]
}