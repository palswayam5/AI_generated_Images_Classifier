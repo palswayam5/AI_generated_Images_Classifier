{
  "cells": [
    {
      "cell_type": "markdown",
      "metadata": {
        "id": "view-in-github",
        "colab_type": "text"
      },
      "source": [
        "<a href=\"https://colab.research.google.com/github/palswayam5/AI_generated_Images_Classifier/blob/master/ai_generated_image_res_50.ipynb\" target=\"_parent\"><img src=\"https://colab.research.google.com/assets/colab-badge.svg\" alt=\"Open In Colab\"/></a>"
      ]
    },
    {
      "cell_type": "code",
      "source": [
        "pip install -q -U keras-tuner"
      ],
      "metadata": {
        "id": "wg4dF0Ot7Lr5"
      },
      "execution_count": null,
      "outputs": []
    },
    {
      "cell_type": "code",
      "execution_count": null,
      "metadata": {
        "id": "mmw9d-MSIkko"
      },
      "outputs": [],
      "source": [
        "import numpy as np\n",
        "import pandas as pd\n",
        "from sklearn.model_selection import train_test_split\n",
        "import tensorflow as tf\n",
        "from tensorflow.keras.layers import Conv2D,Dense,Flatten,Input,Activation,BatchNormalization,MaxPooling2D,AveragePooling2D,ZeroPadding2D,Add,Dropout\n",
        "from tensorflow.keras import Input,Model\n",
        "from tensorflow.keras.initializers import GlorotUniform as glorot_uniform\n",
        "from tensorflow.keras.wrappers.scikit_learn import KerasClassifier\n",
        "from sklearn.model_selection import GridSearchCV\n",
        "from sklearn.metrics import f1_score\n",
        "import keras_tuner as kt"
      ]
    },
    {
      "cell_type": "code",
      "source": [
        "from google.colab import drive\n",
        "drive.mount('/content/drive')"
      ],
      "metadata": {
        "colab": {
          "base_uri": "https://localhost:8080/"
        },
        "id": "_aSferihhk0r",
        "outputId": "0f5c4930-78c6-4e86-9c16-65ee66b0c002"
      },
      "execution_count": null,
      "outputs": [
        {
          "output_type": "stream",
          "name": "stdout",
          "text": [
            "Drive already mounted at /content/drive; to attempt to forcibly remount, call drive.mount(\"/content/drive\", force_remount=True).\n"
          ]
        }
      ]
    },
    {
      "cell_type": "code",
      "source": [
        "input_shape = (20,20,3)\n",
        "classes = 2"
      ],
      "metadata": {
        "id": "wzia0Oos4wyt"
      },
      "execution_count": null,
      "outputs": []
    },
    {
      "cell_type": "code",
      "execution_count": null,
      "metadata": {
        "id": "0JAKJPd5IzdE"
      },
      "outputs": [],
      "source": [
        "def identity_block(X, f, filters, stage, block,l):\n",
        "    \"\"\"\n",
        "    Implementation of the identity block\n",
        "\n",
        "    Arguments:\n",
        "    X -- input tensor of shape (m, n_H_prev, n_W_prev, n_C_prev)\n",
        "    f -- integer, specifying the shape of the middle CONV's window for the main path\n",
        "    filters -- python list of integers, defining the number of filters in the CONV layers of the main path\n",
        "    stage -- integer, used to name the layers, depending on their position in the network\n",
        "    block -- string/character, used to name the layers, depending on their position in the network\n",
        "\n",
        "    Returns:\n",
        "    X -- output of the identity block, tensor of shape (n_H, n_W, n_C)\n",
        "    \"\"\"\n",
        "\n",
        "    # defining name basis\n",
        "    conv_name_base = 'res' + str(stage) + block + '_branch'\n",
        "    bn_name_base = 'bn' + str(stage) + block + '_branch'\n",
        "\n",
        "    # Retrieve Filters\n",
        "    F1, F2, F3 = filters\n",
        "\n",
        "    # Save the input value. You'll need this later to add back to the main path.\n",
        "    X_shortcut = X\n",
        "\n",
        "    # First component of main path\n",
        "    X = Conv2D(filters = F1, kernel_size = (1, 1), strides = (1,1), padding = 'valid', name = conv_name_base + '2a', kernel_initializer = glorot_uniform(seed=0), kernel_regularizer = tf.keras.regularizers.l2( l=l))(X)\n",
        "    X = BatchNormalization(axis = 3, name = bn_name_base + '2a')(X)\n",
        "    X = Activation('relu')(X)\n",
        "\n",
        "\n",
        "    # Second component of main path\n",
        "    X = Conv2D(filters = F2, kernel_size = (f, f), strides = (1,1), padding = 'same', name = conv_name_base + '2b', kernel_initializer = glorot_uniform(seed=0),kernel_regularizer = tf.keras.regularizers.l2( l=l))(X)\n",
        "    X = BatchNormalization(axis = 3, name = bn_name_base + '2b')(X)\n",
        "    X = Activation('relu')(X)\n",
        "\n",
        "    # Third component of main path\n",
        "    X = Conv2D(filters = F3, kernel_size = (1, 1), strides = (1,1), padding = 'valid', name = conv_name_base + '2c', kernel_initializer = glorot_uniform(seed=0),kernel_regularizer = tf.keras.regularizers.l2( l=l))(X)\n",
        "    X = BatchNormalization(axis = 3, name = bn_name_base + '2c')(X)\n",
        "\n",
        "    # Final step: Add shortcut value to main path, and pass it through a RELU activation\n",
        "    X = Add()([X, X_shortcut])\n",
        "    X = Activation('relu')(X)\n",
        "\n",
        "\n",
        "    return X"
      ]
    },
    {
      "cell_type": "code",
      "execution_count": null,
      "metadata": {
        "id": "wginECrcI14B"
      },
      "outputs": [],
      "source": [
        "def convolutional_block(X, f, filters, stage, block, s = 2,l = 0.01):\n",
        "    \"\"\"\n",
        "    Implementation of the convolutional block\n",
        "\n",
        "    Arguments:\n",
        "    X -- input tensor of shape (m, n_H_prev, n_W_prev, n_C_prev)\n",
        "    f -- integer, specifying the shape of the middle CONV's window for the main path\n",
        "    filters -- python list of integers, defining the number of filters in the CONV layers of the main path\n",
        "    stage -- integer, used to name the layers, depending on their position in the network\n",
        "    block -- string/character, used to name the layers, depending on their position in the network\n",
        "    s -- Integer, specifying the stride to be used\n",
        "\n",
        "    Returns:\n",
        "    X -- output of the convolutional block, tensor of shape (n_H, n_W, n_C)\n",
        "    \"\"\"\n",
        "\n",
        "    # defining name basis\n",
        "    conv_name_base = 'res' + str(stage) + block + '_branch'\n",
        "    bn_name_base = 'bn' + str(stage) + block + '_branch'\n",
        "\n",
        "    # Retrieve Filters\n",
        "    F1, F2, F3 = filters\n",
        "\n",
        "    # Save the input value\n",
        "    X_shortcut = X\n",
        "\n",
        "\n",
        "    ##### MAIN PATH #####\n",
        "    # First component of main path\n",
        "    X = Conv2D(F1, (1, 1), strides = (s,s), name = conv_name_base + '2a', kernel_initializer = glorot_uniform(seed=0),kernel_regularizer = tf.keras.regularizers.l2( l=l))(X)\n",
        "    X = BatchNormalization(axis = 3, name = bn_name_base + '2a')(X)\n",
        "    X = Activation('relu')(X)\n",
        "\n",
        "\n",
        "    # Second component of main path\n",
        "    X = Conv2D(F2, (f,f), strides = (1,1), padding = 'same', name = conv_name_base + '2b', kernel_initializer=glorot_uniform(seed =0),kernel_regularizer = tf.keras.regularizers.l2( l=l))(X)\n",
        "    X = BatchNormalization(axis = 3, name = bn_name_base + '2b')(X)\n",
        "    X = Activation('relu') (X)\n",
        "\n",
        "    # Third component of main path\n",
        "    X = Conv2D(F3, (1,1), strides = (1,1), padding = 'valid', name = conv_name_base + '2c', kernel_initializer=glorot_uniform(seed =0),kernel_regularizer = tf.keras.regularizers.l2( l=l))(X)\n",
        "    X = BatchNormalization(axis = 3, name = bn_name_base + '2c')(X)\n",
        "\n",
        "    ##### SHORTCUT PATH ####\n",
        "    X_shortcut = Conv2D(F3, (1,1), strides = (s,s), padding = 'valid', name = conv_name_base + '1', kernel_initializer=glorot_uniform(seed =0),kernel_regularizer = tf.keras.regularizers.l2( l=l))(X_shortcut)\n",
        "    X_shortcut = BatchNormalization(axis = 3, name = bn_name_base + '1')(X_shortcut)\n",
        "\n",
        "    # Final step: Add shortcut value to main path, and pass it through a RELU activation\n",
        "    X = Add()([X,X_shortcut])\n",
        "    X = Activation('relu')(X)\n",
        "\n",
        "\n",
        "    return X"
      ]
    },
    {
      "cell_type": "code",
      "execution_count": null,
      "metadata": {
        "id": "WDvKpttLI6Yk"
      },
      "outputs": [],
      "source": [
        "def ResNet50(hp):\n",
        "    \"\"\"\n",
        "    Implementation of the popular ResNet50 the following architecture:\n",
        "    CONV2D -> BATCHNORM -> RELU -> MAXPOOL -> CONVBLOCK -> IDBLOCK*2 -> CONVBLOCK -> IDBLOCK*3\n",
        "    -> CONVBLOCK -> IDBLOCK*5 -> CONVBLOCK -> IDBLOCK*2 -> AVGPOOL -> TOPLAYER\n",
        "\n",
        "    Arguments:\n",
        "    input_shape -- shape of the images of the dataset\n",
        "    classes -- integer, number of classes\n",
        "    Returns:\n",
        "    model -- a Model() instance in Keras\n",
        "    \"\"\"\n",
        "\n",
        "    # Define the input as a tensor with shape input_shape\n",
        "    X_input = Input(input_shape)\n",
        "\n",
        "\n",
        "    # Zero-Padding\n",
        "    X = ZeroPadding2D((3, 3))(X_input)\n",
        "\n",
        "    # Stage 1\n",
        "    X = Conv2D(64, (7, 7), strides = (2, 2), name = 'conv1', kernel_initializer = glorot_uniform(seed=0))(X)\n",
        "    X = BatchNormalization(axis = 3, name = 'bn_conv1')(X)\n",
        "    X = Activation('relu')(X)\n",
        "    X = MaxPooling2D((3, 3), strides=(2, 2))(X)\n",
        "\n",
        "    # Stage 2\n",
        "    X = convolutional_block(X, f = 3, filters = [64, 64, 256], stage = 2, block='a', s = 1,l = 0)\n",
        "    X = identity_block(X, 3, [64, 64, 256], stage=2, block='b',l=0)\n",
        "    X = identity_block(X, 3, [64, 64, 256], stage=2, block='c',l=0)\n",
        "\n",
        "\n",
        "    # Stage 3\n",
        "    X = convolutional_block(X, f = 3, filters = [128, 128, 512], stage = 3, block='a', s = 2,l = 0)\n",
        "    X = identity_block(X, 3, [128, 128, 512], stage=3, block='b',l = 0)\n",
        "    X = identity_block(X, 3, [128, 128, 512], stage=3, block='c',l = 0)\n",
        "    X = identity_block(X, 3, [128, 128, 512], stage=3, block='d',l = 0)\n",
        "\n",
        "    # Stage 4\n",
        "    X = convolutional_block(X, f = 3, filters = [256, 256, 1024], stage = 4, block='a', s = 2,l = 0)\n",
        "    X = identity_block(X, 3, [256, 256, 1024], stage=4, block='b',l = 0)\n",
        "    X = identity_block(X, 3, [256, 256, 1024], stage=4, block='c',l = 0)\n",
        "    X = identity_block(X, 3, [256, 256, 1024], stage=4, block='d',l = 0)\n",
        "    X = identity_block(X, 3, [256, 256, 1024], stage=4, block='e',l = 0)\n",
        "    X = identity_block(X, 3, [256, 256, 1024], stage=4, block='f',l = 0)\n",
        "\n",
        "    # Stage 5\n",
        "    X = convolutional_block(X, f = 3, filters = [512, 512, 2048], stage = 5, block='a', s = 2,l = 0)\n",
        "    X = identity_block(X, 3, [512, 512, 2048], stage=5, block='b',l = 0)\n",
        "    X = identity_block(X, 3, [512, 512, 2048], stage=5, block='c',l = 0)\n",
        "\n",
        "    # AVGPOOL . Use \"X = AveragePooling2D(...)(X)\"\n",
        "    #X = AveragePooling2D()(X)\n",
        "\n",
        "    # output layer\n",
        "    X = Flatten()(X)\n",
        "    hp_units = hp.Int('units', min_value=125, max_value=512, step=32)\n",
        "    #X = Dense(units = 224,activation = 'relu')(X)\n",
        "    X = Dense(units = hp_units,activation = 'relu')(X)\n",
        "    X = Dense(classes, activation='softmax', name='fc' + str(classes), kernel_initializer = glorot_uniform(seed=0),kernel_regularizer = tf.keras.regularizers.l2( l=0.01))(X)\n",
        "\n",
        "\n",
        "    # Create model\n",
        "    model = Model(inputs = X_input, outputs = X, name='ResNet50')\n",
        "    hp_learning_rate = hp.Choice('learning_rate', values=[1e-2, 1e-3])\n",
        "    model.compile(optimizer = tf.keras.optimizers.Adam(learning_rate  = hp_learning_rate),loss = 'sparse_categorical_crossentropy',metrics = ['accuracy'])\n",
        "\n",
        "    return model"
      ]
    },
    {
      "cell_type": "code",
      "execution_count": null,
      "metadata": {
        "id": "4HyATb7Kgkbl"
      },
      "outputs": [],
      "source": [
        "#model = ResNet50()\n",
        "tuner = kt.Hyperband(ResNet50,\n",
        "                     objective='val_accuracy',\n",
        "                     max_epochs=10,\n",
        "                     factor=3,\n",
        "                     directory='my_dir',\n",
        "                     project_name='intro_to_kt1')"
      ]
    },
    {
      "cell_type": "code",
      "source": [
        "df = pd.read_csv('/content/drive/MyDrive/Dataset/train.csv')\n",
        "df_test = pd.read_csv('/content/drive/MyDrive/Dataset/test.csv')"
      ],
      "metadata": {
        "id": "cpiSRFvC69yN"
      },
      "execution_count": null,
      "outputs": []
    },
    {
      "cell_type": "code",
      "source": [
        "X = df.drop('labels',axis = 1).to_numpy()\n",
        "y = df['labels'].to_numpy()\n",
        "X = X.reshape(-1,20,20,3)\n",
        "y = y.reshape(-1,1)\n",
        "print(X.shape,y.shape)"
      ],
      "metadata": {
        "colab": {
          "base_uri": "https://localhost:8080/"
        },
        "id": "fGjVG9-y7aAf",
        "outputId": "08e2962b-4f96-4820-b9cc-cd0a793d5b82"
      },
      "execution_count": null,
      "outputs": [
        {
          "output_type": "stream",
          "name": "stdout",
          "text": [
            "(5250, 20, 20, 3) (5250, 1)\n"
          ]
        }
      ]
    },
    {
      "cell_type": "code",
      "source": [
        "stop_early = tf.keras.callbacks.EarlyStopping(monitor='val_loss', patience=5)"
      ],
      "metadata": {
        "id": "7dgRo_TN5iYi"
      },
      "execution_count": null,
      "outputs": []
    },
    {
      "cell_type": "code",
      "source": [
        "tuner.search(X, y, epochs=50, validation_split=0.4, callbacks=[stop_early])\n",
        "\n",
        "# Get the optimal hyperparameters\n",
        "best_hps=tuner.get_best_hyperparameters(num_trials=1)[0]"
      ],
      "metadata": {
        "id": "nzqyWnIl5jHH"
      },
      "execution_count": null,
      "outputs": []
    },
    {
      "cell_type": "code",
      "source": [
        "model = tuner.hypermodel.build(best_hps)\n",
        "history = model.fit(X, y, epochs=50, validation_split=0.4)\n",
        "\n",
        "val_acc_per_epoch = history.history['val_accuracy']\n",
        "best_epoch = val_acc_per_epoch.index(max(val_acc_per_epoch)) + 1\n",
        "print('Best epoch: %d' % (best_epoch,))"
      ],
      "metadata": {
        "id": "we7GO8Qt5-42",
        "colab": {
          "base_uri": "https://localhost:8080/"
        },
        "outputId": "c9b3985e-2cbf-4a31-ac22-642db415f789"
      },
      "execution_count": null,
      "outputs": [
        {
          "output_type": "stream",
          "name": "stdout",
          "text": [
            "Epoch 1/50\n",
            "99/99 [==============================] - 62s 68ms/step - loss: 1.1491 - accuracy: 0.6968 - val_loss: 0.6455 - val_accuracy: 0.7252\n",
            "Epoch 2/50\n",
            "99/99 [==============================] - 5s 55ms/step - loss: 0.6248 - accuracy: 0.7324 - val_loss: 0.6219 - val_accuracy: 0.7252\n",
            "Epoch 3/50\n",
            "99/99 [==============================] - 4s 43ms/step - loss: 0.5780 - accuracy: 0.7365 - val_loss: 0.6461 - val_accuracy: 0.7252\n",
            "Epoch 4/50\n",
            "99/99 [==============================] - 4s 43ms/step - loss: 0.5283 - accuracy: 0.7479 - val_loss: 0.5479 - val_accuracy: 0.7514\n",
            "Epoch 5/50\n",
            "99/99 [==============================] - 6s 58ms/step - loss: 0.4783 - accuracy: 0.7870 - val_loss: 0.5383 - val_accuracy: 0.7648\n",
            "Epoch 6/50\n",
            "99/99 [==============================] - 4s 44ms/step - loss: 0.3866 - accuracy: 0.8340 - val_loss: 0.4271 - val_accuracy: 0.8314\n",
            "Epoch 7/50\n",
            "99/99 [==============================] - 4s 44ms/step - loss: 0.3105 - accuracy: 0.8784 - val_loss: 0.5117 - val_accuracy: 0.8214\n",
            "Epoch 8/50\n",
            "99/99 [==============================] - 5s 53ms/step - loss: 0.2796 - accuracy: 0.8854 - val_loss: 0.5186 - val_accuracy: 0.8238\n",
            "Epoch 9/50\n",
            "99/99 [==============================] - 5s 46ms/step - loss: 0.2368 - accuracy: 0.9057 - val_loss: 0.5246 - val_accuracy: 0.8281\n",
            "Epoch 10/50\n",
            "99/99 [==============================] - 4s 44ms/step - loss: 0.2040 - accuracy: 0.9124 - val_loss: 0.7652 - val_accuracy: 0.8038\n",
            "Epoch 11/50\n",
            "99/99 [==============================] - 5s 53ms/step - loss: 0.1915 - accuracy: 0.9286 - val_loss: 0.5905 - val_accuracy: 0.8200\n",
            "Epoch 12/50\n",
            "99/99 [==============================] - 4s 43ms/step - loss: 0.1806 - accuracy: 0.9286 - val_loss: 0.5753 - val_accuracy: 0.8148\n",
            "Epoch 13/50\n",
            "99/99 [==============================] - 4s 45ms/step - loss: 0.1797 - accuracy: 0.9324 - val_loss: 0.3886 - val_accuracy: 0.8638\n",
            "Epoch 14/50\n",
            "99/99 [==============================] - 5s 51ms/step - loss: 0.1758 - accuracy: 0.9330 - val_loss: 0.6111 - val_accuracy: 0.8057\n",
            "Epoch 15/50\n",
            "99/99 [==============================] - 4s 44ms/step - loss: 0.1714 - accuracy: 0.9283 - val_loss: 0.3408 - val_accuracy: 0.9029\n",
            "Epoch 16/50\n",
            "99/99 [==============================] - 5s 52ms/step - loss: 0.1843 - accuracy: 0.9333 - val_loss: 0.3364 - val_accuracy: 0.8962\n",
            "Epoch 17/50\n",
            "99/99 [==============================] - 5s 48ms/step - loss: 0.1649 - accuracy: 0.9460 - val_loss: 0.2659 - val_accuracy: 0.9186\n",
            "Epoch 18/50\n",
            "99/99 [==============================] - 4s 43ms/step - loss: 0.1717 - accuracy: 0.9340 - val_loss: 0.2149 - val_accuracy: 0.9262\n",
            "Epoch 19/50\n",
            "99/99 [==============================] - 5s 52ms/step - loss: 0.1155 - accuracy: 0.9581 - val_loss: 0.4493 - val_accuracy: 0.8814\n",
            "Epoch 20/50\n",
            "99/99 [==============================] - 4s 45ms/step - loss: 0.1326 - accuracy: 0.9552 - val_loss: 0.4042 - val_accuracy: 0.8967\n",
            "Epoch 21/50\n",
            "99/99 [==============================] - 4s 43ms/step - loss: 0.1919 - accuracy: 0.9279 - val_loss: 0.2782 - val_accuracy: 0.9119\n",
            "Epoch 22/50\n",
            "99/99 [==============================] - 6s 58ms/step - loss: 0.1056 - accuracy: 0.9625 - val_loss: 0.5554 - val_accuracy: 0.8700\n",
            "Epoch 23/50\n",
            "99/99 [==============================] - 4s 43ms/step - loss: 0.0739 - accuracy: 0.9730 - val_loss: 0.4868 - val_accuracy: 0.8943\n",
            "Epoch 24/50\n",
            "99/99 [==============================] - 4s 43ms/step - loss: 0.0668 - accuracy: 0.9775 - val_loss: 0.7150 - val_accuracy: 0.8581\n",
            "Epoch 25/50\n",
            "99/99 [==============================] - 6s 62ms/step - loss: 0.0724 - accuracy: 0.9746 - val_loss: 0.5034 - val_accuracy: 0.8929\n",
            "Epoch 26/50\n",
            "99/99 [==============================] - 4s 44ms/step - loss: 0.0681 - accuracy: 0.9778 - val_loss: 0.4599 - val_accuracy: 0.8957\n",
            "Epoch 27/50\n",
            "99/99 [==============================] - 4s 43ms/step - loss: 0.0729 - accuracy: 0.9762 - val_loss: 0.3508 - val_accuracy: 0.9252\n",
            "Epoch 28/50\n",
            "99/99 [==============================] - 5s 52ms/step - loss: 0.0889 - accuracy: 0.9705 - val_loss: 0.2388 - val_accuracy: 0.9338\n",
            "Epoch 29/50\n",
            "99/99 [==============================] - 4s 44ms/step - loss: 0.0968 - accuracy: 0.9651 - val_loss: 0.2301 - val_accuracy: 0.9310\n",
            "Epoch 30/50\n",
            "99/99 [==============================] - 5s 51ms/step - loss: 0.0799 - accuracy: 0.9737 - val_loss: 0.2146 - val_accuracy: 0.9248\n",
            "Epoch 31/50\n",
            "99/99 [==============================] - 5s 47ms/step - loss: 0.0880 - accuracy: 0.9695 - val_loss: 0.3493 - val_accuracy: 0.9171\n",
            "Epoch 32/50\n",
            "99/99 [==============================] - 4s 44ms/step - loss: 0.0802 - accuracy: 0.9749 - val_loss: 0.2499 - val_accuracy: 0.9271\n",
            "Epoch 33/50\n",
            "99/99 [==============================] - 5s 56ms/step - loss: 0.0716 - accuracy: 0.9749 - val_loss: 0.4443 - val_accuracy: 0.8938\n",
            "Epoch 34/50\n",
            "99/99 [==============================] - 4s 43ms/step - loss: 0.1137 - accuracy: 0.9578 - val_loss: 0.2198 - val_accuracy: 0.9376\n",
            "Epoch 35/50\n",
            "99/99 [==============================] - 4s 44ms/step - loss: 0.0878 - accuracy: 0.9721 - val_loss: 0.3802 - val_accuracy: 0.9100\n",
            "Epoch 36/50\n",
            "99/99 [==============================] - 7s 68ms/step - loss: 0.0446 - accuracy: 0.9857 - val_loss: 0.5135 - val_accuracy: 0.8890\n",
            "Epoch 37/50\n",
            "99/99 [==============================] - 5s 46ms/step - loss: 0.0491 - accuracy: 0.9819 - val_loss: 0.3996 - val_accuracy: 0.8981\n",
            "Epoch 38/50\n",
            "99/99 [==============================] - 4s 44ms/step - loss: 0.1376 - accuracy: 0.9508 - val_loss: 0.2743 - val_accuracy: 0.9048\n",
            "Epoch 39/50\n",
            "99/99 [==============================] - 5s 51ms/step - loss: 0.0923 - accuracy: 0.9708 - val_loss: 0.3094 - val_accuracy: 0.9171\n",
            "Epoch 40/50\n",
            "99/99 [==============================] - 4s 44ms/step - loss: 0.0703 - accuracy: 0.9762 - val_loss: 0.3134 - val_accuracy: 0.9210\n",
            "Epoch 41/50\n",
            "99/99 [==============================] - 4s 43ms/step - loss: 0.0785 - accuracy: 0.9746 - val_loss: 0.3440 - val_accuracy: 0.9286\n",
            "Epoch 42/50\n",
            "99/99 [==============================] - 5s 52ms/step - loss: 0.0714 - accuracy: 0.9765 - val_loss: 0.4781 - val_accuracy: 0.9262\n",
            "Epoch 43/50\n",
            "99/99 [==============================] - 4s 43ms/step - loss: 0.0478 - accuracy: 0.9825 - val_loss: 0.3934 - val_accuracy: 0.9219\n",
            "Epoch 44/50\n",
            "99/99 [==============================] - 5s 51ms/step - loss: 0.0792 - accuracy: 0.9752 - val_loss: 0.3459 - val_accuracy: 0.9329\n",
            "Epoch 45/50\n",
            "99/99 [==============================] - 5s 47ms/step - loss: 0.0484 - accuracy: 0.9848 - val_loss: 0.2780 - val_accuracy: 0.9362\n",
            "Epoch 46/50\n",
            "99/99 [==============================] - 4s 44ms/step - loss: 0.0488 - accuracy: 0.9835 - val_loss: 0.3691 - val_accuracy: 0.9233\n",
            "Epoch 47/50\n",
            "99/99 [==============================] - 5s 52ms/step - loss: 0.0650 - accuracy: 0.9784 - val_loss: 0.2834 - val_accuracy: 0.9305\n",
            "Epoch 48/50\n",
            "99/99 [==============================] - 5s 46ms/step - loss: 0.0303 - accuracy: 0.9898 - val_loss: 0.2732 - val_accuracy: 0.9352\n",
            "Epoch 49/50\n",
            "99/99 [==============================] - 4s 44ms/step - loss: 0.0124 - accuracy: 0.9952 - val_loss: 0.4811 - val_accuracy: 0.9186\n",
            "Epoch 50/50\n",
            "99/99 [==============================] - 5s 53ms/step - loss: 0.0199 - accuracy: 0.9933 - val_loss: 0.3683 - val_accuracy: 0.9362\n",
            "Best epoch: 34\n"
          ]
        }
      ]
    },
    {
      "cell_type": "code",
      "source": [
        "hypermodel = tuner.hypermodel.build(best_hps)\n",
        "\n",
        "# Retrain the model\n",
        "hypermodel.fit(X,y, epochs=best_epoch, validation_split=0.4)"
      ],
      "metadata": {
        "colab": {
          "base_uri": "https://localhost:8080/"
        },
        "id": "o0JXPcVS6qFT",
        "outputId": "6d462dc7-8e17-44e5-c6c8-075dc55620da"
      },
      "execution_count": null,
      "outputs": [
        {
          "output_type": "stream",
          "name": "stdout",
          "text": [
            "Epoch 1/34\n",
            "99/99 [==============================] - 44s 61ms/step - loss: 1.1273 - accuracy: 0.7079 - val_loss: 0.6342 - val_accuracy: 0.7252\n",
            "Epoch 2/34\n",
            "99/99 [==============================] - 4s 44ms/step - loss: 0.6274 - accuracy: 0.7356 - val_loss: 0.6261 - val_accuracy: 0.7252\n",
            "Epoch 3/34\n",
            "99/99 [==============================] - 5s 53ms/step - loss: 0.5860 - accuracy: 0.7387 - val_loss: 0.6096 - val_accuracy: 0.7252\n",
            "Epoch 4/34\n",
            "99/99 [==============================] - 4s 44ms/step - loss: 0.5394 - accuracy: 0.7397 - val_loss: 0.5709 - val_accuracy: 0.7252\n",
            "Epoch 5/34\n",
            "99/99 [==============================] - 4s 45ms/step - loss: 0.4827 - accuracy: 0.7841 - val_loss: 0.4214 - val_accuracy: 0.8224\n",
            "Epoch 6/34\n",
            "99/99 [==============================] - 5s 53ms/step - loss: 0.3889 - accuracy: 0.8416 - val_loss: 0.4555 - val_accuracy: 0.8381\n",
            "Epoch 7/34\n",
            "99/99 [==============================] - 4s 44ms/step - loss: 0.2864 - accuracy: 0.8905 - val_loss: 0.5133 - val_accuracy: 0.8190\n",
            "Epoch 8/34\n",
            "99/99 [==============================] - 5s 53ms/step - loss: 0.2430 - accuracy: 0.9121 - val_loss: 0.6186 - val_accuracy: 0.8390\n",
            "Epoch 9/34\n",
            "99/99 [==============================] - 5s 46ms/step - loss: 0.1979 - accuracy: 0.9295 - val_loss: 0.3579 - val_accuracy: 0.8862\n",
            "Epoch 10/34\n",
            "99/99 [==============================] - 4s 45ms/step - loss: 0.1604 - accuracy: 0.9406 - val_loss: 0.5232 - val_accuracy: 0.8471\n",
            "Epoch 11/34\n",
            "99/99 [==============================] - 5s 51ms/step - loss: 0.1391 - accuracy: 0.9527 - val_loss: 0.4838 - val_accuracy: 0.8590\n",
            "Epoch 12/34\n",
            "99/99 [==============================] - 4s 45ms/step - loss: 0.1354 - accuracy: 0.9530 - val_loss: 0.6223 - val_accuracy: 0.8414\n",
            "Epoch 13/34\n",
            "99/99 [==============================] - 4s 45ms/step - loss: 0.1287 - accuracy: 0.9508 - val_loss: 0.5578 - val_accuracy: 0.8790\n",
            "Epoch 14/34\n",
            "99/99 [==============================] - 5s 53ms/step - loss: 0.1131 - accuracy: 0.9635 - val_loss: 0.4158 - val_accuracy: 0.8857\n",
            "Epoch 15/34\n",
            "99/99 [==============================] - 4s 45ms/step - loss: 0.1110 - accuracy: 0.9597 - val_loss: 0.4868 - val_accuracy: 0.8552\n",
            "Epoch 16/34\n",
            "99/99 [==============================] - 5s 54ms/step - loss: 0.1006 - accuracy: 0.9667 - val_loss: 0.3028 - val_accuracy: 0.9062\n",
            "Epoch 17/34\n",
            "99/99 [==============================] - 5s 46ms/step - loss: 0.1426 - accuracy: 0.9457 - val_loss: 0.4052 - val_accuracy: 0.8862\n",
            "Epoch 18/34\n",
            "99/99 [==============================] - 4s 44ms/step - loss: 0.0880 - accuracy: 0.9702 - val_loss: 0.5177 - val_accuracy: 0.8462\n",
            "Epoch 19/34\n",
            "99/99 [==============================] - 5s 54ms/step - loss: 0.0746 - accuracy: 0.9737 - val_loss: 0.5814 - val_accuracy: 0.8710\n",
            "Epoch 20/34\n",
            "99/99 [==============================] - 4s 45ms/step - loss: 0.0977 - accuracy: 0.9619 - val_loss: 0.4574 - val_accuracy: 0.8671\n",
            "Epoch 21/34\n",
            "99/99 [==============================] - 4s 43ms/step - loss: 0.0966 - accuracy: 0.9673 - val_loss: 0.6375 - val_accuracy: 0.8786\n",
            "Epoch 22/34\n",
            "99/99 [==============================] - 5s 51ms/step - loss: 0.0817 - accuracy: 0.9686 - val_loss: 0.3924 - val_accuracy: 0.8995\n",
            "Epoch 23/34\n",
            "99/99 [==============================] - 4s 44ms/step - loss: 0.0798 - accuracy: 0.9730 - val_loss: 0.4807 - val_accuracy: 0.8881\n",
            "Epoch 24/34\n",
            "99/99 [==============================] - 5s 54ms/step - loss: 0.0576 - accuracy: 0.9829 - val_loss: 0.3245 - val_accuracy: 0.9138\n",
            "Epoch 25/34\n",
            "99/99 [==============================] - 5s 45ms/step - loss: 0.0667 - accuracy: 0.9778 - val_loss: 0.6126 - val_accuracy: 0.8733\n",
            "Epoch 26/34\n",
            "99/99 [==============================] - 4s 45ms/step - loss: 0.0784 - accuracy: 0.9724 - val_loss: 0.2921 - val_accuracy: 0.9181\n",
            "Epoch 27/34\n",
            "99/99 [==============================] - 5s 52ms/step - loss: 0.1231 - accuracy: 0.9511 - val_loss: 0.3265 - val_accuracy: 0.9076\n",
            "Epoch 28/34\n",
            "99/99 [==============================] - 4s 44ms/step - loss: 0.0642 - accuracy: 0.9790 - val_loss: 0.3745 - val_accuracy: 0.9086\n",
            "Epoch 29/34\n",
            "99/99 [==============================] - 4s 44ms/step - loss: 0.0941 - accuracy: 0.9625 - val_loss: 0.3655 - val_accuracy: 0.9014\n",
            "Epoch 30/34\n",
            "99/99 [==============================] - 5s 51ms/step - loss: 0.0816 - accuracy: 0.9730 - val_loss: 0.3081 - val_accuracy: 0.9090\n",
            "Epoch 31/34\n",
            "99/99 [==============================] - 4s 43ms/step - loss: 0.0579 - accuracy: 0.9787 - val_loss: 0.6767 - val_accuracy: 0.8757\n",
            "Epoch 32/34\n",
            "99/99 [==============================] - 5s 47ms/step - loss: 0.0684 - accuracy: 0.9781 - val_loss: 0.3560 - val_accuracy: 0.9143\n",
            "Epoch 33/34\n",
            "99/99 [==============================] - 5s 49ms/step - loss: 0.0393 - accuracy: 0.9867 - val_loss: 0.4675 - val_accuracy: 0.8943\n",
            "Epoch 34/34\n",
            "99/99 [==============================] - 4s 45ms/step - loss: 0.0555 - accuracy: 0.9829 - val_loss: 0.3087 - val_accuracy: 0.9252\n"
          ]
        },
        {
          "output_type": "execute_result",
          "data": {
            "text/plain": [
              "<keras.callbacks.History at 0x7f45d82148b0>"
            ]
          },
          "metadata": {},
          "execution_count": 28
        }
      ]
    },
    {
      "cell_type": "code",
      "source": [
        "X_train,X_val,y_train,y_val = train_test_split(X,y,test_size = 0.4)"
      ],
      "metadata": {
        "id": "RtK9soagAOmf"
      },
      "execution_count": null,
      "outputs": []
    },
    {
      "cell_type": "code",
      "source": [
        "y_pred_val = hypermodel.predict(X_val)\n",
        "y_pred_final = np.zeros([y_pred_val.shape[0],1])\n",
        "for i in range(y_pred_val.shape[0]):\n",
        "  if(y_pred_val[i][0]>y_pred_val[i][1]):\n",
        "    y_pred_final[i] = 0\n",
        "  else:\n",
        "    y_pred_final[i] = 1"
      ],
      "metadata": {
        "id": "0hjGFIp1_cl1",
        "colab": {
          "base_uri": "https://localhost:8080/"
        },
        "outputId": "339fe01d-4c6b-4d42-d62f-6426e096d121"
      },
      "execution_count": null,
      "outputs": [
        {
          "output_type": "stream",
          "name": "stdout",
          "text": [
            "66/66 [==============================] - 1s 9ms/step\n"
          ]
        }
      ]
    },
    {
      "cell_type": "code",
      "source": [
        "y_pred_val"
      ],
      "metadata": {
        "id": "MIZ3ubA0LYy4",
        "colab": {
          "base_uri": "https://localhost:8080/"
        },
        "outputId": "49dcc956-f22e-412d-a134-def8aad9f835"
      },
      "execution_count": null,
      "outputs": [
        {
          "output_type": "execute_result",
          "data": {
            "text/plain": [
              "array([[9.8469430e-01, 1.5305687e-02],\n",
              "       [9.9996901e-01, 3.0972333e-05],\n",
              "       [1.0825742e-02, 9.8917425e-01],\n",
              "       ...,\n",
              "       [9.9993873e-01, 6.1311970e-05],\n",
              "       [9.8412554e-04, 9.9901581e-01],\n",
              "       [9.9742532e-01, 2.5746527e-03]], dtype=float32)"
            ]
          },
          "metadata": {},
          "execution_count": 31
        }
      ]
    },
    {
      "cell_type": "code",
      "source": [
        "f1_score(y_val,y_pred_final)"
      ],
      "metadata": {
        "id": "IehNJUXsLPTA",
        "colab": {
          "base_uri": "https://localhost:8080/"
        },
        "outputId": "8189089b-1977-4a69-9d1d-15649dca0017"
      },
      "execution_count": null,
      "outputs": [
        {
          "output_type": "execute_result",
          "data": {
            "text/plain": [
              "0.9233543733092876"
            ]
          },
          "metadata": {},
          "execution_count": 33
        }
      ]
    },
    {
      "cell_type": "code",
      "source": [
        "df_test.head()"
      ],
      "metadata": {
        "colab": {
          "base_uri": "https://localhost:8080/",
          "height": 299
        },
        "id": "NQLxaBPF4_ae",
        "outputId": "5bb61adc-59b1-47a7-bea8-150e93a80957"
      },
      "execution_count": null,
      "outputs": [
        {
          "output_type": "execute_result",
          "data": {
            "text/plain": [
              "   id       f_0       f_1       f_2       f_3       f_4       f_5       f_6  \\\n",
              "0   1 -3.388242  0.868285 -0.427619 -0.678964 -1.625735  0.262761  1.243040   \n",
              "1   2 -0.496920  0.952381  0.989040  0.451422  0.513516 -0.099658 -1.124326   \n",
              "2   3  1.128369 -0.537951  2.544358  1.165254 -1.904994  0.776961 -0.495768   \n",
              "3   4  0.051253  1.746814  0.681177  1.844524 -0.327977  1.226839 -0.085519   \n",
              "4   5  1.423209 -0.983594 -1.694170  1.197507  1.044211  0.518777 -0.298612   \n",
              "\n",
              "        f_7       f_8  ...    f_1190    f_1191    f_1192    f_1193    f_1194  \\\n",
              "0  1.537751 -0.352028  ... -0.776403 -0.662884 -0.257091 -1.168413  0.223260   \n",
              "1  0.729430 -0.216224  ...  0.379635 -1.760084  1.125450 -0.328047 -0.880305   \n",
              "2  0.060111 -1.418468  ...  1.165254 -1.373589 -0.483701 -0.964782 -0.869555   \n",
              "3  0.379008 -1.003667  ... -0.442288 -2.794472 -0.763468 -0.789832 -0.113209   \n",
              "4 -0.365174  0.738447  ... -2.624450 -3.200223  0.711422 -0.190394  0.337224   \n",
              "\n",
              "     f_1195    f_1196    f_1197    f_1198    f_1199  \n",
              "0 -0.482520 -0.085453 -0.382265 -0.539349 -1.682404  \n",
              "1 -1.257607  0.964312  2.021104  0.655021 -0.423029  \n",
              "2  0.066040 -0.444567 -0.531935 -0.878660  1.099488  \n",
              "3 -2.703150 -2.058728  1.070627 -0.458045 -0.435825  \n",
              "4 -1.656639  0.707360 -0.562290  1.471181 -0.192000  \n",
              "\n",
              "[5 rows x 1201 columns]"
            ],
            "text/html": [
              "\n",
              "  <div id=\"df-338a17ff-06b9-45e2-9e23-06766cffb067\">\n",
              "    <div class=\"colab-df-container\">\n",
              "      <div>\n",
              "<style scoped>\n",
              "    .dataframe tbody tr th:only-of-type {\n",
              "        vertical-align: middle;\n",
              "    }\n",
              "\n",
              "    .dataframe tbody tr th {\n",
              "        vertical-align: top;\n",
              "    }\n",
              "\n",
              "    .dataframe thead th {\n",
              "        text-align: right;\n",
              "    }\n",
              "</style>\n",
              "<table border=\"1\" class=\"dataframe\">\n",
              "  <thead>\n",
              "    <tr style=\"text-align: right;\">\n",
              "      <th></th>\n",
              "      <th>id</th>\n",
              "      <th>f_0</th>\n",
              "      <th>f_1</th>\n",
              "      <th>f_2</th>\n",
              "      <th>f_3</th>\n",
              "      <th>f_4</th>\n",
              "      <th>f_5</th>\n",
              "      <th>f_6</th>\n",
              "      <th>f_7</th>\n",
              "      <th>f_8</th>\n",
              "      <th>...</th>\n",
              "      <th>f_1190</th>\n",
              "      <th>f_1191</th>\n",
              "      <th>f_1192</th>\n",
              "      <th>f_1193</th>\n",
              "      <th>f_1194</th>\n",
              "      <th>f_1195</th>\n",
              "      <th>f_1196</th>\n",
              "      <th>f_1197</th>\n",
              "      <th>f_1198</th>\n",
              "      <th>f_1199</th>\n",
              "    </tr>\n",
              "  </thead>\n",
              "  <tbody>\n",
              "    <tr>\n",
              "      <th>0</th>\n",
              "      <td>1</td>\n",
              "      <td>-3.388242</td>\n",
              "      <td>0.868285</td>\n",
              "      <td>-0.427619</td>\n",
              "      <td>-0.678964</td>\n",
              "      <td>-1.625735</td>\n",
              "      <td>0.262761</td>\n",
              "      <td>1.243040</td>\n",
              "      <td>1.537751</td>\n",
              "      <td>-0.352028</td>\n",
              "      <td>...</td>\n",
              "      <td>-0.776403</td>\n",
              "      <td>-0.662884</td>\n",
              "      <td>-0.257091</td>\n",
              "      <td>-1.168413</td>\n",
              "      <td>0.223260</td>\n",
              "      <td>-0.482520</td>\n",
              "      <td>-0.085453</td>\n",
              "      <td>-0.382265</td>\n",
              "      <td>-0.539349</td>\n",
              "      <td>-1.682404</td>\n",
              "    </tr>\n",
              "    <tr>\n",
              "      <th>1</th>\n",
              "      <td>2</td>\n",
              "      <td>-0.496920</td>\n",
              "      <td>0.952381</td>\n",
              "      <td>0.989040</td>\n",
              "      <td>0.451422</td>\n",
              "      <td>0.513516</td>\n",
              "      <td>-0.099658</td>\n",
              "      <td>-1.124326</td>\n",
              "      <td>0.729430</td>\n",
              "      <td>-0.216224</td>\n",
              "      <td>...</td>\n",
              "      <td>0.379635</td>\n",
              "      <td>-1.760084</td>\n",
              "      <td>1.125450</td>\n",
              "      <td>-0.328047</td>\n",
              "      <td>-0.880305</td>\n",
              "      <td>-1.257607</td>\n",
              "      <td>0.964312</td>\n",
              "      <td>2.021104</td>\n",
              "      <td>0.655021</td>\n",
              "      <td>-0.423029</td>\n",
              "    </tr>\n",
              "    <tr>\n",
              "      <th>2</th>\n",
              "      <td>3</td>\n",
              "      <td>1.128369</td>\n",
              "      <td>-0.537951</td>\n",
              "      <td>2.544358</td>\n",
              "      <td>1.165254</td>\n",
              "      <td>-1.904994</td>\n",
              "      <td>0.776961</td>\n",
              "      <td>-0.495768</td>\n",
              "      <td>0.060111</td>\n",
              "      <td>-1.418468</td>\n",
              "      <td>...</td>\n",
              "      <td>1.165254</td>\n",
              "      <td>-1.373589</td>\n",
              "      <td>-0.483701</td>\n",
              "      <td>-0.964782</td>\n",
              "      <td>-0.869555</td>\n",
              "      <td>0.066040</td>\n",
              "      <td>-0.444567</td>\n",
              "      <td>-0.531935</td>\n",
              "      <td>-0.878660</td>\n",
              "      <td>1.099488</td>\n",
              "    </tr>\n",
              "    <tr>\n",
              "      <th>3</th>\n",
              "      <td>4</td>\n",
              "      <td>0.051253</td>\n",
              "      <td>1.746814</td>\n",
              "      <td>0.681177</td>\n",
              "      <td>1.844524</td>\n",
              "      <td>-0.327977</td>\n",
              "      <td>1.226839</td>\n",
              "      <td>-0.085519</td>\n",
              "      <td>0.379008</td>\n",
              "      <td>-1.003667</td>\n",
              "      <td>...</td>\n",
              "      <td>-0.442288</td>\n",
              "      <td>-2.794472</td>\n",
              "      <td>-0.763468</td>\n",
              "      <td>-0.789832</td>\n",
              "      <td>-0.113209</td>\n",
              "      <td>-2.703150</td>\n",
              "      <td>-2.058728</td>\n",
              "      <td>1.070627</td>\n",
              "      <td>-0.458045</td>\n",
              "      <td>-0.435825</td>\n",
              "    </tr>\n",
              "    <tr>\n",
              "      <th>4</th>\n",
              "      <td>5</td>\n",
              "      <td>1.423209</td>\n",
              "      <td>-0.983594</td>\n",
              "      <td>-1.694170</td>\n",
              "      <td>1.197507</td>\n",
              "      <td>1.044211</td>\n",
              "      <td>0.518777</td>\n",
              "      <td>-0.298612</td>\n",
              "      <td>-0.365174</td>\n",
              "      <td>0.738447</td>\n",
              "      <td>...</td>\n",
              "      <td>-2.624450</td>\n",
              "      <td>-3.200223</td>\n",
              "      <td>0.711422</td>\n",
              "      <td>-0.190394</td>\n",
              "      <td>0.337224</td>\n",
              "      <td>-1.656639</td>\n",
              "      <td>0.707360</td>\n",
              "      <td>-0.562290</td>\n",
              "      <td>1.471181</td>\n",
              "      <td>-0.192000</td>\n",
              "    </tr>\n",
              "  </tbody>\n",
              "</table>\n",
              "<p>5 rows × 1201 columns</p>\n",
              "</div>\n",
              "      <button class=\"colab-df-convert\" onclick=\"convertToInteractive('df-338a17ff-06b9-45e2-9e23-06766cffb067')\"\n",
              "              title=\"Convert this dataframe to an interactive table.\"\n",
              "              style=\"display:none;\">\n",
              "        \n",
              "  <svg xmlns=\"http://www.w3.org/2000/svg\" height=\"24px\"viewBox=\"0 0 24 24\"\n",
              "       width=\"24px\">\n",
              "    <path d=\"M0 0h24v24H0V0z\" fill=\"none\"/>\n",
              "    <path d=\"M18.56 5.44l.94 2.06.94-2.06 2.06-.94-2.06-.94-.94-2.06-.94 2.06-2.06.94zm-11 1L8.5 8.5l.94-2.06 2.06-.94-2.06-.94L8.5 2.5l-.94 2.06-2.06.94zm10 10l.94 2.06.94-2.06 2.06-.94-2.06-.94-.94-2.06-.94 2.06-2.06.94z\"/><path d=\"M17.41 7.96l-1.37-1.37c-.4-.4-.92-.59-1.43-.59-.52 0-1.04.2-1.43.59L10.3 9.45l-7.72 7.72c-.78.78-.78 2.05 0 2.83L4 21.41c.39.39.9.59 1.41.59.51 0 1.02-.2 1.41-.59l7.78-7.78 2.81-2.81c.8-.78.8-2.07 0-2.86zM5.41 20L4 18.59l7.72-7.72 1.47 1.35L5.41 20z\"/>\n",
              "  </svg>\n",
              "      </button>\n",
              "      \n",
              "  <style>\n",
              "    .colab-df-container {\n",
              "      display:flex;\n",
              "      flex-wrap:wrap;\n",
              "      gap: 12px;\n",
              "    }\n",
              "\n",
              "    .colab-df-convert {\n",
              "      background-color: #E8F0FE;\n",
              "      border: none;\n",
              "      border-radius: 50%;\n",
              "      cursor: pointer;\n",
              "      display: none;\n",
              "      fill: #1967D2;\n",
              "      height: 32px;\n",
              "      padding: 0 0 0 0;\n",
              "      width: 32px;\n",
              "    }\n",
              "\n",
              "    .colab-df-convert:hover {\n",
              "      background-color: #E2EBFA;\n",
              "      box-shadow: 0px 1px 2px rgba(60, 64, 67, 0.3), 0px 1px 3px 1px rgba(60, 64, 67, 0.15);\n",
              "      fill: #174EA6;\n",
              "    }\n",
              "\n",
              "    [theme=dark] .colab-df-convert {\n",
              "      background-color: #3B4455;\n",
              "      fill: #D2E3FC;\n",
              "    }\n",
              "\n",
              "    [theme=dark] .colab-df-convert:hover {\n",
              "      background-color: #434B5C;\n",
              "      box-shadow: 0px 1px 3px 1px rgba(0, 0, 0, 0.15);\n",
              "      filter: drop-shadow(0px 1px 2px rgba(0, 0, 0, 0.3));\n",
              "      fill: #FFFFFF;\n",
              "    }\n",
              "  </style>\n",
              "\n",
              "      <script>\n",
              "        const buttonEl =\n",
              "          document.querySelector('#df-338a17ff-06b9-45e2-9e23-06766cffb067 button.colab-df-convert');\n",
              "        buttonEl.style.display =\n",
              "          google.colab.kernel.accessAllowed ? 'block' : 'none';\n",
              "\n",
              "        async function convertToInteractive(key) {\n",
              "          const element = document.querySelector('#df-338a17ff-06b9-45e2-9e23-06766cffb067');\n",
              "          const dataTable =\n",
              "            await google.colab.kernel.invokeFunction('convertToInteractive',\n",
              "                                                     [key], {});\n",
              "          if (!dataTable) return;\n",
              "\n",
              "          const docLinkHtml = 'Like what you see? Visit the ' +\n",
              "            '<a target=\"_blank\" href=https://colab.research.google.com/notebooks/data_table.ipynb>data table notebook</a>'\n",
              "            + ' to learn more about interactive tables.';\n",
              "          element.innerHTML = '';\n",
              "          dataTable['output_type'] = 'display_data';\n",
              "          await google.colab.output.renderOutput(dataTable, element);\n",
              "          const docLink = document.createElement('div');\n",
              "          docLink.innerHTML = docLinkHtml;\n",
              "          element.appendChild(docLink);\n",
              "        }\n",
              "      </script>\n",
              "    </div>\n",
              "  </div>\n",
              "  "
            ]
          },
          "metadata": {},
          "execution_count": 34
        }
      ]
    },
    {
      "cell_type": "code",
      "source": [
        "X_test = df_test.drop('id',axis = 1).to_numpy()\n",
        "id = df_test['id'].to_numpy()\n",
        "X_test = X_test.reshape(-1,20,20,3)\n",
        "id = id.reshape(-1,1)"
      ],
      "metadata": {
        "id": "FLuyxscW5RAY"
      },
      "execution_count": null,
      "outputs": []
    },
    {
      "cell_type": "code",
      "source": [
        "y_test = hypermodel.predict(X_test)\n",
        "y_test_final = np.zeros([y_test.shape[0],1])\n",
        "for i in range(y_test.shape[0]):\n",
        "  if(y_test[i][0]>y_test[i][1]):\n",
        "    y_test_final[i] = 0\n",
        "  else:\n",
        "    y_test_final[i] = 1"
      ],
      "metadata": {
        "colab": {
          "base_uri": "https://localhost:8080/"
        },
        "id": "Z2UD_t-D5hyV",
        "outputId": "f797cae1-cb5c-4e53-e392-f0614df747fd"
      },
      "execution_count": null,
      "outputs": [
        {
          "output_type": "stream",
          "name": "stdout",
          "text": [
            "71/71 [==============================] - 1s 11ms/step\n"
          ]
        }
      ]
    },
    {
      "cell_type": "code",
      "source": [
        "ans = np.concatenate([id,y_test_final],axis = 1)"
      ],
      "metadata": {
        "id": "bcIW5bJF5l-a"
      },
      "execution_count": null,
      "outputs": []
    },
    {
      "cell_type": "code",
      "source": [
        "submission = pd.DataFrame(ans,columns = ['id','labels'])"
      ],
      "metadata": {
        "id": "naIDQrJL6Ahw"
      },
      "execution_count": null,
      "outputs": []
    },
    {
      "cell_type": "code",
      "source": [
        "submission.to_csv('res50.csv')"
      ],
      "metadata": {
        "id": "tNjuleFf6Hji"
      },
      "execution_count": null,
      "outputs": []
    }
  ],
  "metadata": {
    "accelerator": "GPU",
    "colab": {
      "provenance": [],
      "gpuType": "T4",
      "include_colab_link": true
    },
    "kernelspec": {
      "display_name": "Python 3",
      "name": "python3"
    },
    "language_info": {
      "name": "python"
    }
  },
  "nbformat": 4,
  "nbformat_minor": 0
}